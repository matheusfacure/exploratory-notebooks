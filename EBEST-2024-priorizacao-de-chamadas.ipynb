{
 "cells": [
  {
   "cell_type": "code",
   "execution_count": 45,
   "id": "44ddf012",
   "metadata": {
    "ExecuteTime": {
     "end_time": "2024-10-07T13:15:49.459636Z",
     "start_time": "2024-10-07T13:15:49.440902Z"
    }
   },
   "outputs": [],
   "source": [
    "import pandas as pd\n",
    "import numpy as np\n",
    "from matplotlib import pyplot as plt\n",
    "\n",
    "from scipy.special import expit"
   ]
  },
  {
   "cell_type": "markdown",
   "id": "cb8c812f",
   "metadata": {},
   "source": [
    "$$\n",
    "Y_i^* = \\alpha + \\beta_1  call_i + \\beta_2 call_i X_i + \\theta X_i + e_i\n",
    "$$\n",
    "\n",
    "$$\n",
    "Y_i = \\dfrac{1}{1+e^{-Y_i^*}}\n",
    "$$"
   ]
  },
  {
   "cell_type": "code",
   "execution_count": 59,
   "id": "e38d51b1",
   "metadata": {
    "ExecuteTime": {
     "end_time": "2024-10-07T13:16:03.842190Z",
     "start_time": "2024-10-07T13:16:03.771627Z"
    }
   },
   "outputs": [
    {
     "data": {
      "text/html": [
       "<div>\n",
       "<style scoped>\n",
       "    .dataframe tbody tr th:only-of-type {\n",
       "        vertical-align: middle;\n",
       "    }\n",
       "\n",
       "    .dataframe tbody tr th {\n",
       "        vertical-align: top;\n",
       "    }\n",
       "\n",
       "    .dataframe thead th {\n",
       "        text-align: right;\n",
       "    }\n",
       "</style>\n",
       "<table border=\"1\" class=\"dataframe\">\n",
       "  <thead>\n",
       "    <tr style=\"text-align: right;\">\n",
       "      <th></th>\n",
       "      <th>agreement</th>\n",
       "      <th>call</th>\n",
       "      <th>x0</th>\n",
       "      <th>x1</th>\n",
       "      <th>x2</th>\n",
       "      <th>x3</th>\n",
       "      <th>x4</th>\n",
       "      <th>x5</th>\n",
       "      <th>x6</th>\n",
       "      <th>x7</th>\n",
       "      <th>x8</th>\n",
       "      <th>x9</th>\n",
       "    </tr>\n",
       "  </thead>\n",
       "  <tbody>\n",
       "    <tr>\n",
       "      <th>0</th>\n",
       "      <td>0</td>\n",
       "      <td>1</td>\n",
       "      <td>1.564163</td>\n",
       "      <td>0.091429</td>\n",
       "      <td>1.388867</td>\n",
       "      <td>0.240799</td>\n",
       "      <td>0.154027</td>\n",
       "      <td>-1.050472</td>\n",
       "      <td>2.312805</td>\n",
       "      <td>-1.026806</td>\n",
       "      <td>0.210003</td>\n",
       "      <td>0.037489</td>\n",
       "    </tr>\n",
       "    <tr>\n",
       "      <th>1</th>\n",
       "      <td>1</td>\n",
       "      <td>1</td>\n",
       "      <td>-1.492450</td>\n",
       "      <td>-0.675429</td>\n",
       "      <td>-0.656971</td>\n",
       "      <td>1.023002</td>\n",
       "      <td>-0.774588</td>\n",
       "      <td>0.507497</td>\n",
       "      <td>0.355742</td>\n",
       "      <td>-0.437936</td>\n",
       "      <td>-1.080081</td>\n",
       "      <td>1.360770</td>\n",
       "    </tr>\n",
       "    <tr>\n",
       "      <th>2</th>\n",
       "      <td>0</td>\n",
       "      <td>1</td>\n",
       "      <td>-0.216074</td>\n",
       "      <td>-0.404754</td>\n",
       "      <td>0.179214</td>\n",
       "      <td>-0.342899</td>\n",
       "      <td>-0.524485</td>\n",
       "      <td>-1.193807</td>\n",
       "      <td>-0.040148</td>\n",
       "      <td>0.128821</td>\n",
       "      <td>-0.988354</td>\n",
       "      <td>-0.605981</td>\n",
       "    </tr>\n",
       "    <tr>\n",
       "      <th>3</th>\n",
       "      <td>0</td>\n",
       "      <td>1</td>\n",
       "      <td>0.002662</td>\n",
       "      <td>-0.354355</td>\n",
       "      <td>-1.624813</td>\n",
       "      <td>0.849674</td>\n",
       "      <td>-0.167226</td>\n",
       "      <td>-0.884153</td>\n",
       "      <td>-0.153367</td>\n",
       "      <td>0.392268</td>\n",
       "      <td>0.455826</td>\n",
       "      <td>0.756879</td>\n",
       "    </tr>\n",
       "    <tr>\n",
       "      <th>4</th>\n",
       "      <td>0</td>\n",
       "      <td>0</td>\n",
       "      <td>-0.148254</td>\n",
       "      <td>-0.579394</td>\n",
       "      <td>-0.736772</td>\n",
       "      <td>-1.012188</td>\n",
       "      <td>-0.126697</td>\n",
       "      <td>1.160276</td>\n",
       "      <td>0.846815</td>\n",
       "      <td>2.236606</td>\n",
       "      <td>-0.106393</td>\n",
       "      <td>0.547150</td>\n",
       "    </tr>\n",
       "    <tr>\n",
       "      <th>...</th>\n",
       "      <td>...</td>\n",
       "      <td>...</td>\n",
       "      <td>...</td>\n",
       "      <td>...</td>\n",
       "      <td>...</td>\n",
       "      <td>...</td>\n",
       "      <td>...</td>\n",
       "      <td>...</td>\n",
       "      <td>...</td>\n",
       "      <td>...</td>\n",
       "      <td>...</td>\n",
       "      <td>...</td>\n",
       "    </tr>\n",
       "    <tr>\n",
       "      <th>99995</th>\n",
       "      <td>0</td>\n",
       "      <td>1</td>\n",
       "      <td>0.746418</td>\n",
       "      <td>0.523360</td>\n",
       "      <td>1.744976</td>\n",
       "      <td>-0.159363</td>\n",
       "      <td>-1.361788</td>\n",
       "      <td>-0.317357</td>\n",
       "      <td>0.700818</td>\n",
       "      <td>0.474245</td>\n",
       "      <td>1.420319</td>\n",
       "      <td>-1.049133</td>\n",
       "    </tr>\n",
       "    <tr>\n",
       "      <th>99996</th>\n",
       "      <td>0</td>\n",
       "      <td>1</td>\n",
       "      <td>0.548423</td>\n",
       "      <td>1.992458</td>\n",
       "      <td>-0.149136</td>\n",
       "      <td>0.393278</td>\n",
       "      <td>0.877541</td>\n",
       "      <td>1.400714</td>\n",
       "      <td>0.263317</td>\n",
       "      <td>-0.364506</td>\n",
       "      <td>-0.000415</td>\n",
       "      <td>1.163906</td>\n",
       "    </tr>\n",
       "    <tr>\n",
       "      <th>99997</th>\n",
       "      <td>0</td>\n",
       "      <td>1</td>\n",
       "      <td>-0.734112</td>\n",
       "      <td>-0.430433</td>\n",
       "      <td>0.103465</td>\n",
       "      <td>0.578520</td>\n",
       "      <td>1.374382</td>\n",
       "      <td>-0.380007</td>\n",
       "      <td>-1.023640</td>\n",
       "      <td>0.652050</td>\n",
       "      <td>1.027991</td>\n",
       "      <td>-0.488377</td>\n",
       "    </tr>\n",
       "    <tr>\n",
       "      <th>99998</th>\n",
       "      <td>0</td>\n",
       "      <td>1</td>\n",
       "      <td>-1.252847</td>\n",
       "      <td>-1.075358</td>\n",
       "      <td>-0.295104</td>\n",
       "      <td>-0.182125</td>\n",
       "      <td>-1.069035</td>\n",
       "      <td>0.266058</td>\n",
       "      <td>-0.549152</td>\n",
       "      <td>1.055482</td>\n",
       "      <td>-0.791112</td>\n",
       "      <td>-0.347339</td>\n",
       "    </tr>\n",
       "    <tr>\n",
       "      <th>99999</th>\n",
       "      <td>0</td>\n",
       "      <td>0</td>\n",
       "      <td>-0.729641</td>\n",
       "      <td>-1.065881</td>\n",
       "      <td>-0.045931</td>\n",
       "      <td>-0.135761</td>\n",
       "      <td>0.019943</td>\n",
       "      <td>-0.661033</td>\n",
       "      <td>-0.800669</td>\n",
       "      <td>0.230657</td>\n",
       "      <td>1.801893</td>\n",
       "      <td>-0.313673</td>\n",
       "    </tr>\n",
       "  </tbody>\n",
       "</table>\n",
       "<p>100000 rows × 12 columns</p>\n",
       "</div>"
      ],
      "text/plain": [
       "       agreement  call        x0        x1        x2        x3        x4  \\\n",
       "0              0     1  1.564163  0.091429  1.388867  0.240799  0.154027   \n",
       "1              1     1 -1.492450 -0.675429 -0.656971  1.023002 -0.774588   \n",
       "2              0     1 -0.216074 -0.404754  0.179214 -0.342899 -0.524485   \n",
       "3              0     1  0.002662 -0.354355 -1.624813  0.849674 -0.167226   \n",
       "4              0     0 -0.148254 -0.579394 -0.736772 -1.012188 -0.126697   \n",
       "...          ...   ...       ...       ...       ...       ...       ...   \n",
       "99995          0     1  0.746418  0.523360  1.744976 -0.159363 -1.361788   \n",
       "99996          0     1  0.548423  1.992458 -0.149136  0.393278  0.877541   \n",
       "99997          0     1 -0.734112 -0.430433  0.103465  0.578520  1.374382   \n",
       "99998          0     1 -1.252847 -1.075358 -0.295104 -0.182125 -1.069035   \n",
       "99999          0     0 -0.729641 -1.065881 -0.045931 -0.135761  0.019943   \n",
       "\n",
       "             x5        x6        x7        x8        x9  \n",
       "0     -1.050472  2.312805 -1.026806  0.210003  0.037489  \n",
       "1      0.507497  0.355742 -0.437936 -1.080081  1.360770  \n",
       "2     -1.193807 -0.040148  0.128821 -0.988354 -0.605981  \n",
       "3     -0.884153 -0.153367  0.392268  0.455826  0.756879  \n",
       "4      1.160276  0.846815  2.236606 -0.106393  0.547150  \n",
       "...         ...       ...       ...       ...       ...  \n",
       "99995 -0.317357  0.700818  0.474245  1.420319 -1.049133  \n",
       "99996  1.400714  0.263317 -0.364506 -0.000415  1.163906  \n",
       "99997 -0.380007 -1.023640  0.652050  1.027991 -0.488377  \n",
       "99998  0.266058 -0.549152  1.055482 -0.791112 -0.347339  \n",
       "99999 -0.661033 -0.800669  0.230657  1.801893 -0.313673  \n",
       "\n",
       "[100000 rows x 12 columns]"
      ]
     },
     "execution_count": 59,
     "metadata": {},
     "output_type": "execute_result"
    }
   ],
   "source": [
    "n = 100000\n",
    "n_x = 10\n",
    "\n",
    "np.random.seed(123)\n",
    "\n",
    "# true parameters\n",
    "alpha = -2\n",
    "beta1 = np.random.uniform(0,1)\n",
    "beta2 = np.random.uniform(-1,1, n_x)\n",
    "theta = np.random.uniform(-1,1, n_x)\n",
    "\n",
    "\n",
    "# data\n",
    "call = np.random.binomial(1, 0.5, n)\n",
    "X = np.random.normal(0, 1, (n, n_x))\n",
    "\n",
    "Y_star = alpha + beta1*call + call*X.dot(beta2) + X.dot(theta)\n",
    "Y = np.random.binomial(1, expit(Y_star))\n",
    "\n",
    "df = pd.DataFrame(dict(agreement=Y, call=call)).join(pd.DataFrame(X, columns=[f\"x{i}\" for i in range(n_x)]))\n",
    "\n",
    "df"
   ]
  },
  {
   "cell_type": "code",
   "execution_count": 47,
   "id": "55db5e5a",
   "metadata": {
    "ExecuteTime": {
     "end_time": "2024-10-07T13:15:49.964206Z",
     "start_time": "2024-10-07T13:15:49.958585Z"
    }
   },
   "outputs": [
    {
     "data": {
      "text/plain": [
       "agreement    0.853980\n",
       "call         0.500960\n",
       "x0          -0.002751\n",
       "x1           0.001546\n",
       "x2          -0.003561\n",
       "x3           0.003214\n",
       "x4           0.001600\n",
       "x5          -0.002346\n",
       "x6           0.005613\n",
       "x7          -0.002390\n",
       "x8           0.004779\n",
       "x9           0.001502\n",
       "dtype: float64"
      ]
     },
     "execution_count": 47,
     "metadata": {},
     "output_type": "execute_result"
    }
   ],
   "source": [
    "df.mean()"
   ]
  },
  {
   "cell_type": "markdown",
   "id": "e0a04148",
   "metadata": {
    "ExecuteTime": {
     "end_time": "2024-10-07T12:54:17.468269Z",
     "start_time": "2024-10-07T12:54:17.463123Z"
    }
   },
   "source": [
    "## Criando um Modelo Preditivo"
   ]
  },
  {
   "cell_type": "code",
   "execution_count": 48,
   "id": "37cc2908",
   "metadata": {
    "ExecuteTime": {
     "end_time": "2024-10-07T13:15:50.274671Z",
     "start_time": "2024-10-07T13:15:50.258978Z"
    }
   },
   "outputs": [
    {
     "data": {
      "text/plain": [
       "((80000, 12), (20000, 12))"
      ]
     },
     "execution_count": 48,
     "metadata": {},
     "output_type": "execute_result"
    }
   ],
   "source": [
    "from sklearn.model_selection import train_test_split\n",
    "\n",
    "train, test = train_test_split(df, test_size=0.2, random_state=1)\n",
    "\n",
    "train.shape, test.shape"
   ]
  },
  {
   "cell_type": "code",
   "execution_count": 49,
   "id": "5965c47b",
   "metadata": {
    "ExecuteTime": {
     "end_time": "2024-10-07T13:15:50.898891Z",
     "start_time": "2024-10-07T13:15:50.587981Z"
    }
   },
   "outputs": [
    {
     "data": {
      "text/plain": [
       "LGBMClassifier()"
      ]
     },
     "execution_count": 49,
     "metadata": {},
     "output_type": "execute_result"
    }
   ],
   "source": [
    "from lightgbm import LGBMClassifier\n",
    "\n",
    "clf = LGBMClassifier()\n",
    "\n",
    "\n",
    "X = [f\"x{i}\" for i in range(10)]\n",
    "\n",
    "clf.fit(train[X], train[\"agreement\"])"
   ]
  },
  {
   "cell_type": "code",
   "execution_count": 50,
   "id": "24dfbc70",
   "metadata": {
    "ExecuteTime": {
     "end_time": "2024-10-07T13:15:51.175645Z",
     "start_time": "2024-10-07T13:15:51.072346Z"
    }
   },
   "outputs": [
    {
     "data": {
      "text/html": [
       "<div>\n",
       "<style scoped>\n",
       "    .dataframe tbody tr th:only-of-type {\n",
       "        vertical-align: middle;\n",
       "    }\n",
       "\n",
       "    .dataframe tbody tr th {\n",
       "        vertical-align: top;\n",
       "    }\n",
       "\n",
       "    .dataframe thead th {\n",
       "        text-align: right;\n",
       "    }\n",
       "</style>\n",
       "<table border=\"1\" class=\"dataframe\">\n",
       "  <thead>\n",
       "    <tr style=\"text-align: right;\">\n",
       "      <th></th>\n",
       "      <th>agreement</th>\n",
       "      <th>call</th>\n",
       "      <th>x0</th>\n",
       "      <th>x1</th>\n",
       "      <th>x2</th>\n",
       "      <th>x3</th>\n",
       "      <th>x4</th>\n",
       "      <th>x5</th>\n",
       "      <th>x6</th>\n",
       "      <th>x7</th>\n",
       "      <th>x8</th>\n",
       "      <th>x9</th>\n",
       "      <th>prediction</th>\n",
       "    </tr>\n",
       "  </thead>\n",
       "  <tbody>\n",
       "    <tr>\n",
       "      <th>78689</th>\n",
       "      <td>1</td>\n",
       "      <td>1</td>\n",
       "      <td>-1.202416</td>\n",
       "      <td>-0.280416</td>\n",
       "      <td>-1.810579</td>\n",
       "      <td>-0.882309</td>\n",
       "      <td>0.622271</td>\n",
       "      <td>0.911877</td>\n",
       "      <td>0.445060</td>\n",
       "      <td>-0.191113</td>\n",
       "      <td>-0.577777</td>\n",
       "      <td>0.766118</td>\n",
       "      <td>0.956417</td>\n",
       "    </tr>\n",
       "    <tr>\n",
       "      <th>76423</th>\n",
       "      <td>1</td>\n",
       "      <td>1</td>\n",
       "      <td>-0.805696</td>\n",
       "      <td>-1.232675</td>\n",
       "      <td>-0.760623</td>\n",
       "      <td>0.221013</td>\n",
       "      <td>0.366721</td>\n",
       "      <td>0.143864</td>\n",
       "      <td>-2.010781</td>\n",
       "      <td>0.693280</td>\n",
       "      <td>0.571393</td>\n",
       "      <td>-0.752304</td>\n",
       "      <td>0.974702</td>\n",
       "    </tr>\n",
       "    <tr>\n",
       "      <th>86945</th>\n",
       "      <td>1</td>\n",
       "      <td>1</td>\n",
       "      <td>-0.850826</td>\n",
       "      <td>-0.982348</td>\n",
       "      <td>-1.233703</td>\n",
       "      <td>-2.310498</td>\n",
       "      <td>1.078682</td>\n",
       "      <td>0.586545</td>\n",
       "      <td>0.100963</td>\n",
       "      <td>-0.744785</td>\n",
       "      <td>-1.819578</td>\n",
       "      <td>-0.355326</td>\n",
       "      <td>0.971572</td>\n",
       "    </tr>\n",
       "    <tr>\n",
       "      <th>57427</th>\n",
       "      <td>1</td>\n",
       "      <td>0</td>\n",
       "      <td>-0.238013</td>\n",
       "      <td>0.522953</td>\n",
       "      <td>1.027834</td>\n",
       "      <td>-1.299981</td>\n",
       "      <td>-0.458112</td>\n",
       "      <td>1.211409</td>\n",
       "      <td>-1.098646</td>\n",
       "      <td>0.289592</td>\n",
       "      <td>-0.975876</td>\n",
       "      <td>1.028182</td>\n",
       "      <td>0.779198</td>\n",
       "    </tr>\n",
       "    <tr>\n",
       "      <th>34616</th>\n",
       "      <td>1</td>\n",
       "      <td>0</td>\n",
       "      <td>-0.854292</td>\n",
       "      <td>0.989608</td>\n",
       "      <td>-0.277672</td>\n",
       "      <td>0.676710</td>\n",
       "      <td>0.239035</td>\n",
       "      <td>0.961658</td>\n",
       "      <td>-1.529399</td>\n",
       "      <td>-0.285434</td>\n",
       "      <td>1.462993</td>\n",
       "      <td>-0.722879</td>\n",
       "      <td>0.927606</td>\n",
       "    </tr>\n",
       "  </tbody>\n",
       "</table>\n",
       "</div>"
      ],
      "text/plain": [
       "       agreement  call        x0        x1        x2        x3        x4  \\\n",
       "78689          1     1 -1.202416 -0.280416 -1.810579 -0.882309  0.622271   \n",
       "76423          1     1 -0.805696 -1.232675 -0.760623  0.221013  0.366721   \n",
       "86945          1     1 -0.850826 -0.982348 -1.233703 -2.310498  1.078682   \n",
       "57427          1     0 -0.238013  0.522953  1.027834 -1.299981 -0.458112   \n",
       "34616          1     0 -0.854292  0.989608 -0.277672  0.676710  0.239035   \n",
       "\n",
       "             x5        x6        x7        x8        x9  prediction  \n",
       "78689  0.911877  0.445060 -0.191113 -0.577777  0.766118    0.956417  \n",
       "76423  0.143864 -2.010781  0.693280  0.571393 -0.752304    0.974702  \n",
       "86945  0.586545  0.100963 -0.744785 -1.819578 -0.355326    0.971572  \n",
       "57427  1.211409 -1.098646  0.289592 -0.975876  1.028182    0.779198  \n",
       "34616  0.961658 -1.529399 -0.285434  1.462993 -0.722879    0.927606  "
      ]
     },
     "execution_count": 50,
     "metadata": {},
     "output_type": "execute_result"
    }
   ],
   "source": [
    "train_pred = train.assign(prediction = clf.predict_proba(train[X])[:, 1])\n",
    "test_pred = test.assign(prediction = clf.predict_proba(test[X])[:, 1])\n",
    "\n",
    "train_pred.head()\n"
   ]
  },
  {
   "cell_type": "code",
   "execution_count": 51,
   "id": "b76df3ba",
   "metadata": {
    "ExecuteTime": {
     "end_time": "2024-10-07T13:15:51.362280Z",
     "start_time": "2024-10-07T13:15:51.337605Z"
    }
   },
   "outputs": [
    {
     "name": "stdout",
     "output_type": "stream",
     "text": [
      "Train AUC: 0.8181206278544151\n",
      "Test AUC: 0.7642554212464638\n"
     ]
    }
   ],
   "source": [
    "from sklearn.metrics import roc_auc_score\n",
    "\n",
    "print(\"Train AUC:\", roc_auc_score(train_pred[\"agreement\"], train_pred[\"prediction\"]))\n",
    "print(\"Test AUC:\", roc_auc_score(test_pred[\"agreement\"], test_pred[\"prediction\"]))"
   ]
  },
  {
   "cell_type": "markdown",
   "id": "64ddc5a5",
   "metadata": {},
   "source": [
    "# Priorizando"
   ]
  },
  {
   "cell_type": "code",
   "execution_count": 52,
   "id": "67c804ab",
   "metadata": {
    "ExecuteTime": {
     "end_time": "2024-10-07T13:15:52.075989Z",
     "start_time": "2024-10-07T13:15:52.044616Z"
    }
   },
   "outputs": [],
   "source": [
    "test_ranked = test_pred.assign(\n",
    "    lost_cause_1st = np.argsort(test_pred[\"prediction\"]).argsort(),\n",
    "    sure_thing_1st = np.argsort(-1*test_pred[\"prediction\"]).argsort(),\n",
    ")"
   ]
  },
  {
   "cell_type": "code",
   "execution_count": 53,
   "id": "fb134537",
   "metadata": {
    "ExecuteTime": {
     "end_time": "2024-10-07T13:15:52.455451Z",
     "start_time": "2024-10-07T13:15:52.432894Z"
    }
   },
   "outputs": [
    {
     "data": {
      "text/html": [
       "<div>\n",
       "<style scoped>\n",
       "    .dataframe tbody tr th:only-of-type {\n",
       "        vertical-align: middle;\n",
       "    }\n",
       "\n",
       "    .dataframe tbody tr th {\n",
       "        vertical-align: top;\n",
       "    }\n",
       "\n",
       "    .dataframe thead th {\n",
       "        text-align: right;\n",
       "    }\n",
       "</style>\n",
       "<table border=\"1\" class=\"dataframe\">\n",
       "  <thead>\n",
       "    <tr style=\"text-align: right;\">\n",
       "      <th></th>\n",
       "      <th>agreement</th>\n",
       "      <th>call</th>\n",
       "      <th>x0</th>\n",
       "      <th>x1</th>\n",
       "      <th>x2</th>\n",
       "      <th>x3</th>\n",
       "      <th>x4</th>\n",
       "      <th>x5</th>\n",
       "      <th>x6</th>\n",
       "      <th>x7</th>\n",
       "      <th>x8</th>\n",
       "      <th>x9</th>\n",
       "      <th>prediction</th>\n",
       "      <th>lost_cause_1st</th>\n",
       "      <th>sure_thing_1st</th>\n",
       "    </tr>\n",
       "  </thead>\n",
       "  <tbody>\n",
       "    <tr>\n",
       "      <th>67534</th>\n",
       "      <td>1</td>\n",
       "      <td>0</td>\n",
       "      <td>1.723651</td>\n",
       "      <td>1.145491</td>\n",
       "      <td>-2.714713</td>\n",
       "      <td>-0.137719</td>\n",
       "      <td>0.101587</td>\n",
       "      <td>-0.385853</td>\n",
       "      <td>-2.629268</td>\n",
       "      <td>-1.162119</td>\n",
       "      <td>-0.228837</td>\n",
       "      <td>0.011167</td>\n",
       "      <td>0.996588</td>\n",
       "      <td>19999</td>\n",
       "      <td>0</td>\n",
       "    </tr>\n",
       "    <tr>\n",
       "      <th>30330</th>\n",
       "      <td>1</td>\n",
       "      <td>1</td>\n",
       "      <td>0.148807</td>\n",
       "      <td>-1.065254</td>\n",
       "      <td>-2.152062</td>\n",
       "      <td>1.459757</td>\n",
       "      <td>-0.796461</td>\n",
       "      <td>-0.673396</td>\n",
       "      <td>-2.239162</td>\n",
       "      <td>-0.150769</td>\n",
       "      <td>0.781312</td>\n",
       "      <td>0.136687</td>\n",
       "      <td>0.995829</td>\n",
       "      <td>19998</td>\n",
       "      <td>1</td>\n",
       "    </tr>\n",
       "    <tr>\n",
       "      <th>25973</th>\n",
       "      <td>1</td>\n",
       "      <td>0</td>\n",
       "      <td>-0.939034</td>\n",
       "      <td>0.552453</td>\n",
       "      <td>-3.246118</td>\n",
       "      <td>1.284368</td>\n",
       "      <td>0.506694</td>\n",
       "      <td>-0.127436</td>\n",
       "      <td>-2.329455</td>\n",
       "      <td>-0.244106</td>\n",
       "      <td>-0.044151</td>\n",
       "      <td>0.541396</td>\n",
       "      <td>0.995442</td>\n",
       "      <td>19997</td>\n",
       "      <td>2</td>\n",
       "    </tr>\n",
       "    <tr>\n",
       "      <th>69081</th>\n",
       "      <td>1</td>\n",
       "      <td>1</td>\n",
       "      <td>-0.317000</td>\n",
       "      <td>-0.786124</td>\n",
       "      <td>-3.111926</td>\n",
       "      <td>0.140252</td>\n",
       "      <td>-0.002939</td>\n",
       "      <td>-0.573890</td>\n",
       "      <td>-1.536846</td>\n",
       "      <td>-0.033591</td>\n",
       "      <td>-0.339201</td>\n",
       "      <td>3.004093</td>\n",
       "      <td>0.995317</td>\n",
       "      <td>19996</td>\n",
       "      <td>3</td>\n",
       "    </tr>\n",
       "    <tr>\n",
       "      <th>65368</th>\n",
       "      <td>1</td>\n",
       "      <td>0</td>\n",
       "      <td>0.215321</td>\n",
       "      <td>-1.165824</td>\n",
       "      <td>-1.859961</td>\n",
       "      <td>-0.467916</td>\n",
       "      <td>-0.469505</td>\n",
       "      <td>-0.145950</td>\n",
       "      <td>-3.245424</td>\n",
       "      <td>-0.157003</td>\n",
       "      <td>0.086914</td>\n",
       "      <td>1.777500</td>\n",
       "      <td>0.995278</td>\n",
       "      <td>19995</td>\n",
       "      <td>4</td>\n",
       "    </tr>\n",
       "    <tr>\n",
       "      <th>...</th>\n",
       "      <td>...</td>\n",
       "      <td>...</td>\n",
       "      <td>...</td>\n",
       "      <td>...</td>\n",
       "      <td>...</td>\n",
       "      <td>...</td>\n",
       "      <td>...</td>\n",
       "      <td>...</td>\n",
       "      <td>...</td>\n",
       "      <td>...</td>\n",
       "      <td>...</td>\n",
       "      <td>...</td>\n",
       "      <td>...</td>\n",
       "      <td>...</td>\n",
       "      <td>...</td>\n",
       "    </tr>\n",
       "    <tr>\n",
       "      <th>20142</th>\n",
       "      <td>0</td>\n",
       "      <td>0</td>\n",
       "      <td>-0.427885</td>\n",
       "      <td>1.111556</td>\n",
       "      <td>2.390521</td>\n",
       "      <td>0.178255</td>\n",
       "      <td>-1.384017</td>\n",
       "      <td>0.929317</td>\n",
       "      <td>1.725965</td>\n",
       "      <td>-0.947224</td>\n",
       "      <td>0.411649</td>\n",
       "      <td>-1.556848</td>\n",
       "      <td>0.202904</td>\n",
       "      <td>4</td>\n",
       "      <td>19995</td>\n",
       "    </tr>\n",
       "    <tr>\n",
       "      <th>71972</th>\n",
       "      <td>0</td>\n",
       "      <td>0</td>\n",
       "      <td>0.356397</td>\n",
       "      <td>2.696516</td>\n",
       "      <td>3.133174</td>\n",
       "      <td>-0.671220</td>\n",
       "      <td>0.435666</td>\n",
       "      <td>-1.480976</td>\n",
       "      <td>-0.172448</td>\n",
       "      <td>-1.495032</td>\n",
       "      <td>-1.101001</td>\n",
       "      <td>1.069223</td>\n",
       "      <td>0.201295</td>\n",
       "      <td>3</td>\n",
       "      <td>19996</td>\n",
       "    </tr>\n",
       "    <tr>\n",
       "      <th>33631</th>\n",
       "      <td>0</td>\n",
       "      <td>1</td>\n",
       "      <td>-0.235599</td>\n",
       "      <td>0.833632</td>\n",
       "      <td>3.398472</td>\n",
       "      <td>-0.106204</td>\n",
       "      <td>-1.968615</td>\n",
       "      <td>-0.192665</td>\n",
       "      <td>0.262232</td>\n",
       "      <td>-1.117790</td>\n",
       "      <td>-0.420411</td>\n",
       "      <td>-0.225667</td>\n",
       "      <td>0.188792</td>\n",
       "      <td>2</td>\n",
       "      <td>19997</td>\n",
       "    </tr>\n",
       "    <tr>\n",
       "      <th>54483</th>\n",
       "      <td>0</td>\n",
       "      <td>1</td>\n",
       "      <td>-1.010004</td>\n",
       "      <td>1.505689</td>\n",
       "      <td>1.095830</td>\n",
       "      <td>0.333214</td>\n",
       "      <td>-2.914065</td>\n",
       "      <td>-0.825166</td>\n",
       "      <td>0.115243</td>\n",
       "      <td>0.804730</td>\n",
       "      <td>1.473137</td>\n",
       "      <td>-2.341130</td>\n",
       "      <td>0.173514</td>\n",
       "      <td>1</td>\n",
       "      <td>19998</td>\n",
       "    </tr>\n",
       "    <tr>\n",
       "      <th>2409</th>\n",
       "      <td>0</td>\n",
       "      <td>1</td>\n",
       "      <td>-1.476397</td>\n",
       "      <td>0.311935</td>\n",
       "      <td>1.251071</td>\n",
       "      <td>0.364624</td>\n",
       "      <td>-3.303834</td>\n",
       "      <td>1.647946</td>\n",
       "      <td>2.088611</td>\n",
       "      <td>1.525479</td>\n",
       "      <td>0.114966</td>\n",
       "      <td>-1.191979</td>\n",
       "      <td>0.149936</td>\n",
       "      <td>0</td>\n",
       "      <td>19999</td>\n",
       "    </tr>\n",
       "  </tbody>\n",
       "</table>\n",
       "<p>20000 rows × 15 columns</p>\n",
       "</div>"
      ],
      "text/plain": [
       "       agreement  call        x0        x1        x2        x3        x4  \\\n",
       "67534          1     0  1.723651  1.145491 -2.714713 -0.137719  0.101587   \n",
       "30330          1     1  0.148807 -1.065254 -2.152062  1.459757 -0.796461   \n",
       "25973          1     0 -0.939034  0.552453 -3.246118  1.284368  0.506694   \n",
       "69081          1     1 -0.317000 -0.786124 -3.111926  0.140252 -0.002939   \n",
       "65368          1     0  0.215321 -1.165824 -1.859961 -0.467916 -0.469505   \n",
       "...          ...   ...       ...       ...       ...       ...       ...   \n",
       "20142          0     0 -0.427885  1.111556  2.390521  0.178255 -1.384017   \n",
       "71972          0     0  0.356397  2.696516  3.133174 -0.671220  0.435666   \n",
       "33631          0     1 -0.235599  0.833632  3.398472 -0.106204 -1.968615   \n",
       "54483          0     1 -1.010004  1.505689  1.095830  0.333214 -2.914065   \n",
       "2409           0     1 -1.476397  0.311935  1.251071  0.364624 -3.303834   \n",
       "\n",
       "             x5        x6        x7        x8        x9  prediction  \\\n",
       "67534 -0.385853 -2.629268 -1.162119 -0.228837  0.011167    0.996588   \n",
       "30330 -0.673396 -2.239162 -0.150769  0.781312  0.136687    0.995829   \n",
       "25973 -0.127436 -2.329455 -0.244106 -0.044151  0.541396    0.995442   \n",
       "69081 -0.573890 -1.536846 -0.033591 -0.339201  3.004093    0.995317   \n",
       "65368 -0.145950 -3.245424 -0.157003  0.086914  1.777500    0.995278   \n",
       "...         ...       ...       ...       ...       ...         ...   \n",
       "20142  0.929317  1.725965 -0.947224  0.411649 -1.556848    0.202904   \n",
       "71972 -1.480976 -0.172448 -1.495032 -1.101001  1.069223    0.201295   \n",
       "33631 -0.192665  0.262232 -1.117790 -0.420411 -0.225667    0.188792   \n",
       "54483 -0.825166  0.115243  0.804730  1.473137 -2.341130    0.173514   \n",
       "2409   1.647946  2.088611  1.525479  0.114966 -1.191979    0.149936   \n",
       "\n",
       "       lost_cause_1st  sure_thing_1st  \n",
       "67534           19999               0  \n",
       "30330           19998               1  \n",
       "25973           19997               2  \n",
       "69081           19996               3  \n",
       "65368           19995               4  \n",
       "...               ...             ...  \n",
       "20142               4           19995  \n",
       "71972               3           19996  \n",
       "33631               2           19997  \n",
       "54483               1           19998  \n",
       "2409                0           19999  \n",
       "\n",
       "[20000 rows x 15 columns]"
      ]
     },
     "execution_count": 53,
     "metadata": {},
     "output_type": "execute_result"
    }
   ],
   "source": [
    "test_ranked.sort_values([\"sure_thing_1st\"])"
   ]
  },
  {
   "cell_type": "markdown",
   "id": "90fa6f3b",
   "metadata": {},
   "source": [
    "# Qual Ordenamento é Melhor? (Qini Curve)"
   ]
  },
  {
   "cell_type": "code",
   "execution_count": 54,
   "id": "6e6cff59",
   "metadata": {
    "ExecuteTime": {
     "end_time": "2024-10-07T13:15:54.270838Z",
     "start_time": "2024-10-07T13:15:54.247847Z"
    }
   },
   "outputs": [
    {
     "data": {
      "text/plain": [
       "call\n",
       "0    0.935070\n",
       "1    0.956687\n",
       "Name: agreement, dtype: float64"
      ]
     },
     "execution_count": 54,
     "metadata": {},
     "output_type": "execute_result"
    }
   ],
   "source": [
    "# mais provaveis\n",
    "test_ranked.query(\"sure_thing_1st<10000\").groupby([\"call\"])[\"agreement\"].mean()"
   ]
  },
  {
   "cell_type": "code",
   "execution_count": 55,
   "id": "811e916c",
   "metadata": {
    "ExecuteTime": {
     "end_time": "2024-10-07T13:15:55.406561Z",
     "start_time": "2024-10-07T13:15:55.381665Z"
    }
   },
   "outputs": [
    {
     "data": {
      "text/plain": [
       "call\n",
       "0         NaN\n",
       "1    0.021616\n",
       "Name: agreement, dtype: float64"
      ]
     },
     "execution_count": 55,
     "metadata": {},
     "output_type": "execute_result"
    }
   ],
   "source": [
    "test_ranked.query(\"sure_thing_1st<10000\").groupby([\"call\"])[\"agreement\"].mean().diff()"
   ]
  },
  {
   "cell_type": "code",
   "execution_count": 56,
   "id": "6a33445b",
   "metadata": {
    "ExecuteTime": {
     "end_time": "2024-10-07T13:15:56.081296Z",
     "start_time": "2024-10-07T13:15:56.064221Z"
    }
   },
   "outputs": [
    {
     "data": {
      "text/plain": [
       "call\n",
       "0    0.688608\n",
       "1    0.846229\n",
       "Name: agreement, dtype: float64"
      ]
     },
     "execution_count": 56,
     "metadata": {},
     "output_type": "execute_result"
    }
   ],
   "source": [
    "# menos provaveis\n",
    "test_ranked.query(\"sure_thing_1st>10000\").groupby([\"call\"])[\"agreement\"].mean()"
   ]
  },
  {
   "cell_type": "code",
   "execution_count": 57,
   "id": "19e40244",
   "metadata": {
    "ExecuteTime": {
     "end_time": "2024-10-07T13:15:56.596991Z",
     "start_time": "2024-10-07T13:15:56.577976Z"
    }
   },
   "outputs": [
    {
     "data": {
      "text/plain": [
       "call\n",
       "0         NaN\n",
       "1    0.157621\n",
       "Name: agreement, dtype: float64"
      ]
     },
     "execution_count": 57,
     "metadata": {},
     "output_type": "execute_result"
    }
   ],
   "source": [
    "test_ranked.query(\"sure_thing_1st>10000\").groupby([\"call\"])[\"agreement\"].mean().diff()"
   ]
  },
  {
   "cell_type": "code",
   "execution_count": null,
   "id": "3412deb7",
   "metadata": {},
   "outputs": [],
   "source": []
  },
  {
   "cell_type": "code",
   "execution_count": null,
   "id": "19b49d97",
   "metadata": {},
   "outputs": [],
   "source": []
  },
  {
   "cell_type": "code",
   "execution_count": null,
   "id": "ea337ff7",
   "metadata": {},
   "outputs": [],
   "source": []
  }
 ],
 "metadata": {
  "kernelspec": {
   "display_name": "Python [conda env:root] *",
   "language": "python",
   "name": "conda-root-py"
  },
  "language_info": {
   "codemirror_mode": {
    "name": "ipython",
    "version": 3
   },
   "file_extension": ".py",
   "mimetype": "text/x-python",
   "name": "python",
   "nbconvert_exporter": "python",
   "pygments_lexer": "ipython3",
   "version": "3.7.12"
  },
  "toc": {
   "base_numbering": 1,
   "nav_menu": {},
   "number_sections": true,
   "sideBar": true,
   "skip_h1_title": false,
   "title_cell": "Table of Contents",
   "title_sidebar": "Contents",
   "toc_cell": false,
   "toc_position": {},
   "toc_section_display": true,
   "toc_window_display": false
  },
  "varInspector": {
   "cols": {
    "lenName": 16,
    "lenType": 16,
    "lenVar": 40
   },
   "kernels_config": {
    "python": {
     "delete_cmd_postfix": "",
     "delete_cmd_prefix": "del ",
     "library": "var_list.py",
     "varRefreshCmd": "print(var_dic_list())"
    },
    "r": {
     "delete_cmd_postfix": ") ",
     "delete_cmd_prefix": "rm(",
     "library": "var_list.r",
     "varRefreshCmd": "cat(var_dic_list()) "
    }
   },
   "types_to_exclude": [
    "module",
    "function",
    "builtin_function_or_method",
    "instance",
    "_Feature"
   ],
   "window_display": false
  }
 },
 "nbformat": 4,
 "nbformat_minor": 5
}
