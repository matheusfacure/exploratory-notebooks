{
 "cells": [
  {
   "cell_type": "code",
   "execution_count": 1,
   "id": "2d0c496a",
   "metadata": {
    "ExecuteTime": {
     "end_time": "2023-01-30T12:25:37.659233Z",
     "start_time": "2023-01-30T12:25:36.499192Z"
    }
   },
   "outputs": [],
   "source": [
    "import pandas as pd\n",
    "import numpy as np\n",
    "from matplotlib import pyplot as plt"
   ]
  },
  {
   "cell_type": "code",
   "execution_count": 2,
   "id": "45cda28e",
   "metadata": {
    "ExecuteTime": {
     "end_time": "2023-01-30T12:25:38.538287Z",
     "start_time": "2023-01-30T12:25:37.660714Z"
    }
   },
   "outputs": [],
   "source": [
    "from sklearn.base import BaseEstimator, RegressorMixin\n",
    "from sklearn.utils.validation import check_X_y, check_array, check_is_fitted\n",
    "import cvxpy as cp\n",
    "\n",
    "class SyntheticControl(BaseEstimator, RegressorMixin):\n",
    "\n",
    "    def __init__(self,):\n",
    "        pass\n",
    "\n",
    "    def fit(self, y_pre_co, y_pre_tr):\n",
    "\n",
    "        y_pre_co, y_pre_tr = check_X_y(y_pre_co, y_pre_tr)\n",
    "    \n",
    "        w = cp.Variable(y_pre_co.shape[1])\n",
    "        \n",
    "        objective = cp.Minimize(cp.sum_squares(y_pre_co@w - y_pre_tr))\n",
    "        constraints = [cp.sum(w) == 1, w >= 0]\n",
    "        \n",
    "        problem = cp.Problem(objective, constraints)\n",
    "        \n",
    "        self.loss_ = problem.solve(verbose=False)\n",
    "        self.w_ = w.value\n",
    "        \n",
    "        self.is_fitted_ = True\n",
    "        return self\n",
    "        \n",
    "        \n",
    "    def predict(self, y_co):\n",
    "\n",
    "        check_is_fitted(self)\n",
    "        y_co = check_array(y_co)\n",
    "        \n",
    "        return y_co @ self.w_"
   ]
  },
  {
   "cell_type": "code",
   "execution_count": 3,
   "id": "1f4b8204",
   "metadata": {
    "ExecuteTime": {
     "end_time": "2023-01-30T12:25:38.982276Z",
     "start_time": "2023-01-30T12:25:38.539450Z"
    }
   },
   "outputs": [],
   "source": [
    "df = pd.read_csv(\"https://raw.githubusercontent.com/matheusfacure/python-causality-handbook/master/causal-inference-for-the-brave-and-true/data/smoking.csv\")"
   ]
  },
  {
   "cell_type": "code",
   "execution_count": 4,
   "id": "e53d2afd",
   "metadata": {
    "ExecuteTime": {
     "end_time": "2023-01-30T12:25:39.009213Z",
     "start_time": "2023-01-30T12:25:38.989460Z"
    }
   },
   "outputs": [
    {
     "data": {
      "text/html": [
       "<div>\n",
       "<style scoped>\n",
       "    .dataframe tbody tr th:only-of-type {\n",
       "        vertical-align: middle;\n",
       "    }\n",
       "\n",
       "    .dataframe tbody tr th {\n",
       "        vertical-align: top;\n",
       "    }\n",
       "\n",
       "    .dataframe thead th {\n",
       "        text-align: right;\n",
       "    }\n",
       "</style>\n",
       "<table border=\"1\" class=\"dataframe\">\n",
       "  <thead>\n",
       "    <tr style=\"text-align: right;\">\n",
       "      <th></th>\n",
       "      <th>state</th>\n",
       "      <th>year</th>\n",
       "      <th>cigsale</th>\n",
       "      <th>lnincome</th>\n",
       "      <th>beer</th>\n",
       "      <th>age15to24</th>\n",
       "      <th>retprice</th>\n",
       "      <th>california</th>\n",
       "      <th>after_treatment</th>\n",
       "    </tr>\n",
       "  </thead>\n",
       "  <tbody>\n",
       "    <tr>\n",
       "      <th>0</th>\n",
       "      <td>1</td>\n",
       "      <td>1970</td>\n",
       "      <td>89.800003</td>\n",
       "      <td>NaN</td>\n",
       "      <td>NaN</td>\n",
       "      <td>0.178862</td>\n",
       "      <td>39.599998</td>\n",
       "      <td>False</td>\n",
       "      <td>False</td>\n",
       "    </tr>\n",
       "    <tr>\n",
       "      <th>1</th>\n",
       "      <td>1</td>\n",
       "      <td>1971</td>\n",
       "      <td>95.400002</td>\n",
       "      <td>NaN</td>\n",
       "      <td>NaN</td>\n",
       "      <td>0.179928</td>\n",
       "      <td>42.700001</td>\n",
       "      <td>False</td>\n",
       "      <td>False</td>\n",
       "    </tr>\n",
       "    <tr>\n",
       "      <th>2</th>\n",
       "      <td>1</td>\n",
       "      <td>1972</td>\n",
       "      <td>101.099998</td>\n",
       "      <td>9.498476</td>\n",
       "      <td>NaN</td>\n",
       "      <td>0.180994</td>\n",
       "      <td>42.299999</td>\n",
       "      <td>False</td>\n",
       "      <td>False</td>\n",
       "    </tr>\n",
       "    <tr>\n",
       "      <th>3</th>\n",
       "      <td>1</td>\n",
       "      <td>1973</td>\n",
       "      <td>102.900002</td>\n",
       "      <td>9.550107</td>\n",
       "      <td>NaN</td>\n",
       "      <td>0.182060</td>\n",
       "      <td>42.099998</td>\n",
       "      <td>False</td>\n",
       "      <td>False</td>\n",
       "    </tr>\n",
       "    <tr>\n",
       "      <th>4</th>\n",
       "      <td>1</td>\n",
       "      <td>1974</td>\n",
       "      <td>108.199997</td>\n",
       "      <td>9.537163</td>\n",
       "      <td>NaN</td>\n",
       "      <td>0.183126</td>\n",
       "      <td>43.099998</td>\n",
       "      <td>False</td>\n",
       "      <td>False</td>\n",
       "    </tr>\n",
       "  </tbody>\n",
       "</table>\n",
       "</div>"
      ],
      "text/plain": [
       "   state  year     cigsale  lnincome  beer  age15to24   retprice  california  \\\n",
       "0      1  1970   89.800003       NaN   NaN   0.178862  39.599998       False   \n",
       "1      1  1971   95.400002       NaN   NaN   0.179928  42.700001       False   \n",
       "2      1  1972  101.099998  9.498476   NaN   0.180994  42.299999       False   \n",
       "3      1  1973  102.900002  9.550107   NaN   0.182060  42.099998       False   \n",
       "4      1  1974  108.199997  9.537163   NaN   0.183126  43.099998       False   \n",
       "\n",
       "   after_treatment  \n",
       "0            False  \n",
       "1            False  \n",
       "2            False  \n",
       "3            False  \n",
       "4            False  "
      ]
     },
     "execution_count": 4,
     "metadata": {},
     "output_type": "execute_result"
    }
   ],
   "source": [
    "df.head()"
   ]
  },
  {
   "cell_type": "markdown",
   "id": "eb56eba3",
   "metadata": {},
   "source": [
    "# Canonical Synthetic Control"
   ]
  },
  {
   "cell_type": "code",
   "execution_count": 5,
   "id": "9d0c1613",
   "metadata": {
    "ExecuteTime": {
     "end_time": "2023-01-30T12:25:39.026698Z",
     "start_time": "2023-01-30T12:25:39.010826Z"
    }
   },
   "outputs": [
    {
     "data": {
      "text/plain": [
       "((18, 38), (18, 1), (13, 38), (13, 1))"
      ]
     },
     "execution_count": 5,
     "metadata": {},
     "output_type": "execute_result"
    }
   ],
   "source": [
    "y_pre_co = df.query(\"~california & year < 1988\").pivot(\"year\", \"state\", \"cigsale\")\n",
    "y_pre_tr = df.query(\"california & year < 1988\").pivot(\"year\", \"state\", \"cigsale\")\n",
    "y_post_co = df.query(\"~california & year >= 1988\").pivot(\"year\", \"state\", \"cigsale\")\n",
    "y_post_tr = df.query(\"california & year >= 1988\").pivot(\"year\", \"state\", \"cigsale\")\n",
    "\n",
    "(y_pre_co.shape, y_pre_tr.shape, y_post_co.shape, y_post_tr.shape)"
   ]
  },
  {
   "cell_type": "code",
   "execution_count": 6,
   "id": "fdf59d28",
   "metadata": {
    "ExecuteTime": {
     "end_time": "2023-01-30T12:25:39.145013Z",
     "start_time": "2023-01-30T12:25:39.028129Z"
    }
   },
   "outputs": [
    {
     "data": {
      "image/png": "[encoded data removed]",
      "text/plain": [
       "<Figure size 432x288 with 1 Axes>"
      ]
     },
     "metadata": {
      "needs_background": "light"
     },
     "output_type": "display_data"
    }
   ],
   "source": [
    "sc_canonical = SyntheticControl()\n",
    "sc_canonical.fit(y_pre_co=y_pre_co, y_pre_tr=y_pre_tr.mean(axis=1))\n",
    "\n",
    "plt.plot(y_post_tr.index, y_post_tr, label=\"SC\")\n",
    "plt.plot(y_post_tr.index, sc_canonical.predict(y_post_co), label=\"tr\")\n",
    "plt.legend();"
   ]
  },
  {
   "cell_type": "code",
   "execution_count": 7,
   "id": "ff98f063",
   "metadata": {
    "ExecuteTime": {
     "end_time": "2023-01-30T12:25:39.209677Z",
     "start_time": "2023-01-30T12:25:39.146350Z"
    }
   },
   "outputs": [
    {
     "data": {
      "image/png": "[encoded data removed]",
      "text/plain": [
       "<Figure size 432x288 with 1 Axes>"
      ]
     },
     "metadata": {
      "needs_background": "light"
     },
     "output_type": "display_data"
    }
   ],
   "source": [
    "att_canonical = y_post_tr.mean(axis=1) - sc_canonical.predict(y_post_co)\n",
    "\n",
    "plt.plot(y_post_tr.index, att_canonical, label=\"ATT Canonical\")\n",
    "plt.legend();"
   ]
  },
  {
   "cell_type": "markdown",
   "id": "ac3608b3",
   "metadata": {},
   "source": [
    "# Bias of Synthetic Control"
   ]
  },
  {
   "cell_type": "code",
   "execution_count": 8,
   "id": "898bb948",
   "metadata": {
    "ExecuteTime": {
     "end_time": "2023-01-30T12:25:41.734681Z",
     "start_time": "2023-01-30T12:25:39.211256Z"
    }
   },
   "outputs": [
    {
     "data": {
      "image/png": "[encoded data removed]",
      "text/plain": [
       "<Figure size 432x288 with 1 Axes>"
      ]
     },
     "metadata": {
      "needs_background": "light"
     },
     "output_type": "display_data"
    }
   ],
   "source": [
    "from statsmodels.tsa.arima_process import ArmaProcess\n",
    "\n",
    "def sim_sc_data(N=16, T0=15, T1=28):\n",
    "    Y_co = np.random.normal(\n",
    "        np.array([np.concatenate([np.ones(3), np.zeros(N-3)])*2 for _ in range(T0+T1)])\n",
    "    )\n",
    "    \n",
    "    w = np.concatenate([np.ones(3), np.zeros(N-3)])*1/3\n",
    "    Y_tr = Y_co.dot(w) + ArmaProcess(0.8).generate_sample(T0+T1)\n",
    "    \n",
    "    model = SyntheticControl().fit(\n",
    "        y_pre_co=Y_co[:T0],\n",
    "        y_pre_tr=Y_tr[:T0].flatten()\n",
    "    )\n",
    "        \n",
    "    return (Y_tr[T0:].flatten() - model.predict(Y_co[T0:])).mean()\n",
    "\n",
    "\n",
    "np.random.seed(123)\n",
    "\n",
    "atts = [sim_sc_data() for _ in range(500)]\n",
    "\n",
    "plt.hist(atts, alpha=0.2, density=True, bins=20)\n",
    "plt.vlines(np.mean(atts), 0, 1.5, label=\"Simulation Avg.\")\n",
    "plt.vlines(0, 0, 1.5, label=\"Correct ATT\", ls=\"dashed\")\n",
    "plt.title(\"500 SC Simulations\")\n",
    "plt.legend();\n"
   ]
  },
  {
   "cell_type": "markdown",
   "id": "03cd4795",
   "metadata": {},
   "source": [
    "# Debiasing Synthetic Control"
   ]
  },
  {
   "cell_type": "code",
   "execution_count": 9,
   "id": "00bce0d7",
   "metadata": {
    "ExecuteTime": {
     "end_time": "2023-01-30T12:25:41.739550Z",
     "start_time": "2023-01-30T12:25:41.736017Z"
    }
   },
   "outputs": [],
   "source": [
    "def debiased_sc_atts(y_pre_co, y_pre_tr, y_post_co, y_post_tr, K=3):\n",
    "        \n",
    "    block_size = int(min(np.floor(len(y_pre_tr)/K), len(y_post_tr)))\n",
    "    blocks = np.split(y_pre_tr.index[-K*block_size:], K)\n",
    "    \n",
    "    def fold_effect(hold_out):\n",
    "        model = SyntheticControl()\n",
    "        model.fit(\n",
    "            y_pre_co.drop(hold_out),\n",
    "            y_pre_tr.drop(hold_out)\n",
    "        )\n",
    "        \n",
    "        bias_hat = np.mean(y_pre_tr.loc[hold_out]\n",
    "                           - model.predict(y_pre_co.loc[hold_out]))\n",
    "        \n",
    "        y0_hat = model.predict(y_post_co)\n",
    "        return (y_post_tr - y0_hat) - bias_hat\n",
    "    \n",
    "    \n",
    "    return pd.DataFrame([fold_effect(block) for block in blocks]).T"
   ]
  },
  {
   "cell_type": "code",
   "execution_count": 10,
   "id": "24133de5",
   "metadata": {
    "ExecuteTime": {
     "end_time": "2023-01-30T12:25:48.796283Z",
     "start_time": "2023-01-30T12:25:41.742615Z"
    }
   },
   "outputs": [
    {
     "data": {
      "image/png": "[encoded data removed]",
      "text/plain": [
       "<Figure size 432x288 with 1 Axes>"
      ]
     },
     "metadata": {
      "needs_background": "light"
     },
     "output_type": "display_data"
    }
   ],
   "source": [
    "def sim_deb_sc_data(N=16, T0=15, T1=28):\n",
    "    Y_co = np.random.normal(\n",
    "        np.array([np.concatenate([np.ones(3), np.zeros(N-3)])*2 for _ in range(T0+T1)])\n",
    "    )\n",
    "    \n",
    "    w = np.concatenate([np.ones(3), np.zeros(N-3)])*1/3\n",
    "    Y_tr = Y_co.dot(w) + ArmaProcess(0.8).generate_sample(T0+T1)\n",
    "    \n",
    "    df_co = pd.DataFrame(Y_co)\n",
    "    df_tr = pd.DataFrame(Y_tr)\n",
    "    \n",
    "    atts = debiased_sc_atts(df_co.iloc[:T0],\n",
    "                            df_tr.iloc[:T0].mean(axis=1),\n",
    "                            df_co.iloc[T0:],\n",
    "                            df_tr.iloc[T0:].mean(axis=1), K=2)\n",
    "    \n",
    "        \n",
    "    return atts.mean(axis=0).mean()\n",
    "\n",
    "\n",
    "np.random.seed(123)\n",
    "atts = [sim_deb_sc_data() for _ in range(500)]\n",
    "\n",
    "plt.hist(atts, alpha=0.2, density=True, bins=20)\n",
    "plt.vlines(np.mean(atts), 0, 1.5, label=\"Sample Avg.\")\n",
    "plt.vlines(0, 0, 1.5, label=\"Correct ATT\", ls=\"dashed\")\n",
    "plt.title(\"500 SC (Debiased) Simulations\")\n",
    "plt.legend();\n"
   ]
  },
  {
   "cell_type": "code",
   "execution_count": 11,
   "id": "e5db25b6",
   "metadata": {
    "ExecuteTime": {
     "end_time": "2023-01-30T12:25:48.829712Z",
     "start_time": "2023-01-30T12:25:48.797472Z"
    }
   },
   "outputs": [
    {
     "data": {
      "text/html": [
       "<div>\n",
       "<style scoped>\n",
       "    .dataframe tbody tr th:only-of-type {\n",
       "        vertical-align: middle;\n",
       "    }\n",
       "\n",
       "    .dataframe tbody tr th {\n",
       "        vertical-align: top;\n",
       "    }\n",
       "\n",
       "    .dataframe thead th {\n",
       "        text-align: right;\n",
       "    }\n",
       "</style>\n",
       "<table border=\"1\" class=\"dataframe\">\n",
       "  <thead>\n",
       "    <tr style=\"text-align: right;\">\n",
       "      <th></th>\n",
       "      <th>0</th>\n",
       "      <th>1</th>\n",
       "      <th>2</th>\n",
       "    </tr>\n",
       "    <tr>\n",
       "      <th>year</th>\n",
       "      <th></th>\n",
       "      <th></th>\n",
       "      <th></th>\n",
       "    </tr>\n",
       "  </thead>\n",
       "  <tbody>\n",
       "    <tr>\n",
       "      <th>1988</th>\n",
       "      <td>-4.409436</td>\n",
       "      <td>-2.443765</td>\n",
       "      <td>-5.990111</td>\n",
       "    </tr>\n",
       "    <tr>\n",
       "      <th>1989</th>\n",
       "      <td>-9.894050</td>\n",
       "      <td>-8.927084</td>\n",
       "      <td>-11.670736</td>\n",
       "    </tr>\n",
       "    <tr>\n",
       "      <th>1990</th>\n",
       "      <td>-12.472751</td>\n",
       "      <td>-10.043103</td>\n",
       "      <td>-12.025641</td>\n",
       "    </tr>\n",
       "    <tr>\n",
       "      <th>1991</th>\n",
       "      <td>-19.098965</td>\n",
       "      <td>-12.790990</td>\n",
       "      <td>-13.049163</td>\n",
       "    </tr>\n",
       "    <tr>\n",
       "      <th>1992</th>\n",
       "      <td>-20.560079</td>\n",
       "      <td>-13.713525</td>\n",
       "      <td>-12.055487</td>\n",
       "    </tr>\n",
       "  </tbody>\n",
       "</table>\n",
       "</div>"
      ],
      "text/plain": [
       "              0          1          2\n",
       "year                                 \n",
       "1988  -4.409436  -2.443765  -5.990111\n",
       "1989  -9.894050  -8.927084 -11.670736\n",
       "1990 -12.472751 -10.043103 -12.025641\n",
       "1991 -19.098965 -12.790990 -13.049163\n",
       "1992 -20.560079 -13.713525 -12.055487"
      ]
     },
     "execution_count": 11,
     "metadata": {},
     "output_type": "execute_result"
    }
   ],
   "source": [
    "deb_atts = debiased_sc_atts(y_pre_co,\n",
    "                            y_pre_tr.mean(axis=1),\n",
    "                            y_post_co,\n",
    "                            y_post_tr.mean(axis=1),\n",
    "                            K=3)\n",
    "\n",
    "deb_atts.head()"
   ]
  },
  {
   "cell_type": "code",
   "execution_count": 12,
   "id": "8b09d030",
   "metadata": {
    "ExecuteTime": {
     "end_time": "2023-01-30T12:25:48.896436Z",
     "start_time": "2023-01-30T12:25:48.831140Z"
    }
   },
   "outputs": [
    {
     "data": {
      "image/png": "[encoded data removed]",
      "text/plain": [
       "<Figure size 432x288 with 1 Axes>"
      ]
     },
     "metadata": {
      "needs_background": "light"
     },
     "output_type": "display_data"
    }
   ],
   "source": [
    "plt.plot(y_post_tr.index, att_canonical, label=\"ATT Canonical\")\n",
    "plt.plot(y_post_tr.index, deb_atts.mean(axis=1), label=\"ATT Debiased\")\n",
    "plt.legend();"
   ]
  },
  {
   "cell_type": "markdown",
   "id": "da98f0c1",
   "metadata": {},
   "source": [
    "## Inference"
   ]
  },
  {
   "cell_type": "code",
   "execution_count": 13,
   "id": "2a6af652",
   "metadata": {
    "ExecuteTime": {
     "end_time": "2023-01-30T12:25:48.900739Z",
     "start_time": "2023-01-30T12:25:48.897742Z"
    }
   },
   "outputs": [
    {
     "name": "stdout",
     "output_type": "stream",
     "text": [
      "atts_k: [-22.86374666 -17.92785158 -16.55263775]\n",
      "ATT: -19.11474533071647\n"
     ]
    }
   ],
   "source": [
    "atts_k = deb_atts.mean(axis=0).values\n",
    "att = np.mean(atts_k)\n",
    "\n",
    "print(\"atts_k:\", atts_k)\n",
    "print(\"ATT:\", att)"
   ]
  },
  {
   "cell_type": "code",
   "execution_count": 14,
   "id": "ee0a8f99",
   "metadata": {
    "ExecuteTime": {
     "end_time": "2023-01-30T12:25:48.905177Z",
     "start_time": "2023-01-30T12:25:48.902060Z"
    }
   },
   "outputs": [
    {
     "name": "stdout",
     "output_type": "stream",
     "text": [
      "SE: 2.958845526031049\n"
     ]
    }
   ],
   "source": [
    "K = len(atts_k)\n",
    "T0 = len(y_pre_co)\n",
    "T1 = len(y_post_co)\n",
    "block_size = min(np.floor(T0/K), T1)\n",
    "\n",
    "se_hat = np.sqrt(1+((K*block_size)/T1))*np.std(atts_k, ddof=1)/np.sqrt(K)\n",
    "\n",
    "print(\"SE:\", se_hat)"
   ]
  },
  {
   "cell_type": "code",
   "execution_count": 15,
   "id": "a834788f",
   "metadata": {
    "ExecuteTime": {
     "end_time": "2023-01-30T12:25:48.910507Z",
     "start_time": "2023-01-30T12:25:48.906672Z"
    }
   },
   "outputs": [
    {
     "data": {
      "text/plain": [
       "[-27.754531601226567, -10.474959060206375]"
      ]
     },
     "execution_count": 15,
     "metadata": {},
     "output_type": "execute_result"
    }
   ],
   "source": [
    "from scipy.stats import t\n",
    "alpha = 0.1\n",
    "\n",
    "[att - t.ppf(1-alpha/2, K-1)*se_hat,\n",
    " att + t.ppf(1-alpha/2, K-1)*se_hat]"
   ]
  }
 ],
 "metadata": {
  "kernelspec": {
   "display_name": "Python [conda env:root] *",
   "language": "python",
   "name": "conda-root-py"
  },
  "language_info": {
   "codemirror_mode": {
    "name": "ipython",
    "version": 3
   },
   "file_extension": ".py",
   "mimetype": "text/x-python",
   "name": "python",
   "nbconvert_exporter": "python",
   "pygments_lexer": "ipython3",
   "version": "3.7.12"
  },
  "toc": {
   "base_numbering": 1,
   "nav_menu": {},
   "number_sections": true,
   "sideBar": true,
   "skip_h1_title": false,
   "title_cell": "Table of Contents",
   "title_sidebar": "Contents",
   "toc_cell": false,
   "toc_position": {},
   "toc_section_display": true,
   "toc_window_display": false
  },
  "varInspector": {
   "cols": {
    "lenName": 16,
    "lenType": 16,
    "lenVar": 40
   },
   "kernels_config": {
    "python": {
     "delete_cmd_postfix": "",
     "delete_cmd_prefix": "del ",
     "library": "var_list.py",
     "varRefreshCmd": "print(var_dic_list())"
    },
    "r": {
     "delete_cmd_postfix": ") ",
     "delete_cmd_prefix": "rm(",
     "library": "var_list.r",
     "varRefreshCmd": "cat(var_dic_list()) "
    }
   },
   "types_to_exclude": [
    "module",
    "function",
    "builtin_function_or_method",
    "instance",
    "_Feature"
   ],
   "window_display": false
  }
 },
 "nbformat": 4,
 "nbformat_minor": 5
}
