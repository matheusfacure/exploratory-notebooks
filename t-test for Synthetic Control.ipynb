{
 "cells": [
  {
   "cell_type": "code",
   "execution_count": 1,
   "id": "2d0c496a",
   "metadata": {
    "ExecuteTime": {
     "end_time": "2023-01-13T13:48:48.229696Z",
     "start_time": "2023-01-13T13:48:47.037378Z"
    }
   },
   "outputs": [],
   "source": [
    "import pandas as pd\n",
    "import numpy as np\n",
    "from matplotlib import pyplot as plt"
   ]
  },
  {
   "cell_type": "code",
   "execution_count": 2,
   "id": "45cda28e",
   "metadata": {
    "ExecuteTime": {
     "end_time": "2023-01-13T13:48:49.100871Z",
     "start_time": "2023-01-13T13:48:48.231252Z"
    }
   },
   "outputs": [],
   "source": [
    "from sklearn.base import BaseEstimator, RegressorMixin\n",
    "from sklearn.utils.validation import check_X_y, check_array, check_is_fitted\n",
    "import cvxpy as cp\n",
    "\n",
    "class SyntheticControl(BaseEstimator, RegressorMixin):\n",
    "\n",
    "    def __init__(self,):\n",
    "        pass\n",
    "\n",
    "    def fit(self, X, y):\n",
    "\n",
    "        X, y = check_X_y(X, y)\n",
    "    \n",
    "        w = cp.Variable(X.shape[1])\n",
    "        objective = cp.Minimize(cp.sum_squares(X@w - y))\n",
    "        \n",
    "        constraints = [cp.sum(w) == 1, w >= 0]\n",
    "        \n",
    "        problem = cp.Problem(objective, constraints)\n",
    "        \n",
    "        self.loss_ = problem.solve(verbose=False)\n",
    "        \n",
    "        self.X_ = X\n",
    "        self.y_ = y\n",
    "        self.w_ = w.value\n",
    "        \n",
    "        self.is_fitted_ = True\n",
    "        return self\n",
    "        \n",
    "        \n",
    "    def predict(self, X):\n",
    "\n",
    "        check_is_fitted(self)\n",
    "        X = check_array(X)\n",
    "        \n",
    "        return X @ self.w_"
   ]
  },
  {
   "cell_type": "code",
   "execution_count": 3,
   "id": "1f4b8204",
   "metadata": {
    "ExecuteTime": {
     "end_time": "2023-01-13T13:48:49.759779Z",
     "start_time": "2023-01-13T13:48:49.102164Z"
    }
   },
   "outputs": [],
   "source": [
    "df = pd.read_csv(\"https://raw.githubusercontent.com/matheusfacure/python-causality-handbook/master/causal-inference-for-the-brave-and-true/data/smoking.csv\")"
   ]
  },
  {
   "cell_type": "code",
   "execution_count": 4,
   "id": "e53d2afd",
   "metadata": {
    "ExecuteTime": {
     "end_time": "2023-01-13T13:48:49.791562Z",
     "start_time": "2023-01-13T13:48:49.765564Z"
    }
   },
   "outputs": [
    {
     "data": {
      "text/html": [
       "<div>\n",
       "<style scoped>\n",
       "    .dataframe tbody tr th:only-of-type {\n",
       "        vertical-align: middle;\n",
       "    }\n",
       "\n",
       "    .dataframe tbody tr th {\n",
       "        vertical-align: top;\n",
       "    }\n",
       "\n",
       "    .dataframe thead th {\n",
       "        text-align: right;\n",
       "    }\n",
       "</style>\n",
       "<table border=\"1\" class=\"dataframe\">\n",
       "  <thead>\n",
       "    <tr style=\"text-align: right;\">\n",
       "      <th></th>\n",
       "      <th>state</th>\n",
       "      <th>year</th>\n",
       "      <th>cigsale</th>\n",
       "      <th>lnincome</th>\n",
       "      <th>beer</th>\n",
       "      <th>age15to24</th>\n",
       "      <th>retprice</th>\n",
       "      <th>california</th>\n",
       "      <th>after_treatment</th>\n",
       "    </tr>\n",
       "  </thead>\n",
       "  <tbody>\n",
       "    <tr>\n",
       "      <th>0</th>\n",
       "      <td>1</td>\n",
       "      <td>1970</td>\n",
       "      <td>89.800003</td>\n",
       "      <td>NaN</td>\n",
       "      <td>NaN</td>\n",
       "      <td>0.178862</td>\n",
       "      <td>39.599998</td>\n",
       "      <td>False</td>\n",
       "      <td>False</td>\n",
       "    </tr>\n",
       "    <tr>\n",
       "      <th>1</th>\n",
       "      <td>1</td>\n",
       "      <td>1971</td>\n",
       "      <td>95.400002</td>\n",
       "      <td>NaN</td>\n",
       "      <td>NaN</td>\n",
       "      <td>0.179928</td>\n",
       "      <td>42.700001</td>\n",
       "      <td>False</td>\n",
       "      <td>False</td>\n",
       "    </tr>\n",
       "    <tr>\n",
       "      <th>2</th>\n",
       "      <td>1</td>\n",
       "      <td>1972</td>\n",
       "      <td>101.099998</td>\n",
       "      <td>9.498476</td>\n",
       "      <td>NaN</td>\n",
       "      <td>0.180994</td>\n",
       "      <td>42.299999</td>\n",
       "      <td>False</td>\n",
       "      <td>False</td>\n",
       "    </tr>\n",
       "    <tr>\n",
       "      <th>3</th>\n",
       "      <td>1</td>\n",
       "      <td>1973</td>\n",
       "      <td>102.900002</td>\n",
       "      <td>9.550107</td>\n",
       "      <td>NaN</td>\n",
       "      <td>0.182060</td>\n",
       "      <td>42.099998</td>\n",
       "      <td>False</td>\n",
       "      <td>False</td>\n",
       "    </tr>\n",
       "    <tr>\n",
       "      <th>4</th>\n",
       "      <td>1</td>\n",
       "      <td>1974</td>\n",
       "      <td>108.199997</td>\n",
       "      <td>9.537163</td>\n",
       "      <td>NaN</td>\n",
       "      <td>0.183126</td>\n",
       "      <td>43.099998</td>\n",
       "      <td>False</td>\n",
       "      <td>False</td>\n",
       "    </tr>\n",
       "  </tbody>\n",
       "</table>\n",
       "</div>"
      ],
      "text/plain": [
       "   state  year     cigsale  lnincome  beer  age15to24   retprice  california  \\\n",
       "0      1  1970   89.800003       NaN   NaN   0.178862  39.599998       False   \n",
       "1      1  1971   95.400002       NaN   NaN   0.179928  42.700001       False   \n",
       "2      1  1972  101.099998  9.498476   NaN   0.180994  42.299999       False   \n",
       "3      1  1973  102.900002  9.550107   NaN   0.182060  42.099998       False   \n",
       "4      1  1974  108.199997  9.537163   NaN   0.183126  43.099998       False   \n",
       "\n",
       "   after_treatment  \n",
       "0            False  \n",
       "1            False  \n",
       "2            False  \n",
       "3            False  \n",
       "4            False  "
      ]
     },
     "execution_count": 4,
     "metadata": {},
     "output_type": "execute_result"
    }
   ],
   "source": [
    "df.head()"
   ]
  },
  {
   "cell_type": "markdown",
   "id": "ac3608b3",
   "metadata": {},
   "source": [
    "# T-Test"
   ]
  },
  {
   "cell_type": "code",
   "execution_count": 5,
   "id": "da721304",
   "metadata": {
    "ExecuteTime": {
     "end_time": "2023-01-13T13:48:49.800404Z",
     "start_time": "2023-01-13T13:48:49.794359Z"
    }
   },
   "outputs": [],
   "source": [
    "def partition_effect(k, X_pre_co, y_pre_tr, X_post_co, y_post_tr, T0, K, r):\n",
    "    model = SyntheticControl()\n",
    "    Hk = ((T0-(r*K))+np.arange((k-1)*r,k*r,1)).astype(int)\n",
    "    \n",
    "    model.fit(\n",
    "        X_pre_co.drop(X_pre_co.index[Hk]),\n",
    "        y_pre_tr.drop(y_pre_tr.index[Hk]).values.flatten())\n",
    "    \n",
    "    y0_hat = model.predict(X_post_co)\n",
    "    bias = np.mean(y_pre_tr.iloc[Hk].values.flatten() - model.predict(X_pre_co.iloc[Hk]))\n",
    "\n",
    "    return np.mean(y_post_tr.values.flatten() - y0_hat) - bias"
   ]
  },
  {
   "cell_type": "code",
   "execution_count": 6,
   "id": "fc97a4ac",
   "metadata": {
    "ExecuteTime": {
     "end_time": "2023-01-13T13:48:49.824641Z",
     "start_time": "2023-01-13T13:48:49.802770Z"
    }
   },
   "outputs": [],
   "source": [
    "from toolz import partial\n",
    "from scipy.stats import t\n",
    "\n",
    "def sc_ttest(df, y_col, unit_col, time_col, treatment_col, post_col, K=3, alpha=0.05):\n",
    "    T0 = len(df.query(f\"~{post_col}\")[time_col].unique())\n",
    "    T1 = len(df.query(f\"{post_col}\")[time_col].unique())\n",
    "    \n",
    "    r = min(np.floor(T0/K), T1)\n",
    "    \n",
    "    y_pre_tr = df.query(f\"~{post_col} & {treatment_col}\").pivot(time_col, unit_col, y_col)\n",
    "    X_pre_co = df.query(f\"~{post_col} & ~{treatment_col}\").pivot(time_col, unit_col, y_col)\n",
    "    \n",
    "    y_post_tr = df.query(f\"{post_col} & {treatment_col}\").pivot(time_col, unit_col, y_col)\n",
    "    X_post_co = df.query(f\"{post_col} & ~{treatment_col}\").pivot(time_col, unit_col, y_col)\n",
    "    \n",
    "    effect_fn = partial(partition_effect,\n",
    "                        X_pre_co=X_pre_co,\n",
    "                        y_pre_tr=y_pre_tr,\n",
    "                        X_post_co=X_post_co,\n",
    "                        y_post_tr=y_post_tr,\n",
    "                        T0=T0,\n",
    "                        K=K,\n",
    "                        r=r)\n",
    "    \n",
    "    atts =  [effect_fn(k) for k in range(K)]\n",
    "    tau = np.mean(atts)\n",
    "    se = np.sqrt(1+((K*r)/T1))*np.std(atts, ddof=1)/np.sqrt(K)\n",
    "    \n",
    "    return {\n",
    "        \"tau_hat\": tau,\n",
    "        \"se_hat\": se,\n",
    "        \"t_hat\": tau/se,\n",
    "        \"lb\": tau - t.ppf(1-alpha/2, K-1)*se,\n",
    "        \"up\": tau + t.ppf(1-alpha/2, K-1)*se\n",
    "    }"
   ]
  },
  {
   "cell_type": "code",
   "execution_count": 7,
   "id": "13ab5dbc",
   "metadata": {
    "ExecuteTime": {
     "end_time": "2023-01-13T13:48:49.884316Z",
     "start_time": "2023-01-13T13:48:49.826141Z"
    }
   },
   "outputs": [
    {
     "data": {
      "text/plain": [
       "{'tau_hat': -19.07622052514913,\n",
       " 'se_hat': 0.1895190354300751,\n",
       " 't_hat': -100.6559603992259,\n",
       " 'lb': -19.891655120312492,\n",
       " 'up': -18.260785929985765}"
      ]
     },
     "execution_count": 7,
     "metadata": {},
     "output_type": "execute_result"
    }
   ],
   "source": [
    "sc_ttest(df, y_col=\"cigsale\", unit_col=\"state\", time_col=\"year\", treatment_col=\"california\", post_col=\"after_treatment\")"
   ]
  },
  {
   "cell_type": "markdown",
   "id": "b47afeba",
   "metadata": {},
   "source": [
    "# Effect Over Time"
   ]
  },
  {
   "cell_type": "code",
   "execution_count": 8,
   "id": "097a07e3",
   "metadata": {
    "ExecuteTime": {
     "end_time": "2023-01-13T13:48:50.274534Z",
     "start_time": "2023-01-13T13:48:49.885519Z"
    }
   },
   "outputs": [
    {
     "data": {
      "text/html": [
       "<div>\n",
       "<style scoped>\n",
       "    .dataframe tbody tr th:only-of-type {\n",
       "        vertical-align: middle;\n",
       "    }\n",
       "\n",
       "    .dataframe tbody tr th {\n",
       "        vertical-align: top;\n",
       "    }\n",
       "\n",
       "    .dataframe thead th {\n",
       "        text-align: right;\n",
       "    }\n",
       "</style>\n",
       "<table border=\"1\" class=\"dataframe\">\n",
       "  <thead>\n",
       "    <tr style=\"text-align: right;\">\n",
       "      <th></th>\n",
       "      <th>year</th>\n",
       "      <th>tau_hat</th>\n",
       "      <th>se_hat</th>\n",
       "      <th>t_hat</th>\n",
       "      <th>lb</th>\n",
       "      <th>up</th>\n",
       "    </tr>\n",
       "  </thead>\n",
       "  <tbody>\n",
       "    <tr>\n",
       "      <th>0</th>\n",
       "      <td>1989</td>\n",
       "      <td>-6.940955</td>\n",
       "      <td>2.719541</td>\n",
       "      <td>-2.552252</td>\n",
       "      <td>-18.642195</td>\n",
       "      <td>4.760285</td>\n",
       "    </tr>\n",
       "    <tr>\n",
       "      <th>1</th>\n",
       "      <td>1990</td>\n",
       "      <td>-7.258523</td>\n",
       "      <td>3.648926</td>\n",
       "      <td>-1.989222</td>\n",
       "      <td>-22.958584</td>\n",
       "      <td>8.441538</td>\n",
       "    </tr>\n",
       "    <tr>\n",
       "      <th>2</th>\n",
       "      <td>1991</td>\n",
       "      <td>-10.697402</td>\n",
       "      <td>3.589384</td>\n",
       "      <td>-2.980289</td>\n",
       "      <td>-26.141275</td>\n",
       "      <td>4.746472</td>\n",
       "    </tr>\n",
       "    <tr>\n",
       "      <th>3</th>\n",
       "      <td>1992</td>\n",
       "      <td>-11.575347</td>\n",
       "      <td>4.027374</td>\n",
       "      <td>-2.874168</td>\n",
       "      <td>-28.903738</td>\n",
       "      <td>5.753044</td>\n",
       "    </tr>\n",
       "    <tr>\n",
       "      <th>4</th>\n",
       "      <td>1993</td>\n",
       "      <td>-15.434049</td>\n",
       "      <td>3.888045</td>\n",
       "      <td>-3.969617</td>\n",
       "      <td>-32.162957</td>\n",
       "      <td>1.294859</td>\n",
       "    </tr>\n",
       "    <tr>\n",
       "      <th>5</th>\n",
       "      <td>1994</td>\n",
       "      <td>-19.838068</td>\n",
       "      <td>4.106184</td>\n",
       "      <td>-4.831266</td>\n",
       "      <td>-37.505552</td>\n",
       "      <td>-2.170584</td>\n",
       "    </tr>\n",
       "    <tr>\n",
       "      <th>6</th>\n",
       "      <td>1995</td>\n",
       "      <td>-20.539134</td>\n",
       "      <td>4.351526</td>\n",
       "      <td>-4.719984</td>\n",
       "      <td>-39.262238</td>\n",
       "      <td>-1.816030</td>\n",
       "    </tr>\n",
       "    <tr>\n",
       "      <th>7</th>\n",
       "      <td>1996</td>\n",
       "      <td>-21.854199</td>\n",
       "      <td>3.968625</td>\n",
       "      <td>-5.506743</td>\n",
       "      <td>-38.929816</td>\n",
       "      <td>-4.778583</td>\n",
       "    </tr>\n",
       "    <tr>\n",
       "      <th>8</th>\n",
       "      <td>1997</td>\n",
       "      <td>-24.329952</td>\n",
       "      <td>3.505476</td>\n",
       "      <td>-6.940556</td>\n",
       "      <td>-39.412797</td>\n",
       "      <td>-9.247107</td>\n",
       "    </tr>\n",
       "    <tr>\n",
       "      <th>9</th>\n",
       "      <td>1998</td>\n",
       "      <td>-20.926173</td>\n",
       "      <td>4.551677</td>\n",
       "      <td>-4.597464</td>\n",
       "      <td>-40.510459</td>\n",
       "      <td>-1.341887</td>\n",
       "    </tr>\n",
       "    <tr>\n",
       "      <th>10</th>\n",
       "      <td>1999</td>\n",
       "      <td>-25.446523</td>\n",
       "      <td>3.835617</td>\n",
       "      <td>-6.634272</td>\n",
       "      <td>-41.949850</td>\n",
       "      <td>-8.943197</td>\n",
       "    </tr>\n",
       "    <tr>\n",
       "      <th>11</th>\n",
       "      <td>2000</td>\n",
       "      <td>-24.538892</td>\n",
       "      <td>3.822685</td>\n",
       "      <td>-6.419282</td>\n",
       "      <td>-40.986578</td>\n",
       "      <td>-8.091206</td>\n",
       "    </tr>\n",
       "  </tbody>\n",
       "</table>\n",
       "</div>"
      ],
      "text/plain": [
       "    year    tau_hat    se_hat     t_hat         lb        up\n",
       "0   1989  -6.940955  2.719541 -2.552252 -18.642195  4.760285\n",
       "1   1990  -7.258523  3.648926 -1.989222 -22.958584  8.441538\n",
       "2   1991 -10.697402  3.589384 -2.980289 -26.141275  4.746472\n",
       "3   1992 -11.575347  4.027374 -2.874168 -28.903738  5.753044\n",
       "4   1993 -15.434049  3.888045 -3.969617 -32.162957  1.294859\n",
       "5   1994 -19.838068  4.106184 -4.831266 -37.505552 -2.170584\n",
       "6   1995 -20.539134  4.351526 -4.719984 -39.262238 -1.816030\n",
       "7   1996 -21.854199  3.968625 -5.506743 -38.929816 -4.778583\n",
       "8   1997 -24.329952  3.505476 -6.940556 -39.412797 -9.247107\n",
       "9   1998 -20.926173  4.551677 -4.597464 -40.510459 -1.341887\n",
       "10  1999 -25.446523  3.835617 -6.634272 -41.949850 -8.943197\n",
       "11  2000 -24.538892  3.822685 -6.419282 -40.986578 -8.091206"
      ]
     },
     "execution_count": 8,
     "metadata": {},
     "output_type": "execute_result"
    }
   ],
   "source": [
    "post_years = df.query(\"after_treatment\")[\"year\"].unique()\n",
    "\n",
    "t_test_fn = partial(sc_ttest,\n",
    "                    y_col=\"cigsale\",\n",
    "                    unit_col=\"state\",\n",
    "                    time_col=\"year\",\n",
    "                    treatment_col=\"california\",\n",
    "                    post_col=\"after_treatment\")\n",
    "\n",
    "result = pd.DataFrame([dict(year=yr, **t_test_fn(df.query(f\"~after_treatment|year=={yr}\")))\n",
    "                       for yr in post_years])\n",
    "\n",
    "result"
   ]
  },
  {
   "cell_type": "code",
   "execution_count": 9,
   "id": "3bbc7743",
   "metadata": {
    "ExecuteTime": {
     "end_time": "2023-01-13T13:48:50.361010Z",
     "start_time": "2023-01-13T13:48:50.275579Z"
    }
   },
   "outputs": [
    {
     "data": {
      "image/png": "[encoded data removed]",
      "text/plain": [
       "<Figure size 432x288 with 1 Axes>"
      ]
     },
     "metadata": {
      "needs_background": "light"
     },
     "output_type": "display_data"
    }
   ],
   "source": [
    "plt.plot(result[\"year\"], result[\"tau_hat\"])\n",
    "plt.fill_between(result[\"year\"], result[\"lb\"], result[\"up\"], alpha=0.2)\n",
    "plt.ylabel(\"Effect\")\n",
    "plt.title(\"95% CI\");"
   ]
  },
  {
   "cell_type": "code",
   "execution_count": null,
   "id": "e5db25b6",
   "metadata": {},
   "outputs": [],
   "source": []
  }
 ],
 "metadata": {
  "kernelspec": {
   "display_name": "Python [conda env:root] *",
   "language": "python",
   "name": "conda-root-py"
  },
  "language_info": {
   "codemirror_mode": {
    "name": "ipython",
    "version": 3
   },
   "file_extension": ".py",
   "mimetype": "text/x-python",
   "name": "python",
   "nbconvert_exporter": "python",
   "pygments_lexer": "ipython3",
   "version": "3.7.12"
  },
  "toc": {
   "base_numbering": 1,
   "nav_menu": {},
   "number_sections": true,
   "sideBar": true,
   "skip_h1_title": false,
   "title_cell": "Table of Contents",
   "title_sidebar": "Contents",
   "toc_cell": false,
   "toc_position": {},
   "toc_section_display": true,
   "toc_window_display": false
  },
  "varInspector": {
   "cols": {
    "lenName": 16,
    "lenType": 16,
    "lenVar": 40
   },
   "kernels_config": {
    "python": {
     "delete_cmd_postfix": "",
     "delete_cmd_prefix": "del ",
     "library": "var_list.py",
     "varRefreshCmd": "print(var_dic_list())"
    },
    "r": {
     "delete_cmd_postfix": ") ",
     "delete_cmd_prefix": "rm(",
     "library": "var_list.r",
     "varRefreshCmd": "cat(var_dic_list()) "
    }
   },
   "types_to_exclude": [
    "module",
    "function",
    "builtin_function_or_method",
    "instance",
    "_Feature"
   ],
   "window_display": false
  }
 },
 "nbformat": 4,
 "nbformat_minor": 5
}
