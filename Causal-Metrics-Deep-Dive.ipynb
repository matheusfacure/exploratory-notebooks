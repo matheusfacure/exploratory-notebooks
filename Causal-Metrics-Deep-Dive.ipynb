{
 "cells": [
  {
   "cell_type": "code",
   "execution_count": 1,
   "id": "ef1fb0ab",
   "metadata": {
    "ExecuteTime": {
     "end_time": "2023-10-25T12:13:25.981816Z",
     "start_time": "2023-10-25T12:13:23.905497Z"
    }
   },
   "outputs": [],
   "source": [
    "import pandas as pd\n",
    "import numpy as np\n",
    "from matplotlib import pyplot as plt\n",
    "import seaborn as sns\n",
    "\n",
    "from lightgbm import LGBMClassifier, LGBMRegressor\n",
    "\n",
    "from sklearn.model_selection import train_test_split, cross_val_predict\n",
    "\n",
    "pd.set_option('display.max_columns', 8)"
   ]
  },
  {
   "cell_type": "markdown",
   "id": "61d4f3c8",
   "metadata": {},
   "source": [
    "# Causal Metrics Refresher"
   ]
  },
  {
   "cell_type": "code",
   "execution_count": 2,
   "id": "974276cd",
   "metadata": {
    "ExecuteTime": {
     "end_time": "2023-10-25T12:13:26.016270Z",
     "start_time": "2023-10-25T12:13:25.983947Z"
    }
   },
   "outputs": [
    {
     "data": {
      "text/html": [
       "<div>\n",
       "<style scoped>\n",
       "    .dataframe tbody tr th:only-of-type {\n",
       "        vertical-align: middle;\n",
       "    }\n",
       "\n",
       "    .dataframe tbody tr th {\n",
       "        vertical-align: top;\n",
       "    }\n",
       "\n",
       "    .dataframe thead th {\n",
       "        text-align: right;\n",
       "    }\n",
       "</style>\n",
       "<table border=\"1\" class=\"dataframe\">\n",
       "  <thead>\n",
       "    <tr style=\"text-align: right;\">\n",
       "      <th></th>\n",
       "      <th>y</th>\n",
       "      <th>t</th>\n",
       "      <th>teh_0</th>\n",
       "      <th>teh_1</th>\n",
       "      <th>...</th>\n",
       "      <th>pred_6</th>\n",
       "      <th>pred_7</th>\n",
       "      <th>pred_8</th>\n",
       "      <th>pred_9</th>\n",
       "    </tr>\n",
       "  </thead>\n",
       "  <tbody>\n",
       "    <tr>\n",
       "      <th>0</th>\n",
       "      <td>5.853318</td>\n",
       "      <td>1</td>\n",
       "      <td>-1.085631</td>\n",
       "      <td>0.997345</td>\n",
       "      <td>...</td>\n",
       "      <td>-1.211890</td>\n",
       "      <td>-0.758870</td>\n",
       "      <td>-0.856166</td>\n",
       "      <td>0.062708</td>\n",
       "    </tr>\n",
       "    <tr>\n",
       "      <th>1</th>\n",
       "      <td>1.755905</td>\n",
       "      <td>0</td>\n",
       "      <td>-0.678886</td>\n",
       "      <td>-0.094709</td>\n",
       "      <td>...</td>\n",
       "      <td>0.641869</td>\n",
       "      <td>-0.219113</td>\n",
       "      <td>1.680639</td>\n",
       "      <td>0.065926</td>\n",
       "    </tr>\n",
       "    <tr>\n",
       "      <th>2</th>\n",
       "      <td>2.508584</td>\n",
       "      <td>1</td>\n",
       "      <td>0.737369</td>\n",
       "      <td>1.490732</td>\n",
       "      <td>...</td>\n",
       "      <td>0.425951</td>\n",
       "      <td>0.770544</td>\n",
       "      <td>-1.724024</td>\n",
       "      <td>0.457547</td>\n",
       "    </tr>\n",
       "    <tr>\n",
       "      <th>3</th>\n",
       "      <td>0.116989</td>\n",
       "      <td>0</td>\n",
       "      <td>-0.255619</td>\n",
       "      <td>-2.798589</td>\n",
       "      <td>...</td>\n",
       "      <td>-0.131698</td>\n",
       "      <td>1.193299</td>\n",
       "      <td>1.926180</td>\n",
       "      <td>-0.328024</td>\n",
       "    </tr>\n",
       "    <tr>\n",
       "      <th>4</th>\n",
       "      <td>-0.452261</td>\n",
       "      <td>0</td>\n",
       "      <td>-0.805367</td>\n",
       "      <td>-1.727669</td>\n",
       "      <td>...</td>\n",
       "      <td>-1.414251</td>\n",
       "      <td>-0.370072</td>\n",
       "      <td>-0.724456</td>\n",
       "      <td>-0.518750</td>\n",
       "    </tr>\n",
       "  </tbody>\n",
       "</table>\n",
       "<p>5 rows × 22 columns</p>\n",
       "</div>"
      ],
      "text/plain": [
       "          y  t     teh_0     teh_1  ...    pred_6    pred_7    pred_8  \\\n",
       "0  5.853318  1 -1.085631  0.997345  ... -1.211890 -0.758870 -0.856166   \n",
       "1  1.755905  0 -0.678886 -0.094709  ...  0.641869 -0.219113  1.680639   \n",
       "2  2.508584  1  0.737369  1.490732  ...  0.425951  0.770544 -1.724024   \n",
       "3  0.116989  0 -0.255619 -2.798589  ... -0.131698  1.193299  1.926180   \n",
       "4 -0.452261  0 -0.805367 -1.727669  ... -1.414251 -0.370072 -0.724456   \n",
       "\n",
       "     pred_9  \n",
       "0  0.062708  \n",
       "1  0.065926  \n",
       "2  0.457547  \n",
       "3 -0.328024  \n",
       "4 -0.518750  \n",
       "\n",
       "[5 rows x 22 columns]"
      ]
     },
     "execution_count": 2,
     "metadata": {},
     "output_type": "execute_result"
    }
   ],
   "source": [
    "n = 20000\n",
    "n_features = 10\n",
    "treatment_p = 0.5\n",
    "\n",
    "np.random.seed(123)\n",
    "\n",
    "teh_features  = np.random.normal(0, 1, (n, n_features))\n",
    "pred_features = np.random.normal(0, 1, (n, n_features))\n",
    "\n",
    "teh_coef  = np.random.uniform(-1, 1, n_features)\n",
    "pred_coef = np.random.uniform(-1, 1, n_features)\n",
    "ate_bias  = 1\n",
    "\n",
    "t = np.random.binomial(1, treatment_p, n)\n",
    "\n",
    "y = np.random.normal(\n",
    "    ate_bias*t\n",
    "    + teh_features.dot(teh_coef)*t \n",
    "    + pred_features.dot(pred_coef)\n",
    ")\n",
    "\n",
    "\n",
    "df = pd.concat([\n",
    "    pd.DataFrame(dict(y=y, t=t)),\n",
    "    pd.DataFrame(teh_features, columns = [f\"teh_{i}\" for i in range(n_features)]),\n",
    "    pd.DataFrame(pred_features, columns = [f\"pred_{i}\" for i in range(n_features)]),\n",
    "], axis=1)\n",
    "\n",
    "\n",
    "df.head()"
   ]
  },
  {
   "cell_type": "code",
   "execution_count": 3,
   "id": "8b4c2de6",
   "metadata": {
    "ExecuteTime": {
     "end_time": "2023-10-25T12:13:26.027748Z",
     "start_time": "2023-10-25T12:13:26.018330Z"
    }
   },
   "outputs": [
    {
     "data": {
      "text/plain": [
       "((14000, 22), (6000, 22))"
      ]
     },
     "execution_count": 3,
     "metadata": {},
     "output_type": "execute_result"
    }
   ],
   "source": [
    "train, test = train_test_split(df, test_size=0.3, random_state=1)\n",
    "train.shape, test.shape"
   ]
  },
  {
   "cell_type": "code",
   "execution_count": 4,
   "id": "f354e594",
   "metadata": {
    "ExecuteTime": {
     "end_time": "2023-10-25T12:13:26.043602Z",
     "start_time": "2023-10-25T12:13:26.030578Z"
    }
   },
   "outputs": [
    {
     "data": {
      "text/plain": [
       "(1.0238937821301746, 0.9843286169124309)"
      ]
     },
     "execution_count": 4,
     "metadata": {},
     "output_type": "execute_result"
    }
   ],
   "source": [
    "ate_train = train.query(\"t==1\")[\"y\"].mean() - train.query(\"t==0\")[\"y\"].mean()\n",
    "ate_test = test.query(\"t==1\")[\"y\"].mean() - test.query(\"t==0\")[\"y\"].mean()\n",
    "ate_train, ate_test "
   ]
  },
  {
   "cell_type": "code",
   "execution_count": 5,
   "id": "c6d59c73",
   "metadata": {
    "ExecuteTime": {
     "end_time": "2023-10-25T12:13:26.049113Z",
     "start_time": "2023-10-25T12:13:26.045154Z"
    }
   },
   "outputs": [],
   "source": [
    "def dml_model(train_df,\n",
    "              model_y,\n",
    "              model_t,\n",
    "              model_cate,\n",
    "              X_cols,\n",
    "              T_col, \n",
    "              Y_col):\n",
    "    \n",
    "    \n",
    "    train_res = train_df.assign(t_res =  train_df[T_col] - cross_val_predict(model_t, train_df[X_cols], train_df[T_col], cv=5, method=\"predict_proba\")[:, 1],\n",
    "                                y_res =  train_df[Y_col] - cross_val_predict(model_y, train_df[X_cols], train_df[Y_col], cv=5))\n",
    "    \n",
    "    \n",
    "    w = train_res[\"t_res\"] ** 2  \n",
    "    y_star = (train_res[\"y_res\"] / train_res[\"t_res\"])\n",
    "    \n",
    "    \n",
    "    model_cate.fit(X=train_df[X_cols], y=y_star, sample_weight=w)\n",
    "    return model_cate"
   ]
  },
  {
   "cell_type": "code",
   "execution_count": 6,
   "id": "4e946c28",
   "metadata": {
    "ExecuteTime": {
     "end_time": "2023-10-25T12:13:26.800340Z",
     "start_time": "2023-10-25T12:13:26.050616Z"
    }
   },
   "outputs": [],
   "source": [
    "X_cols =  train.drop(columns=[\"y\", \"t\"]).columns\n",
    "\n",
    "\n",
    "model_cate = dml_model(train,\n",
    "                       model_t=LGBMClassifier(max_depth=3),\n",
    "                       model_y=LGBMRegressor(max_depth=3),\n",
    "                       model_cate=LGBMRegressor(max_depth=3),\n",
    "                       X_cols=X_cols,\n",
    "                       T_col=\"t\",\n",
    "                       Y_col=\"y\")\n",
    "\n",
    "\n",
    "pred_model = LGBMRegressor(max_depth=3).fit(train[X_cols], train[\"y\"])"
   ]
  },
  {
   "cell_type": "code",
   "execution_count": 7,
   "id": "d317a718",
   "metadata": {
    "ExecuteTime": {
     "end_time": "2023-10-25T12:13:26.960206Z",
     "start_time": "2023-10-25T12:13:26.801891Z"
    }
   },
   "outputs": [
    {
     "data": {
      "text/plain": [
       "<AxesSubplot:>"
      ]
     },
     "execution_count": 7,
     "metadata": {},
     "output_type": "execute_result"
    },
    {
     "data": {
      "image/png": "[encoded data removed]",
      "text/plain": [
       "<Figure size 432x288 with 1 Axes>"
      ]
     },
     "metadata": {
      "needs_background": "light"
     },
     "output_type": "display_data"
    }
   ],
   "source": [
    "(pd.DataFrame(dict(cate=model_cate.feature_importances_, pred=pred_model.feature_importances_),\n",
    "              index=model_cate.feature_name_)\n",
    " .plot.bar())"
   ]
  },
  {
   "cell_type": "code",
   "execution_count": 8,
   "id": "ee6ef077",
   "metadata": {
    "ExecuteTime": {
     "end_time": "2023-10-25T12:13:26.975667Z",
     "start_time": "2023-10-25T12:13:26.961695Z"
    }
   },
   "outputs": [],
   "source": [
    "test_pred = test.assign(\n",
    "    cate_pred = model_cate.predict(test[X_cols]),\n",
    "    y_pred = pred_model.predict(test[X_cols])\n",
    ")"
   ]
  },
  {
   "cell_type": "code",
   "execution_count": 9,
   "id": "e2c5d11b",
   "metadata": {
    "ExecuteTime": {
     "end_time": "2023-10-25T12:13:27.132076Z",
     "start_time": "2023-10-25T12:13:26.977122Z"
    }
   },
   "outputs": [
    {
     "name": "stdout",
     "output_type": "stream",
     "text": [
      "cate_pred_band\n",
      "(-5.332000000000001, -0.919]   -1.964935\n",
      "(-0.919, -0.238]               -0.630314\n",
      "(-0.238, 0.228]                -0.171287\n",
      "(0.228, 0.603]                  0.179530\n",
      "(0.603, 0.989]                  0.972066\n",
      "(0.989, 1.368]                  1.126710\n",
      "(1.368, 1.795]                  1.400051\n",
      "(1.795, 2.28]                   1.995610\n",
      "(2.28, 2.955]                   2.714577\n",
      "(2.955, 6.759]                  4.181803\n",
      "dtype: float64\n"
     ]
    },
    {
     "data": {
      "image/png": "[encoded data removed]",
      "text/plain": [
       "<Figure size 432x288 with 1 Axes>"
      ]
     },
     "metadata": {
      "needs_background": "light"
     },
     "output_type": "display_data"
    }
   ],
   "source": [
    "from fklearn.causal.validation.curves import effect_by_segment, cumulative_effect_curve, cumulative_gain_curve\n",
    "\n",
    "cate_pred = effect_by_segment(\n",
    "    df = test_pred,\n",
    "    treatment = \"t\",\n",
    "    outcome = \"y\",\n",
    "    prediction = \"cate_pred\",\n",
    "    segments = 10,\n",
    ")\n",
    "\n",
    "pred_effect_curve = effect_by_segment(\n",
    "    df = test_pred,\n",
    "    treatment = \"t\",\n",
    "    outcome = \"y\",\n",
    "    prediction = \"y_pred\",\n",
    "    segments = 10,\n",
    ")\n",
    "\n",
    "print(cate_pred)\n",
    "\n",
    "cate_pred.plot(label=\"cate model\")\n",
    "pred_effect_curve.plot(label=\"pred model\")\n",
    "\n",
    "plt.tick_params(\n",
    "    axis='x',          # changes apply to the x-axis\n",
    "    which='both',      # both major and minor ticks are affected\n",
    "    bottom=False,      # ticks along the bottom edge are off\n",
    "    top=False,         # ticks along the top edge are off\n",
    "    labelbottom=False) # labels along the bottom edge are off\n",
    "plt.xlabel(\"Quantile\")\n",
    "plt.ylabel(\"Effect\")\n",
    "\n",
    "plt.legend();"
   ]
  },
  {
   "cell_type": "code",
   "execution_count": 10,
   "id": "27ab216e",
   "metadata": {
    "ExecuteTime": {
     "end_time": "2023-10-25T12:13:27.301789Z",
     "start_time": "2023-10-25T12:13:27.135825Z"
    }
   },
   "outputs": [
    {
     "data": {
      "image/png": "[encoded data removed]",
      "text/plain": [
       "<Figure size 432x288 with 1 Axes>"
      ]
     },
     "metadata": {
      "needs_background": "light"
     },
     "output_type": "display_data"
    }
   ],
   "source": [
    "cumulative_cate_curve = cumulative_effect_curve(\n",
    "    df = test_pred,\n",
    "    treatment = \"t\",\n",
    "    outcome = \"y\",\n",
    "    prediction = \"cate_pred\",\n",
    ")\n",
    "\n",
    "pred_cumulative_cate_curve = cumulative_effect_curve(\n",
    "    df = test_pred,\n",
    "    treatment = \"t\",\n",
    "    outcome = \"y\",\n",
    "    prediction = \"y_pred\",\n",
    ")\n",
    "\n",
    "\n",
    "plt.plot(cumulative_cate_curve, label=\"cate model\")\n",
    "plt.plot(pred_cumulative_cate_curve, label=\"pred model\")\n",
    "plt.hlines(ate_test, 0, 100, color=\"0\", ls=\"dashed\")\n",
    "\n",
    "plt.xticks(rotation=45)\n",
    "plt.ylabel(\"Cumulative Effect\")\n",
    "plt.legend();"
   ]
  },
  {
   "cell_type": "code",
   "execution_count": 11,
   "id": "bb29935e",
   "metadata": {
    "ExecuteTime": {
     "end_time": "2023-10-25T12:13:27.466660Z",
     "start_time": "2023-10-25T12:13:27.303055Z"
    }
   },
   "outputs": [
    {
     "data": {
      "image/png": "[encoded data removed]",
      "text/plain": [
       "<Figure size 432x288 with 1 Axes>"
      ]
     },
     "metadata": {
      "needs_background": "light"
     },
     "output_type": "display_data"
    }
   ],
   "source": [
    "cumulative_gain = cumulative_gain_curve(\n",
    "    df = test_pred,\n",
    "    treatment = \"t\",\n",
    "    outcome = \"y\",\n",
    "    prediction = \"cate_pred\",\n",
    ")\n",
    "\n",
    "cumulative_gain_pred = cumulative_gain_curve(\n",
    "    df = test_pred,\n",
    "    treatment = \"t\",\n",
    "    outcome = \"y\",\n",
    "    prediction = \"y_pred\",\n",
    ")\n",
    "\n",
    "\n",
    "plt.plot(cumulative_gain, label=\"cate model\")\n",
    "plt.plot(cumulative_gain_pred, label=\"pred model\")\n",
    "plt.plot([0, 100], [0, ate_test], color=\"0\", ls=\"dashed\")\n",
    "\n",
    "plt.xticks(rotation=45)\n",
    "plt.ylabel(\"Cumulative Gain\")\n",
    "plt.legend();"
   ]
  },
  {
   "cell_type": "markdown",
   "id": "1d515d8a",
   "metadata": {
    "ExecuteTime": {
     "end_time": "2023-10-24T12:53:16.510007Z",
     "start_time": "2023-10-24T12:53:16.501672Z"
    }
   },
   "source": [
    "# Causal Metrics and Binary Outcomes"
   ]
  },
  {
   "cell_type": "code",
   "execution_count": 12,
   "id": "4e7a7969",
   "metadata": {
    "ExecuteTime": {
     "end_time": "2023-10-25T12:13:27.486221Z",
     "start_time": "2023-10-25T12:13:27.468003Z"
    }
   },
   "outputs": [
    {
     "name": "stdout",
     "output_type": "stream",
     "text": [
      "0.09485 0.71215\n"
     ]
    }
   ],
   "source": [
    "n = 20000\n",
    "n_features = 10\n",
    "treatment_p = 0.5\n",
    "\n",
    "np.random.seed(123)\n",
    "\n",
    "teh_features  = np.random.normal(0, 1, (n, n_features))\n",
    "pred_features = np.random.normal(0, 1, (n, n_features))\n",
    "\n",
    "teh_coef  = np.random.uniform(-1, 1, n_features)\n",
    "pred_coef = np.random.uniform(-1, 1, n_features)\n",
    "ate_bias  = 1\n",
    "\n",
    "t = np.random.binomial(1, treatment_p, n)\n",
    "\n",
    "y = np.random.normal(\n",
    "    ate_bias*t\n",
    "    + teh_features.dot(teh_coef)*t \n",
    "    + pred_features.dot(pred_coef)\n",
    ") \n",
    "\n",
    "\n",
    "df_low_p = pd.concat([\n",
    "    pd.DataFrame(dict(y=(y>4)*1, t=t)),\n",
    "    pd.DataFrame(teh_features, columns = [f\"teh_{i}\" for i in range(n_features)]),\n",
    "    pd.DataFrame(pred_features, columns = [f\"pred_{i}\" for i in range(n_features)]),\n",
    "], axis=1)\n",
    "\n",
    "\n",
    "df_high_p = pd.concat([\n",
    "    pd.DataFrame(dict(y=(y>-1)*1, t=t)),\n",
    "    pd.DataFrame(teh_features, columns = [f\"teh_{i}\" for i in range(n_features)]),\n",
    "    pd.DataFrame(pred_features, columns = [f\"pred_{i}\" for i in range(n_features)]),\n",
    "], axis=1)\n",
    "\n",
    "\n",
    "print(df_low_p[\"y\"].mean(), df_high_p[\"y\"].mean())"
   ]
  },
  {
   "cell_type": "markdown",
   "id": "42835f1d",
   "metadata": {
    "ExecuteTime": {
     "end_time": "2023-10-24T12:56:43.593214Z",
     "start_time": "2023-10-24T12:56:43.584658Z"
    }
   },
   "source": [
    "## Low Y Probability"
   ]
  },
  {
   "cell_type": "code",
   "execution_count": 13,
   "id": "4389f42a",
   "metadata": {
    "ExecuteTime": {
     "end_time": "2023-10-25T12:13:27.555408Z",
     "start_time": "2023-10-25T12:13:27.487563Z"
    }
   },
   "outputs": [
    {
     "data": {
      "image/png": "[encoded data removed]",
      "text/plain": [
       "<Figure size 432x288 with 1 Axes>"
      ]
     },
     "metadata": {
      "needs_background": "light"
     },
     "output_type": "display_data"
    }
   ],
   "source": [
    "plt.hist(df_low_p[\"y\"]);"
   ]
  },
  {
   "cell_type": "code",
   "execution_count": 14,
   "id": "8f917000",
   "metadata": {
    "ExecuteTime": {
     "end_time": "2023-10-25T12:13:27.562922Z",
     "start_time": "2023-10-25T12:13:27.556753Z"
    }
   },
   "outputs": [
    {
     "data": {
      "text/plain": [
       "((14000, 22), (6000, 22))"
      ]
     },
     "execution_count": 14,
     "metadata": {},
     "output_type": "execute_result"
    }
   ],
   "source": [
    "train, test = train_test_split(df_low_p, test_size=0.3, random_state=1)\n",
    "train.shape, test.shape"
   ]
  },
  {
   "cell_type": "code",
   "execution_count": 15,
   "id": "acdfccda",
   "metadata": {
    "ExecuteTime": {
     "end_time": "2023-10-25T12:13:27.614476Z",
     "start_time": "2023-10-25T12:13:27.564553Z"
    }
   },
   "outputs": [
    {
     "data": {
      "text/plain": [
       "(0.10522119689903342, 0.11544210618988132)"
      ]
     },
     "execution_count": 15,
     "metadata": {},
     "output_type": "execute_result"
    }
   ],
   "source": [
    "ate_train = train.query(\"t==1\")[\"y\"].mean() - train.query(\"t==0\")[\"y\"].mean()\n",
    "ate_test = test.query(\"t==1\")[\"y\"].mean() - train.query(\"t==0\")[\"y\"].mean()\n",
    "ate_train, ate_test "
   ]
  },
  {
   "cell_type": "code",
   "execution_count": 16,
   "id": "7de41d5a",
   "metadata": {
    "ExecuteTime": {
     "end_time": "2023-10-25T12:13:27.619916Z",
     "start_time": "2023-10-25T12:13:27.616386Z"
    }
   },
   "outputs": [],
   "source": [
    "def dml_model(train_df,\n",
    "              model_y,\n",
    "              model_t,\n",
    "              model_cate,\n",
    "              X_cols,\n",
    "              T_col, \n",
    "              Y_col):\n",
    "    \n",
    "    \n",
    "    train_res = train_df.assign(t_res =  train_df[T_col] - cross_val_predict(model_t, train_df[X_cols], train_df[T_col], cv=5, method=\"predict_proba\")[:, 1],\n",
    "                                y_res =  train_df[Y_col] - cross_val_predict(model_y, train_df[X_cols], train_df[Y_col], cv=5, method=\"predict_proba\")[:, 1])\n",
    "    \n",
    "    \n",
    "    w = train_res[\"t_res\"] ** 2  \n",
    "    y_star = (train_res[\"y_res\"] / train_res[\"t_res\"])\n",
    "    \n",
    "    \n",
    "    model_cate.fit(X=train_df[X_cols], y=y_star, sample_weight=w)\n",
    "    return model_cate"
   ]
  },
  {
   "cell_type": "code",
   "execution_count": 17,
   "id": "a0201e31",
   "metadata": {
    "ExecuteTime": {
     "end_time": "2023-10-25T12:13:28.497766Z",
     "start_time": "2023-10-25T12:13:27.621223Z"
    }
   },
   "outputs": [],
   "source": [
    "X_cols =  train.drop(columns=[\"y\", \"t\"]).columns\n",
    "\n",
    "\n",
    "model_cate = dml_model(train,\n",
    "                       model_t=LGBMClassifier(max_depth=3),\n",
    "                       model_y=LGBMClassifier(max_depth=3),\n",
    "                       model_cate=LGBMRegressor(max_depth=3),\n",
    "                       X_cols=X_cols,\n",
    "                       T_col=\"t\",\n",
    "                       Y_col=\"y\")\n",
    "\n",
    "\n",
    "pred_model = LGBMClassifier(max_depth=3).fit(train[X_cols], train[\"y\"])"
   ]
  },
  {
   "cell_type": "code",
   "execution_count": 18,
   "id": "5932ad11",
   "metadata": {
    "ExecuteTime": {
     "end_time": "2023-10-25T12:13:28.638719Z",
     "start_time": "2023-10-25T12:13:28.499032Z"
    }
   },
   "outputs": [
    {
     "data": {
      "image/png": "[encoded data removed]",
      "text/plain": [
       "<Figure size 432x288 with 1 Axes>"
      ]
     },
     "metadata": {
      "needs_background": "light"
     },
     "output_type": "display_data"
    }
   ],
   "source": [
    "(pd.DataFrame(dict(cate=model_cate.feature_importances_, pred=pred_model.feature_importances_),\n",
    "              index=model_cate.feature_name_)\n",
    " .plot.bar())\n",
    "plt.ylabel(\"Feature importance\");\n",
    "plt.xlabel(\"Feature name\");"
   ]
  },
  {
   "cell_type": "code",
   "execution_count": 19,
   "id": "5be95663",
   "metadata": {
    "ExecuteTime": {
     "end_time": "2023-10-25T12:13:28.657376Z",
     "start_time": "2023-10-25T12:13:28.640459Z"
    }
   },
   "outputs": [],
   "source": [
    "test_pred = test.assign(\n",
    "    cate_pred = model_cate.predict(test[X_cols]),\n",
    "    y_pred = pred_model.predict_proba(test[X_cols])[:, 1]\n",
    ")\n",
    "\n",
    "ate_test = test_pred.query(\"t==1\")[\"y\"].mean() - test_pred.query(\"t==0\")[\"y\"].mean()"
   ]
  },
  {
   "cell_type": "code",
   "execution_count": 20,
   "id": "8f366a8f",
   "metadata": {
    "ExecuteTime": {
     "end_time": "2023-10-25T12:13:28.829228Z",
     "start_time": "2023-10-25T12:13:28.659293Z"
    }
   },
   "outputs": [
    {
     "data": {
      "image/png": "[encoded data removed]",
      "text/plain": [
       "<Figure size 432x288 with 1 Axes>"
      ]
     },
     "metadata": {
      "needs_background": "light"
     },
     "output_type": "display_data"
    }
   ],
   "source": [
    "cumulative_gain = cumulative_gain_curve(\n",
    "    df = test_pred,\n",
    "    treatment = \"t\",\n",
    "    outcome = \"y\",\n",
    "    prediction = \"cate_pred\",\n",
    ")\n",
    "\n",
    "cumulative_gain_pred = cumulative_gain_curve(\n",
    "    df = test_pred,\n",
    "    treatment = \"t\",\n",
    "    outcome = \"y\",\n",
    "    prediction = \"y_pred\",\n",
    ")\n",
    "\n",
    "\n",
    "plt.plot(cumulative_gain, label=\"cate model\")\n",
    "plt.plot(cumulative_gain_pred, label=\"pred model\")\n",
    "plt.plot([0, 100], [0, ate_test], color=\"0\", ls=\"dashed\")\n",
    "\n",
    "plt.xticks(rotation=45);\n",
    "plt.legend();"
   ]
  },
  {
   "cell_type": "markdown",
   "id": "320a09a5",
   "metadata": {
    "ExecuteTime": {
     "end_time": "2023-10-24T14:06:56.082272Z",
     "start_time": "2023-10-24T14:06:56.075380Z"
    }
   },
   "source": [
    "## High Y Probability"
   ]
  },
  {
   "cell_type": "code",
   "execution_count": 21,
   "id": "bf9b83a1",
   "metadata": {
    "ExecuteTime": {
     "end_time": "2023-10-25T12:13:28.896017Z",
     "start_time": "2023-10-25T12:13:28.830792Z"
    }
   },
   "outputs": [
    {
     "data": {
      "image/png": "[encoded data removed]",
      "text/plain": [
       "<Figure size 432x288 with 1 Axes>"
      ]
     },
     "metadata": {
      "needs_background": "light"
     },
     "output_type": "display_data"
    }
   ],
   "source": [
    "plt.hist(df_high_p[\"y\"]);"
   ]
  },
  {
   "cell_type": "code",
   "execution_count": 22,
   "id": "5ab5a876",
   "metadata": {
    "ExecuteTime": {
     "end_time": "2023-10-25T12:13:28.903556Z",
     "start_time": "2023-10-25T12:13:28.897508Z"
    }
   },
   "outputs": [
    {
     "data": {
      "text/plain": [
       "((14000, 22), (6000, 22))"
      ]
     },
     "execution_count": 22,
     "metadata": {},
     "output_type": "execute_result"
    }
   ],
   "source": [
    "train, test = train_test_split(df_high_p, test_size=0.3, random_state=1)\n",
    "train.shape, test.shape"
   ]
  },
  {
   "cell_type": "code",
   "execution_count": 23,
   "id": "d3e92001",
   "metadata": {
    "ExecuteTime": {
     "end_time": "2023-10-25T12:13:28.914952Z",
     "start_time": "2023-10-25T12:13:28.904836Z"
    }
   },
   "outputs": [
    {
     "data": {
      "text/plain": [
       "(0.09276212825843666, 0.09290362340069314)"
      ]
     },
     "execution_count": 23,
     "metadata": {},
     "output_type": "execute_result"
    }
   ],
   "source": [
    "ate_train = train.query(\"t==1\")[\"y\"].mean() - train.query(\"t==0\")[\"y\"].mean()\n",
    "ate_test = test.query(\"t==1\")[\"y\"].mean() - train.query(\"t==0\")[\"y\"].mean()\n",
    "ate_train, ate_test "
   ]
  },
  {
   "cell_type": "code",
   "execution_count": 24,
   "id": "65d0dddd",
   "metadata": {
    "ExecuteTime": {
     "end_time": "2023-10-25T12:13:30.072031Z",
     "start_time": "2023-10-25T12:13:28.916506Z"
    }
   },
   "outputs": [],
   "source": [
    "X_cols =  train.drop(columns=[\"y\", \"t\"]).columns\n",
    "\n",
    "\n",
    "model_cate = dml_model(train,\n",
    "                       model_t=LGBMClassifier(max_depth=3),\n",
    "                       model_y=LGBMClassifier(max_depth=3),\n",
    "                       model_cate=LGBMRegressor(max_depth=3),\n",
    "                       X_cols=X_cols,\n",
    "                       T_col=\"t\",\n",
    "                       Y_col=\"y\")\n",
    "\n",
    "\n",
    "pred_model = LGBMClassifier(max_depth=3).fit(train[X_cols], train[\"y\"])"
   ]
  },
  {
   "cell_type": "code",
   "execution_count": 25,
   "id": "9a019b73",
   "metadata": {
    "ExecuteTime": {
     "end_time": "2023-10-25T12:13:30.206041Z",
     "start_time": "2023-10-25T12:13:30.073377Z"
    }
   },
   "outputs": [
    {
     "data": {
      "image/png": "[encoded data removed]",
      "text/plain": [
       "<Figure size 432x288 with 1 Axes>"
      ]
     },
     "metadata": {
      "needs_background": "light"
     },
     "output_type": "display_data"
    }
   ],
   "source": [
    "(pd.DataFrame(dict(cate=model_cate.feature_importances_, pred=pred_model.feature_importances_),\n",
    "              index=model_cate.feature_name_)\n",
    " .plot.bar())\n",
    "plt.ylabel(\"Feature importance\");\n",
    "plt.xlabel(\"Feature name\");"
   ]
  },
  {
   "cell_type": "code",
   "execution_count": 26,
   "id": "3d0964b4",
   "metadata": {
    "ExecuteTime": {
     "end_time": "2023-10-25T12:13:30.231403Z",
     "start_time": "2023-10-25T12:13:30.207487Z"
    }
   },
   "outputs": [],
   "source": [
    "test_pred = test.assign(\n",
    "    cate_pred = model_cate.predict(test[X_cols]),\n",
    "    y_pred = pred_model.predict_proba(test[X_cols])[:, 1],\n",
    "    y_pred_rev = pred_model.predict_proba(test[X_cols])[:, 0],\n",
    ")\n",
    "\n",
    "ate_test = test_pred.query(\"t==1\")[\"y\"].mean() - test_pred.query(\"t==0\")[\"y\"].mean()"
   ]
  },
  {
   "cell_type": "code",
   "execution_count": 27,
   "id": "c42e4169",
   "metadata": {
    "ExecuteTime": {
     "end_time": "2023-10-25T12:13:30.455902Z",
     "start_time": "2023-10-25T12:13:30.232781Z"
    }
   },
   "outputs": [
    {
     "data": {
      "image/png": "[encoded data removed]",
      "text/plain": [
       "<Figure size 432x288 with 1 Axes>"
      ]
     },
     "metadata": {
      "needs_background": "light"
     },
     "output_type": "display_data"
    }
   ],
   "source": [
    "cumulative_gain = cumulative_gain_curve(\n",
    "    df = test_pred,\n",
    "    treatment = \"t\",\n",
    "    outcome = \"y\",\n",
    "    prediction = \"cate_pred\",\n",
    ")\n",
    "\n",
    "cumulative_gain_pred = cumulative_gain_curve(\n",
    "    df = test_pred,\n",
    "    treatment = \"t\",\n",
    "    outcome = \"y\",\n",
    "    prediction = \"y_pred\",\n",
    ")\n",
    "\n",
    "cumulative_gain_rev = cumulative_gain_curve(\n",
    "    df = test_pred,\n",
    "    treatment = \"t\",\n",
    "    outcome = \"y\",\n",
    "    prediction = \"y_pred_rev\",\n",
    ")\n",
    "\n",
    "\n",
    "plt.plot(cumulative_gain, label=\"cate model\")\n",
    "plt.plot(cumulative_gain_pred, label=\"pred model\")\n",
    "plt.plot(cumulative_gain_rev, label=\"pred model rev.\")\n",
    "plt.plot([0, 100], [0, ate_test], color=\"0\", ls=\"dashed\")\n",
    "\n",
    "plt.xticks(rotation=45);\n",
    "plt.legend();"
   ]
  },
  {
   "cell_type": "markdown",
   "id": "6eccf64b",
   "metadata": {},
   "source": [
    "# Causal Metrics and Continuous Treatments"
   ]
  },
  {
   "cell_type": "code",
   "execution_count": 28,
   "id": "84b7959d",
   "metadata": {
    "ExecuteTime": {
     "end_time": "2023-10-25T12:13:30.479083Z",
     "start_time": "2023-10-25T12:13:30.462695Z"
    }
   },
   "outputs": [],
   "source": [
    "n = 20000\n",
    "n_features = 10\n",
    "treatment_p = 0.5\n",
    "\n",
    "np.random.seed(123)\n",
    "\n",
    "teh_features  = np.random.normal(0, 1, (n, n_features))\n",
    "pred_features = np.random.normal(0, 1, (n, n_features))\n",
    "\n",
    "teh_coef  = np.random.uniform(-1, 1, n_features)\n",
    "pred_coef = np.random.uniform(-1, 1, n_features)\n",
    "ate_bias  = 1\n",
    "\n",
    "t = np.random.binomial(1, treatment_p, n)\n",
    "\n",
    "y = np.random.normal(\n",
    "    ate_bias*t\n",
    "    + teh_features.dot(teh_coef)*t \n",
    "    + pred_features.dot(pred_coef)\n",
    ")\n",
    "\n",
    "\n",
    "df = pd.concat([\n",
    "    pd.DataFrame(dict(y=y, t=t)),\n",
    "    pd.DataFrame(teh_features, columns = [f\"teh_{i}\" for i in range(n_features)]),\n",
    "    pd.DataFrame(pred_features, columns = [f\"pred_{i}\" for i in range(n_features)]),\n",
    "], axis=1)"
   ]
  },
  {
   "cell_type": "code",
   "execution_count": 29,
   "id": "1d75464f",
   "metadata": {
    "ExecuteTime": {
     "end_time": "2023-10-25T12:13:30.496591Z",
     "start_time": "2023-10-25T12:13:30.480540Z"
    }
   },
   "outputs": [],
   "source": [
    "n = 20000\n",
    "n_features = 10\n",
    "treatment_p = 0.5\n",
    "\n",
    "np.random.seed(123)\n",
    "\n",
    "teh_features  = np.random.normal(0, 1, (n, n_features))\n",
    "pred_features = np.random.normal(0, 1, (n, n_features))\n",
    "\n",
    "teh_coef  = np.random.uniform(-1, 1, n_features)\n",
    "pred_coef = np.random.uniform(-1, 1, n_features)\n",
    "ate_bias  = 1\n",
    "\n",
    "t = np.random.normal(0, 1, n)\n",
    "\n",
    "y = np.random.normal(\n",
    "    ate_bias*t\n",
    "    + teh_features.dot(teh_coef)*t \n",
    "    + pred_features.dot(pred_coef)\n",
    ") \n",
    "\n",
    "\n",
    "df_cont = pd.concat([\n",
    "    pd.DataFrame(dict(y=y, t=t)),\n",
    "    pd.DataFrame(teh_features, columns = [f\"teh_{i}\" for i in range(n_features)]),\n",
    "    pd.DataFrame(pred_features, columns = [f\"pred_{i}\" for i in range(n_features)]),\n",
    "], axis=1)\n"
   ]
  },
  {
   "cell_type": "code",
   "execution_count": 30,
   "id": "8156bcb1",
   "metadata": {
    "ExecuteTime": {
     "end_time": "2023-10-25T12:13:30.738858Z",
     "start_time": "2023-10-25T12:13:30.498142Z"
    }
   },
   "outputs": [
    {
     "data": {
      "image/png": "[encoded data removed]",
      "text/plain": [
       "<Figure size 432x288 with 1 Axes>"
      ]
     },
     "metadata": {
      "needs_background": "light"
     },
     "output_type": "display_data"
    },
    {
     "data": {
      "image/png": "[encoded data removed]",
      "text/plain": [
       "<Figure size 432x288 with 1 Axes>"
      ]
     },
     "metadata": {
      "needs_background": "light"
     },
     "output_type": "display_data"
    }
   ],
   "source": [
    "sns.regplot(x=\"t\", y=\"y\", data=df.groupby(\"t\")[[\"y\"]].mean().reset_index(), line_kws={\"color\": \"C1\"}, ci=False)\n",
    "plt.ylabel(\"E[Y|T]\")\n",
    "plt.show()\n",
    "\n",
    "sns.regplot(x=\"t\", y=\"y\",\n",
    "            data=df_cont.round({\"t\":1}).groupby(\"t\")[[\"y\"]].mean().reset_index(),\n",
    "            line_kws={\"color\": \"C1\"}, ci=False)\n",
    "plt.ylabel(\"E[Y|T]\");"
   ]
  },
  {
   "cell_type": "code",
   "execution_count": 31,
   "id": "735a5ac3",
   "metadata": {
    "ExecuteTime": {
     "end_time": "2023-10-25T12:13:30.746736Z",
     "start_time": "2023-10-25T12:13:30.740649Z"
    }
   },
   "outputs": [
    {
     "data": {
      "text/plain": [
       "((14000, 22), (6000, 22))"
      ]
     },
     "execution_count": 31,
     "metadata": {},
     "output_type": "execute_result"
    }
   ],
   "source": [
    "train, test = train_test_split(df_cont, test_size=0.3, random_state=1)\n",
    "train.shape, test.shape"
   ]
  },
  {
   "cell_type": "code",
   "execution_count": 32,
   "id": "57c9cf32",
   "metadata": {
    "ExecuteTime": {
     "end_time": "2023-10-25T12:13:30.751989Z",
     "start_time": "2023-10-25T12:13:30.748649Z"
    }
   },
   "outputs": [],
   "source": [
    "def dml_model(train_df,\n",
    "              model_y,\n",
    "              model_t,\n",
    "              model_cate,\n",
    "              X_cols,\n",
    "              T_col, \n",
    "              Y_col):\n",
    "    \n",
    "    \n",
    "    train_res = train_df.assign(t_res =  train_df[T_col] - cross_val_predict(model_t, train_df[X_cols], train_df[T_col], cv=5),\n",
    "                                y_res =  train_df[Y_col] - cross_val_predict(model_y, train_df[X_cols], train_df[Y_col], cv=5))\n",
    "    \n",
    "    \n",
    "    w = train_res[\"t_res\"] ** 2  \n",
    "    y_star = (train_res[\"y_res\"] / train_res[\"t_res\"])\n",
    "    \n",
    "    \n",
    "    model_cate.fit(X=train_df[X_cols], y=y_star, sample_weight=w)\n",
    "    return model_cate"
   ]
  },
  {
   "cell_type": "code",
   "execution_count": 33,
   "id": "685f53ab",
   "metadata": {
    "ExecuteTime": {
     "end_time": "2023-10-25T12:13:31.638833Z",
     "start_time": "2023-10-25T12:13:30.753244Z"
    }
   },
   "outputs": [],
   "source": [
    "X_cols =  train.drop(columns=[\"y\", \"t\"]).columns\n",
    "\n",
    "\n",
    "model_cate = dml_model(train,\n",
    "                       model_t=LGBMRegressor(max_depth=3),\n",
    "                       model_y=LGBMRegressor(max_depth=3),\n",
    "                       model_cate=LGBMRegressor(max_depth=3),\n",
    "                       X_cols=X_cols,\n",
    "                       T_col=\"t\",\n",
    "                       Y_col=\"y\")\n",
    "\n",
    "\n",
    "pred_model = LGBMRegressor(max_depth=3).fit(train[X_cols], train[\"y\"])"
   ]
  },
  {
   "cell_type": "code",
   "execution_count": 34,
   "id": "eba4fcc7",
   "metadata": {
    "ExecuteTime": {
     "end_time": "2023-10-25T12:13:31.772267Z",
     "start_time": "2023-10-25T12:13:31.640546Z"
    }
   },
   "outputs": [
    {
     "data": {
      "image/png": "[encoded data removed]",
      "text/plain": [
       "<Figure size 432x288 with 1 Axes>"
      ]
     },
     "metadata": {
      "needs_background": "light"
     },
     "output_type": "display_data"
    }
   ],
   "source": [
    "(pd.DataFrame(dict(cate=model_cate.feature_importances_, pred=pred_model.feature_importances_),\n",
    "              index=model_cate.feature_name_)\n",
    " .plot.bar())\n",
    "plt.ylabel(\"Feature importance\");\n",
    "plt.xlabel(\"Feature name\");"
   ]
  },
  {
   "cell_type": "code",
   "execution_count": 35,
   "id": "7932a4ac",
   "metadata": {
    "ExecuteTime": {
     "end_time": "2023-10-25T12:13:31.787425Z",
     "start_time": "2023-10-25T12:13:31.774025Z"
    }
   },
   "outputs": [
    {
     "data": {
      "text/plain": [
       "0.9267314561881571"
      ]
     },
     "execution_count": 35,
     "metadata": {},
     "output_type": "execute_result"
    }
   ],
   "source": [
    "from fklearn.causal.effects import linear_effect\n",
    "\n",
    "test_pred = test.assign(\n",
    "    cate_pred = model_cate.predict(test[X_cols]),\n",
    "    y_pred = pred_model.predict(test[X_cols]),\n",
    ")\n",
    "\n",
    "ate_test = linear_effect(test, \"t\", \"y\")\n",
    "ate_test"
   ]
  },
  {
   "cell_type": "code",
   "execution_count": 36,
   "id": "fd1c3f55",
   "metadata": {
    "ExecuteTime": {
     "end_time": "2023-10-25T12:13:31.796543Z",
     "start_time": "2023-10-25T12:13:31.788816Z"
    }
   },
   "outputs": [
    {
     "data": {
      "text/html": [
       "<div>\n",
       "<style scoped>\n",
       "    .dataframe tbody tr th:only-of-type {\n",
       "        vertical-align: middle;\n",
       "    }\n",
       "\n",
       "    .dataframe tbody tr th {\n",
       "        vertical-align: top;\n",
       "    }\n",
       "\n",
       "    .dataframe thead th {\n",
       "        text-align: right;\n",
       "    }\n",
       "</style>\n",
       "<table border=\"1\" class=\"dataframe\">\n",
       "  <thead>\n",
       "    <tr style=\"text-align: right;\">\n",
       "      <th></th>\n",
       "      <th>cate_pred</th>\n",
       "      <th>y_pred</th>\n",
       "      <th>y</th>\n",
       "    </tr>\n",
       "  </thead>\n",
       "  <tbody>\n",
       "    <tr>\n",
       "      <th>cate_pred</th>\n",
       "      <td>1.000000</td>\n",
       "      <td>-0.003021</td>\n",
       "      <td>0.011007</td>\n",
       "    </tr>\n",
       "    <tr>\n",
       "      <th>y_pred</th>\n",
       "      <td>-0.003021</td>\n",
       "      <td>1.000000</td>\n",
       "      <td>0.672430</td>\n",
       "    </tr>\n",
       "    <tr>\n",
       "      <th>y</th>\n",
       "      <td>0.011007</td>\n",
       "      <td>0.672430</td>\n",
       "      <td>1.000000</td>\n",
       "    </tr>\n",
       "  </tbody>\n",
       "</table>\n",
       "</div>"
      ],
      "text/plain": [
       "           cate_pred    y_pred         y\n",
       "cate_pred   1.000000 -0.003021  0.011007\n",
       "y_pred     -0.003021  1.000000  0.672430\n",
       "y           0.011007  0.672430  1.000000"
      ]
     },
     "execution_count": 36,
     "metadata": {},
     "output_type": "execute_result"
    }
   ],
   "source": [
    "test_pred[[\"cate_pred\", \"y_pred\", \"y\"]].corr()"
   ]
  },
  {
   "cell_type": "code",
   "execution_count": 37,
   "id": "8f6371b4",
   "metadata": {
    "ExecuteTime": {
     "end_time": "2023-10-25T12:13:31.973455Z",
     "start_time": "2023-10-25T12:13:31.798193Z"
    }
   },
   "outputs": [
    {
     "data": {
      "image/png": "[encoded data removed]",
      "text/plain": [
       "<Figure size 432x288 with 1 Axes>"
      ]
     },
     "metadata": {
      "needs_background": "light"
     },
     "output_type": "display_data"
    }
   ],
   "source": [
    "cumulative_gain = cumulative_gain_curve(\n",
    "    df = test_pred,\n",
    "    treatment = \"t\",\n",
    "    outcome = \"y\",\n",
    "    prediction = \"cate_pred\",\n",
    ")\n",
    "\n",
    "cumulative_gain_pred = cumulative_gain_curve(\n",
    "    df = test_pred,\n",
    "    treatment = \"t\",\n",
    "    outcome = \"y\",\n",
    "    prediction = \"y_pred\",\n",
    ")\n",
    "\n",
    "\n",
    "plt.plot(cumulative_gain, label=\"cate model\")\n",
    "plt.plot(cumulative_gain_pred, label=\"pred model\")\n",
    "plt.plot([0, 100], [0, ate_test], color=\"0\", ls=\"dashed\")\n",
    "\n",
    "plt.xticks(rotation=45);\n",
    "plt.legend();"
   ]
  },
  {
   "cell_type": "code",
   "execution_count": null,
   "id": "a62ff353",
   "metadata": {},
   "outputs": [],
   "source": []
  }
 ],
 "metadata": {
  "kernelspec": {
   "display_name": "Python [conda env:root] *",
   "language": "python",
   "name": "conda-root-py"
  },
  "language_info": {
   "codemirror_mode": {
    "name": "ipython",
    "version": 3
   },
   "file_extension": ".py",
   "mimetype": "text/x-python",
   "name": "python",
   "nbconvert_exporter": "python",
   "pygments_lexer": "ipython3",
   "version": "3.7.12"
  },
  "toc": {
   "base_numbering": 1,
   "nav_menu": {},
   "number_sections": true,
   "sideBar": true,
   "skip_h1_title": false,
   "title_cell": "Table of Contents",
   "title_sidebar": "Contents",
   "toc_cell": false,
   "toc_position": {},
   "toc_section_display": true,
   "toc_window_display": false
  },
  "varInspector": {
   "cols": {
    "lenName": 16,
    "lenType": 16,
    "lenVar": 40
   },
   "kernels_config": {
    "python": {
     "delete_cmd_postfix": "",
     "delete_cmd_prefix": "del ",
     "library": "var_list.py",
     "varRefreshCmd": "print(var_dic_list())"
    },
    "r": {
     "delete_cmd_postfix": ") ",
     "delete_cmd_prefix": "rm(",
     "library": "var_list.r",
     "varRefreshCmd": "cat(var_dic_list()) "
    }
   },
   "types_to_exclude": [
    "module",
    "function",
    "builtin_function_or_method",
    "instance",
    "_Feature"
   ],
   "window_display": false
  }
 },
 "nbformat": 4,
 "nbformat_minor": 5
}
