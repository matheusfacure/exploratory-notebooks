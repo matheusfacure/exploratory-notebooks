{
 "cells": [
  {
   "cell_type": "code",
   "execution_count": 1,
   "id": "402ebf97",
   "metadata": {
    "ExecuteTime": {
     "end_time": "2022-12-22T12:22:06.681764Z",
     "start_time": "2022-12-22T12:22:04.829523Z"
    }
   },
   "outputs": [],
   "source": [
    "import pandas as pd\n",
    "import numpy as np\n",
    "from matplotlib import pyplot as plt\n",
    "\n",
    "import seaborn as sns"
   ]
  },
  {
   "cell_type": "code",
   "execution_count": 2,
   "id": "b353f4dd",
   "metadata": {
    "ExecuteTime": {
     "end_time": "2022-12-22T12:22:06.741740Z",
     "start_time": "2022-12-22T12:22:06.683384Z"
    }
   },
   "outputs": [],
   "source": [
    "df = pd.read_csv(\"https://raw.githubusercontent.com/matheusfacure/python-causality-handbook/master/causal-inference-for-the-brave-and-true/data/smoking.csv\")"
   ]
  },
  {
   "cell_type": "code",
   "execution_count": 3,
   "id": "dfd3256b",
   "metadata": {
    "ExecuteTime": {
     "end_time": "2022-12-22T12:22:06.754899Z",
     "start_time": "2022-12-22T12:22:06.742902Z"
    }
   },
   "outputs": [
    {
     "data": {
      "text/html": [
       "<div>\n",
       "<style scoped>\n",
       "    .dataframe tbody tr th:only-of-type {\n",
       "        vertical-align: middle;\n",
       "    }\n",
       "\n",
       "    .dataframe tbody tr th {\n",
       "        vertical-align: top;\n",
       "    }\n",
       "\n",
       "    .dataframe thead th {\n",
       "        text-align: right;\n",
       "    }\n",
       "</style>\n",
       "<table border=\"1\" class=\"dataframe\">\n",
       "  <thead>\n",
       "    <tr style=\"text-align: right;\">\n",
       "      <th></th>\n",
       "      <th>state</th>\n",
       "      <th>year</th>\n",
       "      <th>cigsale</th>\n",
       "      <th>lnincome</th>\n",
       "      <th>beer</th>\n",
       "      <th>age15to24</th>\n",
       "      <th>retprice</th>\n",
       "      <th>california</th>\n",
       "      <th>after_treatment</th>\n",
       "    </tr>\n",
       "  </thead>\n",
       "  <tbody>\n",
       "    <tr>\n",
       "      <th>0</th>\n",
       "      <td>1</td>\n",
       "      <td>1970</td>\n",
       "      <td>89.800003</td>\n",
       "      <td>NaN</td>\n",
       "      <td>NaN</td>\n",
       "      <td>0.178862</td>\n",
       "      <td>39.599998</td>\n",
       "      <td>False</td>\n",
       "      <td>False</td>\n",
       "    </tr>\n",
       "    <tr>\n",
       "      <th>1</th>\n",
       "      <td>1</td>\n",
       "      <td>1971</td>\n",
       "      <td>95.400002</td>\n",
       "      <td>NaN</td>\n",
       "      <td>NaN</td>\n",
       "      <td>0.179928</td>\n",
       "      <td>42.700001</td>\n",
       "      <td>False</td>\n",
       "      <td>False</td>\n",
       "    </tr>\n",
       "    <tr>\n",
       "      <th>2</th>\n",
       "      <td>1</td>\n",
       "      <td>1972</td>\n",
       "      <td>101.099998</td>\n",
       "      <td>9.498476</td>\n",
       "      <td>NaN</td>\n",
       "      <td>0.180994</td>\n",
       "      <td>42.299999</td>\n",
       "      <td>False</td>\n",
       "      <td>False</td>\n",
       "    </tr>\n",
       "    <tr>\n",
       "      <th>3</th>\n",
       "      <td>1</td>\n",
       "      <td>1973</td>\n",
       "      <td>102.900002</td>\n",
       "      <td>9.550107</td>\n",
       "      <td>NaN</td>\n",
       "      <td>0.182060</td>\n",
       "      <td>42.099998</td>\n",
       "      <td>False</td>\n",
       "      <td>False</td>\n",
       "    </tr>\n",
       "    <tr>\n",
       "      <th>4</th>\n",
       "      <td>1</td>\n",
       "      <td>1974</td>\n",
       "      <td>108.199997</td>\n",
       "      <td>9.537163</td>\n",
       "      <td>NaN</td>\n",
       "      <td>0.183126</td>\n",
       "      <td>43.099998</td>\n",
       "      <td>False</td>\n",
       "      <td>False</td>\n",
       "    </tr>\n",
       "  </tbody>\n",
       "</table>\n",
       "</div>"
      ],
      "text/plain": [
       "   state  year     cigsale  lnincome  beer  age15to24   retprice  california  \\\n",
       "0      1  1970   89.800003       NaN   NaN   0.178862  39.599998       False   \n",
       "1      1  1971   95.400002       NaN   NaN   0.179928  42.700001       False   \n",
       "2      1  1972  101.099998  9.498476   NaN   0.180994  42.299999       False   \n",
       "3      1  1973  102.900002  9.550107   NaN   0.182060  42.099998       False   \n",
       "4      1  1974  108.199997  9.537163   NaN   0.183126  43.099998       False   \n",
       "\n",
       "   after_treatment  \n",
       "0            False  \n",
       "1            False  \n",
       "2            False  \n",
       "3            False  \n",
       "4            False  "
      ]
     },
     "execution_count": 3,
     "metadata": {},
     "output_type": "execute_result"
    }
   ],
   "source": [
    "df.head()"
   ]
  },
  {
   "cell_type": "markdown",
   "id": "d3b8d7d8",
   "metadata": {},
   "source": [
    "$$\n",
    "min \\ (Xw - y)^2\n",
    "$$"
   ]
  },
  {
   "cell_type": "markdown",
   "id": "4fb1db62",
   "metadata": {},
   "source": [
    "## Helper Functions\n",
    "\n",
    "\n",
    "$$\n",
    "min \\ \\bigg( \\big[\\sum_i^{K}(X_i v_i)\\big]w - y\\bigg)^2\n",
    "$$"
   ]
  },
  {
   "cell_type": "code",
   "execution_count": 4,
   "id": "ca9c3297",
   "metadata": {
    "ExecuteTime": {
     "end_time": "2022-12-22T12:22:06.774279Z",
     "start_time": "2022-12-22T12:22:06.757196Z"
    }
   },
   "outputs": [
    {
     "data": {
      "text/html": [
       "<div>\n",
       "<style scoped>\n",
       "    .dataframe tbody tr th:only-of-type {\n",
       "        vertical-align: middle;\n",
       "    }\n",
       "\n",
       "    .dataframe tbody tr th {\n",
       "        vertical-align: top;\n",
       "    }\n",
       "\n",
       "    .dataframe thead th {\n",
       "        text-align: right;\n",
       "    }\n",
       "</style>\n",
       "<table border=\"1\" class=\"dataframe\">\n",
       "  <thead>\n",
       "    <tr style=\"text-align: right;\">\n",
       "      <th>state</th>\n",
       "      <th>1</th>\n",
       "      <th>2</th>\n",
       "      <th>4</th>\n",
       "      <th>5</th>\n",
       "      <th>6</th>\n",
       "      <th>7</th>\n",
       "      <th>8</th>\n",
       "      <th>9</th>\n",
       "      <th>10</th>\n",
       "      <th>11</th>\n",
       "      <th>...</th>\n",
       "      <th>30</th>\n",
       "      <th>31</th>\n",
       "      <th>32</th>\n",
       "      <th>33</th>\n",
       "      <th>34</th>\n",
       "      <th>35</th>\n",
       "      <th>36</th>\n",
       "      <th>37</th>\n",
       "      <th>38</th>\n",
       "      <th>39</th>\n",
       "    </tr>\n",
       "    <tr>\n",
       "      <th>year</th>\n",
       "      <th></th>\n",
       "      <th></th>\n",
       "      <th></th>\n",
       "      <th></th>\n",
       "      <th></th>\n",
       "      <th></th>\n",
       "      <th></th>\n",
       "      <th></th>\n",
       "      <th></th>\n",
       "      <th></th>\n",
       "      <th></th>\n",
       "      <th></th>\n",
       "      <th></th>\n",
       "      <th></th>\n",
       "      <th></th>\n",
       "      <th></th>\n",
       "      <th></th>\n",
       "      <th></th>\n",
       "      <th></th>\n",
       "      <th></th>\n",
       "      <th></th>\n",
       "    </tr>\n",
       "  </thead>\n",
       "  <tbody>\n",
       "    <tr>\n",
       "      <th>1970</th>\n",
       "      <td>39.599998</td>\n",
       "      <td>36.700001</td>\n",
       "      <td>29.400000</td>\n",
       "      <td>42.200001</td>\n",
       "      <td>39.000000</td>\n",
       "      <td>34.299999</td>\n",
       "      <td>33.799999</td>\n",
       "      <td>41.400002</td>\n",
       "      <td>30.600000</td>\n",
       "      <td>37.700001</td>\n",
       "      <td>...</td>\n",
       "      <td>32.500000</td>\n",
       "      <td>38.500000</td>\n",
       "      <td>39.900002</td>\n",
       "      <td>40.400002</td>\n",
       "      <td>34.599998</td>\n",
       "      <td>37.700001</td>\n",
       "      <td>28.799999</td>\n",
       "      <td>33.700001</td>\n",
       "      <td>38.500000</td>\n",
       "      <td>34.099998</td>\n",
       "    </tr>\n",
       "    <tr>\n",
       "      <th>1971</th>\n",
       "      <td>42.700001</td>\n",
       "      <td>38.799999</td>\n",
       "      <td>31.100000</td>\n",
       "      <td>45.500000</td>\n",
       "      <td>41.299999</td>\n",
       "      <td>35.799999</td>\n",
       "      <td>33.599998</td>\n",
       "      <td>41.400002</td>\n",
       "      <td>32.200001</td>\n",
       "      <td>38.500000</td>\n",
       "      <td>...</td>\n",
       "      <td>34.299999</td>\n",
       "      <td>38.500000</td>\n",
       "      <td>41.599998</td>\n",
       "      <td>42.000000</td>\n",
       "      <td>36.599998</td>\n",
       "      <td>39.500000</td>\n",
       "      <td>30.200001</td>\n",
       "      <td>41.599998</td>\n",
       "      <td>40.200001</td>\n",
       "      <td>34.400002</td>\n",
       "    </tr>\n",
       "    <tr>\n",
       "      <th>1972</th>\n",
       "      <td>42.299999</td>\n",
       "      <td>44.099998</td>\n",
       "      <td>31.200001</td>\n",
       "      <td>51.299999</td>\n",
       "      <td>44.700001</td>\n",
       "      <td>40.900002</td>\n",
       "      <td>33.700001</td>\n",
       "      <td>41.900002</td>\n",
       "      <td>32.500000</td>\n",
       "      <td>41.900002</td>\n",
       "      <td>...</td>\n",
       "      <td>34.099998</td>\n",
       "      <td>39.099998</td>\n",
       "      <td>41.599998</td>\n",
       "      <td>46.900002</td>\n",
       "      <td>37.200001</td>\n",
       "      <td>40.000000</td>\n",
       "      <td>29.900000</td>\n",
       "      <td>41.299999</td>\n",
       "      <td>40.299999</td>\n",
       "      <td>34.400002</td>\n",
       "    </tr>\n",
       "    <tr>\n",
       "      <th>1973</th>\n",
       "      <td>42.099998</td>\n",
       "      <td>45.099998</td>\n",
       "      <td>32.700001</td>\n",
       "      <td>50.599998</td>\n",
       "      <td>44.000000</td>\n",
       "      <td>42.400002</td>\n",
       "      <td>36.299999</td>\n",
       "      <td>41.000000</td>\n",
       "      <td>32.900002</td>\n",
       "      <td>41.900002</td>\n",
       "      <td>...</td>\n",
       "      <td>33.500000</td>\n",
       "      <td>39.599998</td>\n",
       "      <td>40.799999</td>\n",
       "      <td>46.400002</td>\n",
       "      <td>36.500000</td>\n",
       "      <td>39.799999</td>\n",
       "      <td>30.100000</td>\n",
       "      <td>39.900002</td>\n",
       "      <td>42.599998</td>\n",
       "      <td>34.400002</td>\n",
       "    </tr>\n",
       "    <tr>\n",
       "      <th>1974</th>\n",
       "      <td>43.099998</td>\n",
       "      <td>45.500000</td>\n",
       "      <td>38.099998</td>\n",
       "      <td>52.500000</td>\n",
       "      <td>44.200001</td>\n",
       "      <td>42.400002</td>\n",
       "      <td>38.000000</td>\n",
       "      <td>41.900002</td>\n",
       "      <td>34.500000</td>\n",
       "      <td>43.200001</td>\n",
       "      <td>...</td>\n",
       "      <td>35.200001</td>\n",
       "      <td>40.400002</td>\n",
       "      <td>42.500000</td>\n",
       "      <td>47.500000</td>\n",
       "      <td>37.799999</td>\n",
       "      <td>41.299999</td>\n",
       "      <td>31.299999</td>\n",
       "      <td>42.000000</td>\n",
       "      <td>43.900002</td>\n",
       "      <td>35.799999</td>\n",
       "    </tr>\n",
       "  </tbody>\n",
       "</table>\n",
       "<p>5 rows × 38 columns</p>\n",
       "</div>"
      ],
      "text/plain": [
       "state         1          2          4          5          6          7   \\\n",
       "year                                                                      \n",
       "1970   39.599998  36.700001  29.400000  42.200001  39.000000  34.299999   \n",
       "1971   42.700001  38.799999  31.100000  45.500000  41.299999  35.799999   \n",
       "1972   42.299999  44.099998  31.200001  51.299999  44.700001  40.900002   \n",
       "1973   42.099998  45.099998  32.700001  50.599998  44.000000  42.400002   \n",
       "1974   43.099998  45.500000  38.099998  52.500000  44.200001  42.400002   \n",
       "\n",
       "state         8          9          10         11  ...         30         31  \\\n",
       "year                                               ...                         \n",
       "1970   33.799999  41.400002  30.600000  37.700001  ...  32.500000  38.500000   \n",
       "1971   33.599998  41.400002  32.200001  38.500000  ...  34.299999  38.500000   \n",
       "1972   33.700001  41.900002  32.500000  41.900002  ...  34.099998  39.099998   \n",
       "1973   36.299999  41.000000  32.900002  41.900002  ...  33.500000  39.599998   \n",
       "1974   38.000000  41.900002  34.500000  43.200001  ...  35.200001  40.400002   \n",
       "\n",
       "state         32         33         34         35         36         37  \\\n",
       "year                                                                      \n",
       "1970   39.900002  40.400002  34.599998  37.700001  28.799999  33.700001   \n",
       "1971   41.599998  42.000000  36.599998  39.500000  30.200001  41.599998   \n",
       "1972   41.599998  46.900002  37.200001  40.000000  29.900000  41.299999   \n",
       "1973   40.799999  46.400002  36.500000  39.799999  30.100000  39.900002   \n",
       "1974   42.500000  47.500000  37.799999  41.299999  31.299999  42.000000   \n",
       "\n",
       "state         38         39  \n",
       "year                         \n",
       "1970   38.500000  34.099998  \n",
       "1971   40.200001  34.400002  \n",
       "1972   40.299999  34.400002  \n",
       "1973   42.599998  34.400002  \n",
       "1974   43.900002  35.799999  \n",
       "\n",
       "[5 rows x 38 columns]"
      ]
     },
     "execution_count": 4,
     "metadata": {},
     "output_type": "execute_result"
    }
   ],
   "source": [
    "def build_x_matrix(df, time_column, geo_column, x_columns):\n",
    "    return [df.pivot(time_column, geo_column, covariate)\n",
    "            for covariate in x_columns]\n",
    "\n",
    "\n",
    "x_co_list = build_x_matrix(df.query(f\"~after_treatment & ~california\"),\n",
    "                           time_column=\"year\",\n",
    "                           geo_column=\"state\",\n",
    "                           x_columns=[\"retprice\", \"cigsale\"],)\n",
    "\n",
    "x_co_list[0].head()"
   ]
  },
  {
   "cell_type": "code",
   "execution_count": 5,
   "id": "6b9332bb",
   "metadata": {
    "ExecuteTime": {
     "end_time": "2022-12-22T12:22:06.967418Z",
     "start_time": "2022-12-22T12:22:06.775771Z"
    }
   },
   "outputs": [
    {
     "data": {
      "text/plain": [
       "{'loss': 52.12957126425171,\n",
       " 'w': array([-4.99169159e-15, -4.23182897e-15,  1.48107704e-02,  1.09089624e-01,\n",
       "        -5.06196148e-16, -3.37682034e-15, -1.17698409e-15, -1.18142274e-15,\n",
       "        -2.83793251e-15, -2.25062029e-15, -2.51938955e-15, -4.60408280e-15,\n",
       "        -3.09984604e-15, -1.74984136e-15, -1.85047125e-15, -4.12797157e-15,\n",
       "        -2.81853017e-15,  2.31839951e-01, -1.37688357e-15,  2.04922584e-01,\n",
       "         4.54290464e-02, -5.75380220e-16, -1.58639895e-15, -3.36815045e-15,\n",
       "        -1.83380312e-15, -3.53906228e-15, -2.79647641e-15, -3.08583630e-15,\n",
       "        -4.47773819e-15, -3.33919761e-15, -4.27691089e-15, -2.65688344e-15,\n",
       "         3.93908024e-01, -4.40947417e-15, -3.86138132e-15, -2.18503264e-15,\n",
       "        -2.11418927e-15, -2.50831292e-15])}"
      ]
     },
     "execution_count": 5,
     "metadata": {},
     "output_type": "execute_result"
    }
   ],
   "source": [
    "from sklearn.utils.validation import check_X_y\n",
    "import cvxpy as cp\n",
    "\n",
    "def find_w_given_vs(vs, x_co_list, y_tr_pre):\n",
    "    X_times_v = sum([x*v for x, v in zip(x_co_list, vs)])\n",
    "    X, y = check_X_y(X_times_v, y_tr_pre)\n",
    "    \n",
    "    w = cp.Variable(X.shape[1])\n",
    "    \n",
    "    objective = cp.Minimize(cp.sum_squares(X@w - y))\n",
    "    \n",
    "    constraints = [cp.sum(w) == 1, w >= 0]\n",
    "    \n",
    "    problem = cp.Problem(objective, constraints)\n",
    "            \n",
    "    loss = problem.solve(verbose=False, max_iter = 20000)\n",
    "    \n",
    "    return {\"loss\": loss, \"w\": w.value} \n",
    "\n",
    "\n",
    "y_tr_pre = df.query(\"~after_treatment\").query(\"california\")[\"cigsale\"]\n",
    "\n",
    "find_w_given_vs([0, 1], x_co_list, y_tr_pre)"
   ]
  },
  {
   "cell_type": "markdown",
   "id": "23de3a9e",
   "metadata": {},
   "source": [
    "## Checking the Shape of the Loss on Vs"
   ]
  },
  {
   "cell_type": "code",
   "execution_count": 6,
   "id": "3083a08a",
   "metadata": {
    "ExecuteTime": {
     "end_time": "2022-12-22T12:22:16.930018Z",
     "start_time": "2022-12-22T12:22:06.969078Z"
    }
   },
   "outputs": [],
   "source": [
    "\n",
    "x_co_list = build_x_matrix(df.query(f\"~after_treatment & ~california\"),\n",
    "                                   time_column=\"year\",\n",
    "                                   geo_column=\"state\",\n",
    "                                   x_columns=[\"retprice\", \"cigsale\"])\n",
    "        \n",
    "        \n",
    "y_tr_pre = df.query(f\"~after_treatment\").query(f\"california\")[\"cigsale\"]\n",
    "\n",
    "\n",
    "def v_loss(vs):\n",
    "    return find_w_given_vs(vs, x_co_list, y_tr_pre).get(\"loss\")\n",
    "\n",
    "\n",
    "x1 = np.linspace(-.2,0, 40) # retprice\n",
    "x2 = np.linspace(0.8,1.2, 40) # cigsale\n",
    "\n",
    "\n",
    "cordinates =[[i, j, v_loss([i, j])] for i in x1 for j in x2]"
   ]
  },
  {
   "cell_type": "code",
   "execution_count": 7,
   "id": "300f7c78",
   "metadata": {
    "ExecuteTime": {
     "end_time": "2022-12-22T12:22:17.129281Z",
     "start_time": "2022-12-22T12:22:16.931440Z"
    }
   },
   "outputs": [
    {
     "data": {
      "text/plain": [
       "<AxesSubplot:xlabel='cigsale', ylabel='retprice'>"
      ]
     },
     "execution_count": 7,
     "metadata": {},
     "output_type": "execute_result"
    },
    {
     "data": {
      "image/png": "[encoded data removed]",
      "text/plain": [
       "<Figure size 432x288 with 2 Axes>"
      ]
     },
     "metadata": {
      "needs_background": "light"
     },
     "output_type": "display_data"
    }
   ],
   "source": [
    "df_loss = pd.DataFrame(cordinates, columns=[\"retprice\", \"cigsale\", \"loss\"]).query(\"loss<20\")\n",
    "\n",
    "sns.heatmap(df_loss.pivot(\"retprice\", \"cigsale\", \"loss\"))"
   ]
  },
  {
   "cell_type": "markdown",
   "id": "45d87814",
   "metadata": {},
   "source": [
    "## Everything Together"
   ]
  },
  {
   "cell_type": "code",
   "execution_count": 8,
   "id": "d1a2fbe6",
   "metadata": {
    "ExecuteTime": {
     "end_time": "2022-12-22T12:22:17.144764Z",
     "start_time": "2022-12-22T12:22:17.130611Z"
    }
   },
   "outputs": [],
   "source": [
    "from sklearn.base import BaseEstimator, RegressorMixin\n",
    "from sklearn.preprocessing import StandardScaler\n",
    "from sklearn.utils.validation import check_X_y, check_array, check_is_fitted\n",
    "import cvxpy as cp\n",
    "from scipy.optimize import minimize\n",
    "\n",
    "\n",
    "class SyntheticControl(object):\n",
    "\n",
    "    def __init__(self,\n",
    "                 time_column,\n",
    "                 geo_column,\n",
    "                 y_column,\n",
    "                 x_columns,\n",
    "                 post_column,\n",
    "                 tr_column):\n",
    "        \n",
    "        self.time_column = time_column\n",
    "        self.geo_column = geo_column\n",
    "        self.y_column = y_column\n",
    "        self.x_columns = x_columns\n",
    "        self.post_column = post_column\n",
    "        self.tr_column = tr_column\n",
    "        \n",
    "    \n",
    "    def fit(self, df):\n",
    "        \n",
    "        x_co_list = build_x_matrix(df.query(f\"~{self.post_column} & ~{self.tr_column}\"),\n",
    "                                   time_column=self.time_column,\n",
    "                                   geo_column=self.geo_column,\n",
    "                                   x_columns=self.x_columns)\n",
    "        \n",
    "        y_tr_pre = df.query(f\"~{self.post_column}\").query(f\"{self.tr_column}\")[self.y_column]\n",
    "        \n",
    "\n",
    "        def v_loss(vs):\n",
    "            return find_w_given_vs(vs, x_co_list, y_tr_pre).get(\"loss\")\n",
    "        \n",
    "       \n",
    "        v_solution = minimize(v_loss, [0, 0], method='L-BFGS-B')\n",
    "        \n",
    "        self.w = find_w_given_vs(v_solution.x, x_co_list, y_tr_pre).get(\"w\")\n",
    "        self.v = v_solution.x\n",
    "        \n",
    "        \n",
    "    def predict(self, df):\n",
    "        \n",
    "        x_co_list = build_x_matrix(df.query(f\"~{self.tr_column}\"),\n",
    "                                   time_column=self.time_column,\n",
    "                                   geo_column=self.geo_column,\n",
    "                                   x_columns=self.x_columns)\n",
    "        \n",
    "        X_times_v = sum([x*v for x, v in zip(x_co_list, self.v)])\n",
    "        X = check_array(X_times_v)\n",
    "        \n",
    "        return X @ self.w\n",
    "        \n",
    "        return self.y_scaler.inverse_transform(y_scaled.reshape(-1,1)).flatten()"
   ]
  },
  {
   "cell_type": "markdown",
   "id": "786b19b3",
   "metadata": {},
   "source": [
    "## Use Model with Covariates"
   ]
  },
  {
   "cell_type": "code",
   "execution_count": 9,
   "id": "1b17d296",
   "metadata": {
    "ExecuteTime": {
     "end_time": "2022-12-22T12:22:18.206100Z",
     "start_time": "2022-12-22T12:22:17.146169Z"
    }
   },
   "outputs": [],
   "source": [
    "# model with 2 covariates\n",
    "model1 = SyntheticControl(\n",
    "    time_column=\"year\",\n",
    "    geo_column=\"state\",\n",
    "    y_column=\"cigsale\",\n",
    "    x_columns=[\"retprice\", \"cigsale\"],\n",
    "    post_column=\"after_treatment\",\n",
    "    tr_column=\"california\"\n",
    ")\n",
    "\n",
    "\n",
    "# model with 1 covariates (Outcome)\n",
    "model2 = SyntheticControl(\n",
    "    time_column=\"year\",\n",
    "    geo_column=\"state\",\n",
    "    y_column=\"cigsale\",\n",
    "    x_columns=[\"cigsale\"],\n",
    "    post_column=\"after_treatment\",\n",
    "    tr_column=\"california\"\n",
    ")\n",
    "\n",
    "\n",
    "model1.fit(df)\n",
    "model2.fit(df)"
   ]
  },
  {
   "cell_type": "code",
   "execution_count": 10,
   "id": "88da578b",
   "metadata": {
    "ExecuteTime": {
     "end_time": "2022-12-22T12:22:18.212036Z",
     "start_time": "2022-12-22T12:22:18.209199Z"
    }
   },
   "outputs": [
    {
     "data": {
      "text/plain": [
       "array([-0. , -0. ,  0. ,  0.4,  0. , -0. ,  0.1,  0.1, -0. , -0. ,  0.1,\n",
       "       -0. , -0. , -0. , -0. , -0. , -0. ,  0. ,  0.1,  0.1, -0. , -0. ,\n",
       "        0.1, -0. , -0. , -0. , -0. , -0. , -0. , -0. , -0. , -0. ,  0. ,\n",
       "       -0. , -0. ,  0. , -0. , -0. ])"
      ]
     },
     "execution_count": 10,
     "metadata": {},
     "output_type": "execute_result"
    }
   ],
   "source": [
    "model1.w.round(1)"
   ]
  },
  {
   "cell_type": "code",
   "execution_count": 11,
   "id": "86891c68",
   "metadata": {
    "ExecuteTime": {
     "end_time": "2022-12-22T12:22:18.216669Z",
     "start_time": "2022-12-22T12:22:18.213746Z"
    }
   },
   "outputs": [
    {
     "data": {
      "text/plain": [
       "array([-0.12344947,  0.96484268])"
      ]
     },
     "execution_count": 11,
     "metadata": {},
     "output_type": "execute_result"
    }
   ],
   "source": [
    "model1.v"
   ]
  },
  {
   "cell_type": "code",
   "execution_count": 12,
   "id": "2c635844",
   "metadata": {
    "ExecuteTime": {
     "end_time": "2022-12-22T12:22:18.226946Z",
     "start_time": "2022-12-22T12:22:18.218001Z"
    }
   },
   "outputs": [],
   "source": [
    "sc1 = model1.predict(df)\n",
    "sc2 = model2.predict(df)"
   ]
  },
  {
   "cell_type": "code",
   "execution_count": 13,
   "id": "2b198d07",
   "metadata": {
    "ExecuteTime": {
     "end_time": "2022-12-22T12:22:18.301702Z",
     "start_time": "2022-12-22T12:22:18.228046Z"
    }
   },
   "outputs": [
    {
     "data": {
      "image/png": "[encoded data removed]",
      "text/plain": [
       "<Figure size 432x288 with 1 Axes>"
      ]
     },
     "metadata": {
      "needs_background": "light"
     },
     "output_type": "display_data"
    }
   ],
   "source": [
    "x = df.query(\"california\")[\"year\"]\n",
    "\n",
    "plt.plot(x, sc1, label=\"retprice and cigsale\")\n",
    "plt.plot(x, sc2, label=\"cigsale\")\n",
    "plt.plot(x, df.query(\"california\")[\"cigsale\"].values, label=\"California\")\n",
    "plt.vlines(df.query(\"after_treatment\")[\"year\"].min()-1, 40, 120, color=\"black\", ls=\"dotted\")\n",
    "plt.legend();"
   ]
  },
  {
   "cell_type": "code",
   "execution_count": null,
   "id": "758eb586",
   "metadata": {},
   "outputs": [],
   "source": []
  }
 ],
 "metadata": {
  "kernelspec": {
   "display_name": "Python [conda env:root] *",
   "language": "python",
   "name": "conda-root-py"
  },
  "language_info": {
   "codemirror_mode": {
    "name": "ipython",
    "version": 3
   },
   "file_extension": ".py",
   "mimetype": "text/x-python",
   "name": "python",
   "nbconvert_exporter": "python",
   "pygments_lexer": "ipython3",
   "version": "3.7.12"
  },
  "toc": {
   "base_numbering": 1,
   "nav_menu": {},
   "number_sections": true,
   "sideBar": true,
   "skip_h1_title": false,
   "title_cell": "Table of Contents",
   "title_sidebar": "Contents",
   "toc_cell": false,
   "toc_position": {},
   "toc_section_display": true,
   "toc_window_display": false
  },
  "varInspector": {
   "cols": {
    "lenName": 16,
    "lenType": 16,
    "lenVar": 40
   },
   "kernels_config": {
    "python": {
     "delete_cmd_postfix": "",
     "delete_cmd_prefix": "del ",
     "library": "var_list.py",
     "varRefreshCmd": "print(var_dic_list())"
    },
    "r": {
     "delete_cmd_postfix": ") ",
     "delete_cmd_prefix": "rm(",
     "library": "var_list.r",
     "varRefreshCmd": "cat(var_dic_list()) "
    }
   },
   "types_to_exclude": [
    "module",
    "function",
    "builtin_function_or_method",
    "instance",
    "_Feature"
   ],
   "window_display": false
  }
 },
 "nbformat": 4,
 "nbformat_minor": 5
}
