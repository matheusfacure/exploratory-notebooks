{
 "cells": [
  {
   "cell_type": "code",
   "execution_count": 1,
   "metadata": {
    "ExecuteTime": {
     "end_time": "2024-03-28T11:52:54.234495Z",
     "start_time": "2024-03-28T11:52:52.979100Z"
    },
    "id": "3Ex2Syxxpqr0"
   },
   "outputs": [],
   "source": [
    "import pandas as pd\n",
    "import numpy as np\n",
    "import statsmodels.formula.api as smf"
   ]
  },
  {
   "cell_type": "code",
   "execution_count": 2,
   "metadata": {
    "ExecuteTime": {
     "end_time": "2024-03-28T11:52:54.255470Z",
     "start_time": "2024-03-28T11:52:54.237357Z"
    },
    "colab": {
     "base_uri": "https://localhost:8080/",
     "height": 206
    },
    "id": "2pdJPJjopxMQ",
    "outputId": "5134407c-2915-4f54-c725-e6416ecef9ed"
   },
   "outputs": [
    {
     "data": {
      "text/html": [
       "<div>\n",
       "<style scoped>\n",
       "    .dataframe tbody tr th:only-of-type {\n",
       "        vertical-align: middle;\n",
       "    }\n",
       "\n",
       "    .dataframe tbody tr th {\n",
       "        vertical-align: top;\n",
       "    }\n",
       "\n",
       "    .dataframe thead th {\n",
       "        text-align: right;\n",
       "    }\n",
       "</style>\n",
       "<table border=\"1\" class=\"dataframe\">\n",
       "  <thead>\n",
       "    <tr style=\"text-align: right;\">\n",
       "      <th></th>\n",
       "      <th>T</th>\n",
       "      <th>X1</th>\n",
       "      <th>X2</th>\n",
       "      <th>X3</th>\n",
       "      <th>X4</th>\n",
       "      <th>Y</th>\n",
       "      <th>ps</th>\n",
       "    </tr>\n",
       "  </thead>\n",
       "  <tbody>\n",
       "    <tr>\n",
       "      <th>0</th>\n",
       "      <td>1</td>\n",
       "      <td>-0.010033</td>\n",
       "      <td>1.323274</td>\n",
       "      <td>1.432953</td>\n",
       "      <td>1.138010</td>\n",
       "      <td>2.039036</td>\n",
       "      <td>0.5</td>\n",
       "    </tr>\n",
       "    <tr>\n",
       "      <th>1</th>\n",
       "      <td>0</td>\n",
       "      <td>-0.845644</td>\n",
       "      <td>-0.003155</td>\n",
       "      <td>0.792809</td>\n",
       "      <td>2.540514</td>\n",
       "      <td>1.351514</td>\n",
       "      <td>0.5</td>\n",
       "    </tr>\n",
       "    <tr>\n",
       "      <th>2</th>\n",
       "      <td>0</td>\n",
       "      <td>0.911461</td>\n",
       "      <td>-0.430660</td>\n",
       "      <td>-2.030271</td>\n",
       "      <td>-0.082706</td>\n",
       "      <td>-1.043401</td>\n",
       "      <td>0.5</td>\n",
       "    </tr>\n",
       "    <tr>\n",
       "      <th>3</th>\n",
       "      <td>1</td>\n",
       "      <td>-1.374497</td>\n",
       "      <td>-0.146416</td>\n",
       "      <td>-1.880218</td>\n",
       "      <td>0.444621</td>\n",
       "      <td>0.906816</td>\n",
       "      <td>0.5</td>\n",
       "    </tr>\n",
       "    <tr>\n",
       "      <th>4</th>\n",
       "      <td>1</td>\n",
       "      <td>-0.547066</td>\n",
       "      <td>1.160176</td>\n",
       "      <td>-1.469470</td>\n",
       "      <td>1.896404</td>\n",
       "      <td>2.519107</td>\n",
       "      <td>0.5</td>\n",
       "    </tr>\n",
       "  </tbody>\n",
       "</table>\n",
       "</div>"
      ],
      "text/plain": [
       "   T        X1        X2        X3        X4         Y   ps\n",
       "0  1 -0.010033  1.323274  1.432953  1.138010  2.039036  0.5\n",
       "1  0 -0.845644 -0.003155  0.792809  2.540514  1.351514  0.5\n",
       "2  0  0.911461 -0.430660 -2.030271 -0.082706 -1.043401  0.5\n",
       "3  1 -1.374497 -0.146416 -1.880218  0.444621  0.906816  0.5\n",
       "4  1 -0.547066  1.160176 -1.469470  1.896404  2.519107  0.5"
      ]
     },
     "execution_count": 2,
     "metadata": {},
     "output_type": "execute_result"
    }
   ],
   "source": [
    "def create_data(N):\n",
    "    np.random.seed(123)\n",
    "    ps = 0.5\n",
    "    d = pd.DataFrame({\n",
    "      'T': np.random.binomial(1, ps, size = N),\n",
    "      'X1': np.random.normal(size = N),\n",
    "      'X2': np.random.normal(size = N),\n",
    "      'X3': np.random.normal(size = N),\n",
    "      'X4': np.random.normal(size = N)})\n",
    "    d['Y'] = 0.36*d['T'] + 0.1*d['X1'] + 0.2*d['X2'] + 0.3*d['X3']+0.4*d['X4'] + np.random.normal(size = N)\n",
    "    d[\"ps\"] = ps\n",
    "    return d\n",
    "\n",
    "df = create_data(1000)\n",
    "\n",
    "df.head()"
   ]
  },
  {
   "cell_type": "code",
   "execution_count": 3,
   "metadata": {
    "ExecuteTime": {
     "end_time": "2024-03-28T11:52:54.272824Z",
     "start_time": "2024-03-28T11:52:54.260222Z"
    },
    "colab": {
     "base_uri": "https://localhost:8080/",
     "height": 83
    },
    "id": "evEcbsSjrVta",
    "outputId": "f4c5cb18-bdd2-4a88-dda3-949d752055b6"
   },
   "outputs": [
    {
     "data": {
      "text/html": [
       "<table class=\"simpletable\">\n",
       "<tr>\n",
       "      <td></td>         <th>coef</th>     <th>std err</th>      <th>t</th>      <th>P>|t|</th>  <th>[0.025</th>    <th>0.975]</th>  \n",
       "</tr>\n",
       "<tr>\n",
       "  <th>Intercept</th> <td>    0.0182</td> <td>    0.051</td> <td>    0.359</td> <td> 0.719</td> <td>   -0.081</td> <td>    0.118</td>\n",
       "</tr>\n",
       "<tr>\n",
       "  <th>T</th>         <td>    0.4097</td> <td>    0.072</td> <td>    5.663</td> <td> 0.000</td> <td>    0.268</td> <td>    0.552</td>\n",
       "</tr>\n",
       "</table>"
      ],
      "text/plain": [
       "<class 'statsmodels.iolib.table.SimpleTable'>"
      ]
     },
     "execution_count": 3,
     "metadata": {},
     "output_type": "execute_result"
    }
   ],
   "source": [
    "smf.ols('Y ~ T', data = df).fit().summary().tables[1]"
   ]
  },
  {
   "cell_type": "markdown",
   "metadata": {
    "id": "uznNWIfvsa2x"
   },
   "source": [
    "# Variance of the OLS Estimator"
   ]
  },
  {
   "cell_type": "code",
   "execution_count": 4,
   "metadata": {
    "ExecuteTime": {
     "end_time": "2024-03-28T11:52:54.287768Z",
     "start_time": "2024-03-28T11:52:54.274182Z"
    },
    "colab": {
     "base_uri": "https://localhost:8080/",
     "height": 169
    },
    "id": "d-wa1tRRri9_",
    "outputId": "01c07bba-78c1-45a1-b871-ba1c7d03f59f"
   },
   "outputs": [
    {
     "data": {
      "text/html": [
       "<table class=\"simpletable\">\n",
       "<tr>\n",
       "      <td></td>         <th>coef</th>     <th>std err</th>      <th>t</th>      <th>P>|t|</th>  <th>[0.025</th>    <th>0.975]</th>  \n",
       "</tr>\n",
       "<tr>\n",
       "  <th>Intercept</th> <td>   -0.0345</td> <td>    0.044</td> <td>   -0.781</td> <td> 0.435</td> <td>   -0.121</td> <td>    0.052</td>\n",
       "</tr>\n",
       "<tr>\n",
       "  <th>T</th>         <td>    0.4266</td> <td>    0.063</td> <td>    6.784</td> <td> 0.000</td> <td>    0.303</td> <td>    0.550</td>\n",
       "</tr>\n",
       "<tr>\n",
       "  <th>X1</th>        <td>    0.1243</td> <td>    0.033</td> <td>    3.797</td> <td> 0.000</td> <td>    0.060</td> <td>    0.189</td>\n",
       "</tr>\n",
       "<tr>\n",
       "  <th>X2</th>        <td>    0.1471</td> <td>    0.032</td> <td>    4.557</td> <td> 0.000</td> <td>    0.084</td> <td>    0.210</td>\n",
       "</tr>\n",
       "<tr>\n",
       "  <th>X3</th>        <td>    0.2872</td> <td>    0.032</td> <td>    8.929</td> <td> 0.000</td> <td>    0.224</td> <td>    0.350</td>\n",
       "</tr>\n",
       "<tr>\n",
       "  <th>X4</th>        <td>    0.4663</td> <td>    0.031</td> <td>   14.813</td> <td> 0.000</td> <td>    0.405</td> <td>    0.528</td>\n",
       "</tr>\n",
       "</table>"
      ],
      "text/plain": [
       "<class 'statsmodels.iolib.table.SimpleTable'>"
      ]
     },
     "execution_count": 4,
     "metadata": {},
     "output_type": "execute_result"
    }
   ],
   "source": [
    "smf.ols('Y ~ T + X1 + X2 + X3 + X4', data = df).fit().summary().tables[1]"
   ]
  },
  {
   "cell_type": "markdown",
   "metadata": {
    "id": "06BQbSaBsTcb"
   },
   "source": [
    "# Variance of the IPTW Estimator"
   ]
  },
  {
   "cell_type": "code",
   "execution_count": 5,
   "metadata": {
    "ExecuteTime": {
     "end_time": "2024-03-28T11:52:54.293819Z",
     "start_time": "2024-03-28T11:52:54.289569Z"
    },
    "colab": {
     "base_uri": "https://localhost:8080/"
    },
    "id": "WTaBl5pkqFu7",
    "outputId": "8bb8a662-185a-4b93-b4ac-da6f862e745d"
   },
   "outputs": [
    {
     "data": {
      "text/plain": [
       "0.4396176216632461"
      ]
     },
     "execution_count": 5,
     "metadata": {},
     "output_type": "execute_result"
    }
   ],
   "source": [
    "\n",
    "def iptw_estimator(df):\n",
    "    w = df['T']*(1/df['ps']) + (1-df['T'])*(1/(1-df['ps']))\n",
    "    return  np.mean(w * df[\"Y\"])\n",
    "\n",
    "iptw_estimator(df)"
   ]
  },
  {
   "cell_type": "code",
   "execution_count": 6,
   "metadata": {
    "ExecuteTime": {
     "end_time": "2024-03-28T11:52:54.928360Z",
     "start_time": "2024-03-28T11:52:54.295005Z"
    },
    "id": "IYZCpDIRrO3D"
   },
   "outputs": [],
   "source": [
    "bs_runs = [iptw_estimator(df.sample(frac=1, replace=True)) for _ in range(1000)]"
   ]
  },
  {
   "cell_type": "code",
   "execution_count": 7,
   "metadata": {
    "ExecuteTime": {
     "end_time": "2024-03-28T11:52:54.933001Z",
     "start_time": "2024-03-28T11:52:54.929565Z"
    },
    "colab": {
     "base_uri": "https://localhost:8080/"
    },
    "id": "lLIcYJ_wr2On",
    "outputId": "b81dc0cf-9d70-4fe6-a47e-2440b4d2db03"
   },
   "outputs": [
    {
     "name": "stdout",
     "output_type": "stream",
     "text": [
      "0.43612833914650967\n",
      "0.07391360132262122\n",
      "[0.28754911 0.58549411]\n"
     ]
    }
   ],
   "source": [
    "print(np.mean(bs_runs))\n",
    "print(np.std(bs_runs))\n",
    "print(np.quantile(bs_runs, q=[0.025, 0.975]))"
   ]
  },
  {
   "cell_type": "markdown",
   "metadata": {
    "id": "qnzyadS3sqwk"
   },
   "source": [
    "# Variance of the Estimated IPTW Estimator"
   ]
  },
  {
   "cell_type": "code",
   "execution_count": 8,
   "metadata": {
    "ExecuteTime": {
     "end_time": "2024-03-28T11:52:55.120583Z",
     "start_time": "2024-03-28T11:52:54.934505Z"
    },
    "colab": {
     "base_uri": "https://localhost:8080/"
    },
    "id": "H4hOufker_7-",
    "outputId": "c549e8f7-f3d2-4234-e679-4361e127ab47"
   },
   "outputs": [
    {
     "data": {
      "text/plain": [
       "0.45000165228866035"
      ]
     },
     "execution_count": 8,
     "metadata": {},
     "output_type": "execute_result"
    }
   ],
   "source": [
    "from sklearn.linear_model import LogisticRegression\n",
    "\n",
    "def est_iptw_estimator(df):\n",
    "    est_ps = LogisticRegression(C=1e6, max_iter=1000).fit(df[[\"X1\", \"X2\", \"X3\", \"X4\"]], df[\"T\"]).predict_proba(df[[\"X1\", \"X2\", \"X3\", \"X4\"]])[:, 1]\n",
    "    \n",
    "    w = df['T']*(1/est_ps) + (1-df['T'])*(1/(1-est_ps))\n",
    "    return  np.mean(w * df[\"Y\"])\n",
    "\n",
    "est_iptw_estimator(df)"
   ]
  },
  {
   "cell_type": "code",
   "execution_count": 9,
   "metadata": {
    "ExecuteTime": {
     "end_time": "2024-03-28T11:52:58.463387Z",
     "start_time": "2024-03-28T11:52:55.123828Z"
    },
    "id": "efuPALxrspgc"
   },
   "outputs": [],
   "source": [
    "bs_runs = [est_iptw_estimator(df.sample(frac=1, replace=True)) for _ in range(1000)]"
   ]
  },
  {
   "cell_type": "code",
   "execution_count": 10,
   "metadata": {
    "ExecuteTime": {
     "end_time": "2024-03-28T11:52:58.467761Z",
     "start_time": "2024-03-28T11:52:58.464542Z"
    },
    "colab": {
     "base_uri": "https://localhost:8080/"
    },
    "id": "D_gRhI0wtLZm",
    "outputId": "0b8bbd02-8a42-445c-8794-afc23c961e28"
   },
   "outputs": [
    {
     "name": "stdout",
     "output_type": "stream",
     "text": [
      "0.4484444353779022\n",
      "0.06989721458317427\n",
      "[0.3097113  0.57723598]\n"
     ]
    }
   ],
   "source": [
    "print(np.mean(bs_runs))\n",
    "print(np.std(bs_runs))\n",
    "print(np.quantile(bs_runs, q=[0.025, 0.975]))"
   ]
  },
  {
   "cell_type": "code",
   "execution_count": null,
   "metadata": {
    "id": "3bz0zlGNtO-z"
   },
   "outputs": [],
   "source": []
  }
 ],
 "metadata": {
  "colab": {
   "provenance": []
  },
  "kernelspec": {
   "display_name": "Python 3 (ipykernel)",
   "language": "python",
   "name": "python3"
  },
  "language_info": {
   "codemirror_mode": {
    "name": "ipython",
    "version": 3
   },
   "file_extension": ".py",
   "mimetype": "text/x-python",
   "name": "python",
   "nbconvert_exporter": "python",
   "pygments_lexer": "ipython3",
   "version": "3.7.12"
  },
  "toc": {
   "base_numbering": 1,
   "nav_menu": {},
   "number_sections": true,
   "sideBar": true,
   "skip_h1_title": false,
   "title_cell": "Table of Contents",
   "title_sidebar": "Contents",
   "toc_cell": false,
   "toc_position": {},
   "toc_section_display": true,
   "toc_window_display": false
  },
  "varInspector": {
   "cols": {
    "lenName": 16,
    "lenType": 16,
    "lenVar": 40
   },
   "kernels_config": {
    "python": {
     "delete_cmd_postfix": "",
     "delete_cmd_prefix": "del ",
     "library": "var_list.py",
     "varRefreshCmd": "print(var_dic_list())"
    },
    "r": {
     "delete_cmd_postfix": ") ",
     "delete_cmd_prefix": "rm(",
     "library": "var_list.r",
     "varRefreshCmd": "cat(var_dic_list()) "
    }
   },
   "types_to_exclude": [
    "module",
    "function",
    "builtin_function_or_method",
    "instance",
    "_Feature"
   ],
   "window_display": false
  }
 },
 "nbformat": 4,
 "nbformat_minor": 1
}
