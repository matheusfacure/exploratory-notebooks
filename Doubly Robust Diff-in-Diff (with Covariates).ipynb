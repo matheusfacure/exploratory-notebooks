{
 "cells": [
  {
   "cell_type": "code",
   "execution_count": 1,
   "id": "1e898411",
   "metadata": {
    "ExecuteTime": {
     "end_time": "2023-01-09T11:59:54.330709Z",
     "start_time": "2023-01-09T11:59:53.118082Z"
    }
   },
   "outputs": [],
   "source": [
    "import pandas as pd\n",
    "import numpy as np\n",
    "import statsmodels.formula.api as smf"
   ]
  },
  {
   "cell_type": "markdown",
   "id": "e29aacf8",
   "metadata": {},
   "source": [
    "## DGP"
   ]
  },
  {
   "cell_type": "code",
   "execution_count": 2,
   "id": "987b2358",
   "metadata": {
    "ExecuteTime": {
     "end_time": "2023-01-09T11:59:54.358895Z",
     "start_time": "2023-01-09T11:59:54.332339Z"
    }
   },
   "outputs": [
    {
     "data": {
      "text/html": [
       "<div>\n",
       "<style scoped>\n",
       "    .dataframe tbody tr th:only-of-type {\n",
       "        vertical-align: middle;\n",
       "    }\n",
       "\n",
       "    .dataframe tbody tr th {\n",
       "        vertical-align: top;\n",
       "    }\n",
       "\n",
       "    .dataframe thead th {\n",
       "        text-align: right;\n",
       "    }\n",
       "</style>\n",
       "<table border=\"1\" class=\"dataframe\">\n",
       "  <thead>\n",
       "    <tr style=\"text-align: right;\">\n",
       "      <th></th>\n",
       "      <th>date</th>\n",
       "      <th>unit</th>\n",
       "      <th>region</th>\n",
       "      <th>treated_unit</th>\n",
       "      <th>unit_fe</th>\n",
       "      <th>time_fe</th>\n",
       "      <th>reg_ps</th>\n",
       "      <th>reg_fe</th>\n",
       "      <th>reg_trend</th>\n",
       "      <th>treated</th>\n",
       "      <th>post</th>\n",
       "      <th>y0</th>\n",
       "      <th>y1</th>\n",
       "      <th>tau</th>\n",
       "      <th>y</th>\n",
       "    </tr>\n",
       "  </thead>\n",
       "  <tbody>\n",
       "    <tr>\n",
       "      <th>0</th>\n",
       "      <td>2020-01-01</td>\n",
       "      <td>1</td>\n",
       "      <td>N</td>\n",
       "      <td>0</td>\n",
       "      <td>-2.226872</td>\n",
       "      <td>0.288617</td>\n",
       "      <td>0.4</td>\n",
       "      <td>3</td>\n",
       "      <td>3</td>\n",
       "      <td>0</td>\n",
       "      <td>0</td>\n",
       "      <td>11.061745</td>\n",
       "      <td>12.061745</td>\n",
       "      <td>1.0</td>\n",
       "      <td>12.693680</td>\n",
       "    </tr>\n",
       "    <tr>\n",
       "      <th>0</th>\n",
       "      <td>2021-01-01</td>\n",
       "      <td>1</td>\n",
       "      <td>N</td>\n",
       "      <td>0</td>\n",
       "      <td>-2.226872</td>\n",
       "      <td>0.058307</td>\n",
       "      <td>0.4</td>\n",
       "      <td>3</td>\n",
       "      <td>3</td>\n",
       "      <td>0</td>\n",
       "      <td>1</td>\n",
       "      <td>13.831435</td>\n",
       "      <td>14.831435</td>\n",
       "      <td>1.0</td>\n",
       "      <td>13.429646</td>\n",
       "    </tr>\n",
       "    <tr>\n",
       "      <th>1</th>\n",
       "      <td>2020-01-01</td>\n",
       "      <td>2</td>\n",
       "      <td>W</td>\n",
       "      <td>0</td>\n",
       "      <td>-0.134820</td>\n",
       "      <td>0.288617</td>\n",
       "      <td>0.8</td>\n",
       "      <td>-1</td>\n",
       "      <td>7</td>\n",
       "      <td>0</td>\n",
       "      <td>0</td>\n",
       "      <td>9.153797</td>\n",
       "      <td>10.153797</td>\n",
       "      <td>1.0</td>\n",
       "      <td>8.953857</td>\n",
       "    </tr>\n",
       "    <tr>\n",
       "      <th>1</th>\n",
       "      <td>2021-01-01</td>\n",
       "      <td>2</td>\n",
       "      <td>W</td>\n",
       "      <td>0</td>\n",
       "      <td>-0.134820</td>\n",
       "      <td>0.058307</td>\n",
       "      <td>0.8</td>\n",
       "      <td>-1</td>\n",
       "      <td>7</td>\n",
       "      <td>0</td>\n",
       "      <td>1</td>\n",
       "      <td>15.923487</td>\n",
       "      <td>16.923487</td>\n",
       "      <td>1.0</td>\n",
       "      <td>15.930876</td>\n",
       "    </tr>\n",
       "    <tr>\n",
       "      <th>2</th>\n",
       "      <td>2020-01-01</td>\n",
       "      <td>3</td>\n",
       "      <td>S</td>\n",
       "      <td>0</td>\n",
       "      <td>2.322880</td>\n",
       "      <td>0.288617</td>\n",
       "      <td>0.2</td>\n",
       "      <td>5</td>\n",
       "      <td>-1</td>\n",
       "      <td>0</td>\n",
       "      <td>0</td>\n",
       "      <td>17.611497</td>\n",
       "      <td>18.611497</td>\n",
       "      <td>1.0</td>\n",
       "      <td>17.887161</td>\n",
       "    </tr>\n",
       "  </tbody>\n",
       "</table>\n",
       "</div>"
      ],
      "text/plain": [
       "        date  unit region  treated_unit   unit_fe   time_fe  reg_ps  reg_fe  \\\n",
       "0 2020-01-01     1      N             0 -2.226872  0.288617     0.4       3   \n",
       "0 2021-01-01     1      N             0 -2.226872  0.058307     0.4       3   \n",
       "1 2020-01-01     2      W             0 -0.134820  0.288617     0.8      -1   \n",
       "1 2021-01-01     2      W             0 -0.134820  0.058307     0.8      -1   \n",
       "2 2020-01-01     3      S             0  2.322880  0.288617     0.2       5   \n",
       "\n",
       "   reg_trend  treated  post         y0         y1  tau          y  \n",
       "0          3        0     0  11.061745  12.061745  1.0  12.693680  \n",
       "0          3        0     1  13.831435  14.831435  1.0  13.429646  \n",
       "1          7        0     0   9.153797  10.153797  1.0   8.953857  \n",
       "1          7        0     1  15.923487  16.923487  1.0  15.930876  \n",
       "2         -1        0     0  17.611497  18.611497  1.0  17.887161  "
      ]
     },
     "execution_count": 2,
     "metadata": {},
     "output_type": "execute_result"
    }
   ],
   "source": [
    "date = pd.to_datetime([\"2020-01-01\", \"2021-01-01\"])\n",
    "units = np.array(range(1, 500+1))\n",
    "\n",
    "region = np.array([\"S\", \"N\", \"E\", \"W\"])\n",
    "reg_ps = dict(zip(region,    [0.2, 0.4, 0.6, 0.8]))\n",
    "reg_fe = dict(zip(region,    [5, 3, 1, -1]))\n",
    "reg_trend = dict(zip(region, [-1, 3, 6, 7]))\n",
    "\n",
    "np.random.seed(1)\n",
    "unit_region = pd.Series(np.random.choice(region, len(units)))\n",
    "treated_unit = np.random.binomial(1, unit_region.map(reg_ps))\n",
    "\n",
    "df = pd.DataFrame(dict(\n",
    "    date = np.tile(date, len(units)),\n",
    "    unit = np.repeat(units, len(date)),\n",
    "    region = np.repeat(unit_region, len(date)),\n",
    "    treated_unit = np.repeat(treated_unit, len(date)),\n",
    "    \n",
    "    unit_fe = np.repeat(np.random.normal(0, 2, size=len(units)), len(date)),\n",
    "    time_fe = np.tile(np.random.normal(size=len(date)), len(units)),\n",
    "    \n",
    "    reg_ps = pd.Series(np.repeat(unit_region, len(date))).map(reg_ps),\n",
    "    reg_fe = pd.Series(np.repeat(unit_region, len(date))).map(reg_fe),\n",
    "    reg_trend = pd.Series(np.repeat(unit_region, len(date))).map(reg_trend))\n",
    ").assign(\n",
    "    treated = lambda d: (d[\"treated_unit\"] == 1).astype(int),\n",
    "    post = lambda d: (d[\"date\"] >= \"2021-01-01\").astype(int)\n",
    ").assign(\n",
    "    y0 = lambda d: (10\n",
    "                    + d[\"unit_fe\"] \n",
    "                    + d[\"time_fe\"] \n",
    "                    + d[\"reg_fe\"]\n",
    "                    + d[\"reg_trend\"]*(d[\"date\"] >= \"2021-01-01\")),\n",
    ").assign(\n",
    "    y1 = lambda d: d[\"y0\"] + 1\n",
    ").assign(\n",
    "    tau = lambda d: d[\"y1\"] - d[\"y0\"],\n",
    "    y = lambda d: np.where(d[\"treated\"]*d[\"post\"] == 1, d[\"y1\"], d[\"y0\"]) + np.random.normal(0,1,len(d))\n",
    ")\n",
    "\n",
    "df.head()"
   ]
  },
  {
   "cell_type": "markdown",
   "id": "1836af23",
   "metadata": {},
   "source": [
    "## Traditional DiD With Covariates"
   ]
  },
  {
   "cell_type": "code",
   "execution_count": 3,
   "id": "9b7e16b0",
   "metadata": {
    "ExecuteTime": {
     "end_time": "2023-01-09T11:59:54.374959Z",
     "start_time": "2023-01-09T11:59:54.362777Z"
    }
   },
   "outputs": [
    {
     "data": {
      "text/html": [
       "<table class=\"simpletable\">\n",
       "<tr>\n",
       "        <td></td>          <th>coef</th>     <th>std err</th>      <th>t</th>      <th>P>|t|</th>  <th>[0.025</th>    <th>0.975]</th>  \n",
       "</tr>\n",
       "<tr>\n",
       "  <th>Intercept</th>    <td>   13.4804</td> <td>    0.170</td> <td>   79.434</td> <td> 0.000</td> <td>   13.147</td> <td>   13.813</td>\n",
       "</tr>\n",
       "<tr>\n",
       "  <th>post</th>         <td>    2.0901</td> <td>    0.240</td> <td>    8.709</td> <td> 0.000</td> <td>    1.619</td> <td>    2.561</td>\n",
       "</tr>\n",
       "<tr>\n",
       "  <th>treated</th>      <td>   -2.1725</td> <td>    0.241</td> <td>   -8.998</td> <td> 0.000</td> <td>   -2.646</td> <td>   -1.699</td>\n",
       "</tr>\n",
       "<tr>\n",
       "  <th>post:treated</th> <td>    3.6291</td> <td>    0.341</td> <td>   10.628</td> <td> 0.000</td> <td>    2.959</td> <td>    4.299</td>\n",
       "</tr>\n",
       "</table>"
      ],
      "text/plain": [
       "<class 'statsmodels.iolib.table.SimpleTable'>"
      ]
     },
     "execution_count": 3,
     "metadata": {},
     "output_type": "execute_result"
    }
   ],
   "source": [
    "smf.ols(\"y~post*treated\", data=df).fit().summary().tables[1]"
   ]
  },
  {
   "cell_type": "code",
   "execution_count": 4,
   "id": "cf240050",
   "metadata": {
    "ExecuteTime": {
     "end_time": "2023-01-09T11:59:54.389417Z",
     "start_time": "2023-01-09T11:59:54.376127Z"
    }
   },
   "outputs": [
    {
     "data": {
      "text/html": [
       "<table class=\"simpletable\">\n",
       "<tr>\n",
       "         <td></td>           <th>coef</th>     <th>std err</th>      <th>t</th>      <th>P>|t|</th>  <th>[0.025</th>    <th>0.975]</th>  \n",
       "</tr>\n",
       "<tr>\n",
       "  <th>Intercept</th>      <td>   13.1802</td> <td>    0.232</td> <td>   56.871</td> <td> 0.000</td> <td>   12.725</td> <td>   13.635</td>\n",
       "</tr>\n",
       "<tr>\n",
       "  <th>C(region)[T.N]</th> <td>    0.3098</td> <td>    0.242</td> <td>    1.281</td> <td> 0.201</td> <td>   -0.165</td> <td>    0.785</td>\n",
       "</tr>\n",
       "<tr>\n",
       "  <th>C(region)[T.S]</th> <td>    0.6852</td> <td>    0.243</td> <td>    2.823</td> <td> 0.005</td> <td>    0.209</td> <td>    1.162</td>\n",
       "</tr>\n",
       "<tr>\n",
       "  <th>C(region)[T.W]</th> <td>   -0.9844</td> <td>    0.246</td> <td>   -3.994</td> <td> 0.000</td> <td>   -1.468</td> <td>   -0.501</td>\n",
       "</tr>\n",
       "<tr>\n",
       "  <th>post</th>           <td>    2.0901</td> <td>    0.235</td> <td>    8.886</td> <td> 0.000</td> <td>    1.629</td> <td>    2.552</td>\n",
       "</tr>\n",
       "<tr>\n",
       "  <th>treated</th>        <td>   -1.6090</td> <td>    0.252</td> <td>   -6.389</td> <td> 0.000</td> <td>   -2.103</td> <td>   -1.115</td>\n",
       "</tr>\n",
       "<tr>\n",
       "  <th>post:treated</th>   <td>    3.6291</td> <td>    0.335</td> <td>   10.844</td> <td> 0.000</td> <td>    2.972</td> <td>    4.286</td>\n",
       "</tr>\n",
       "</table>"
      ],
      "text/plain": [
       "<class 'statsmodels.iolib.table.SimpleTable'>"
      ]
     },
     "execution_count": 4,
     "metadata": {},
     "output_type": "execute_result"
    }
   ],
   "source": [
    "smf.ols(\"y~post*treated + C(region)\", data=df).fit().summary().tables[1]"
   ]
  },
  {
   "cell_type": "code",
   "execution_count": 5,
   "id": "43aeb07e",
   "metadata": {
    "ExecuteTime": {
     "end_time": "2023-01-09T11:59:54.405801Z",
     "start_time": "2023-01-09T11:59:54.390757Z"
    }
   },
   "outputs": [
    {
     "data": {
      "text/html": [
       "<table class=\"simpletable\">\n",
       "<tr>\n",
       "           <td></td>              <th>coef</th>     <th>std err</th>      <th>t</th>      <th>P>|t|</th>  <th>[0.025</th>    <th>0.975]</th>  \n",
       "</tr>\n",
       "<tr>\n",
       "  <th>Intercept</th>           <td>   11.3287</td> <td>    0.239</td> <td>   47.379</td> <td> 0.000</td> <td>   10.859</td> <td>   11.798</td>\n",
       "</tr>\n",
       "<tr>\n",
       "  <th>C(region)[T.N]</th>      <td>    1.7889</td> <td>    0.290</td> <td>    6.175</td> <td> 0.000</td> <td>    1.220</td> <td>    2.357</td>\n",
       "</tr>\n",
       "<tr>\n",
       "  <th>C(region)[T.S]</th>      <td>    4.1519</td> <td>    0.291</td> <td>   14.287</td> <td> 0.000</td> <td>    3.582</td> <td>    4.722</td>\n",
       "</tr>\n",
       "<tr>\n",
       "  <th>C(region)[T.W]</th>      <td>   -1.4337</td> <td>    0.295</td> <td>   -4.858</td> <td> 0.000</td> <td>   -2.013</td> <td>   -0.855</td>\n",
       "</tr>\n",
       "<tr>\n",
       "  <th>post</th>                <td>    5.7932</td> <td>    0.338</td> <td>   17.132</td> <td> 0.000</td> <td>    5.130</td> <td>    6.457</td>\n",
       "</tr>\n",
       "<tr>\n",
       "  <th>post:C(region)[T.N]</th> <td>   -2.9581</td> <td>    0.410</td> <td>   -7.220</td> <td> 0.000</td> <td>   -3.762</td> <td>   -2.154</td>\n",
       "</tr>\n",
       "<tr>\n",
       "  <th>post:C(region)[T.S]</th> <td>   -6.9333</td> <td>    0.411</td> <td>  -16.870</td> <td> 0.000</td> <td>   -7.740</td> <td>   -6.127</td>\n",
       "</tr>\n",
       "<tr>\n",
       "  <th>post:C(region)[T.W]</th> <td>    0.8986</td> <td>    0.417</td> <td>    2.153</td> <td> 0.032</td> <td>    0.080</td> <td>    1.718</td>\n",
       "</tr>\n",
       "<tr>\n",
       "  <th>treated</th>             <td>   -0.2784</td> <td>    0.225</td> <td>   -1.235</td> <td> 0.217</td> <td>   -0.721</td> <td>    0.164</td>\n",
       "</tr>\n",
       "<tr>\n",
       "  <th>post:treated</th>        <td>    0.9678</td> <td>    0.319</td> <td>    3.036</td> <td> 0.002</td> <td>    0.342</td> <td>    1.593</td>\n",
       "</tr>\n",
       "</table>"
      ],
      "text/plain": [
       "<class 'statsmodels.iolib.table.SimpleTable'>"
      ]
     },
     "execution_count": 5,
     "metadata": {},
     "output_type": "execute_result"
    }
   ],
   "source": [
    "smf.ols(\"y~post*(treated + C(region))\", data=df).fit().summary().tables[1]"
   ]
  },
  {
   "cell_type": "code",
   "execution_count": 6,
   "id": "b0c370ab",
   "metadata": {
    "ExecuteTime": {
     "end_time": "2023-01-09T11:59:54.428260Z",
     "start_time": "2023-01-09T11:59:54.407131Z"
    }
   },
   "outputs": [
    {
     "name": "stdout",
     "output_type": "stream",
     "text": [
      "N 0.9226567466899882\n",
      "W 1.1623121008046138\n",
      "S 0.9169824580119377\n",
      "E 0.9421142952058243\n"
     ]
    }
   ],
   "source": [
    "for region in df[\"region\"].unique():\n",
    "    att = smf.ols(\"y~post*treated\", data=df.query(\"region==@region\")).fit().params[\"post:treated\"]\n",
    "    print(region, att)\n",
    "    "
   ]
  },
  {
   "cell_type": "markdown",
   "id": "e7279e7c",
   "metadata": {},
   "source": [
    "## Doubly Robust DiD\n",
    "\n",
    "\n",
    "\n",
    "$$\n",
    "\\hat{\\tau}_{DRDID} = \\hat{\\Delta y}_1^{DR} - \\hat{\\Delta y}_0^{DR}\n",
    "$$\n",
    "\n",
    "\n",
    "$$\n",
    "\\hat{\\Delta y}_1^{DR} = 1/N_{tr}\\sum_{i \\in tr} \\big(\\Delta y - \\hat{m}(X)\\big)\n",
    "$$\n",
    "\n",
    "\n",
    "$$\n",
    "w_{co} = \\hat{e}(X)\\dfrac{1}{1-\\hat{e}(X)}\n",
    "$$\n",
    "\n",
    "\n",
    "$$\n",
    "\\hat{\\Delta y}_0^{DR} = \\sum_{i \\in co} w_{co} \\big(\\Delta y - \\hat{m}(X)\\big) \\big/ \\sum w_{co}\n",
    "$$\n"
   ]
  },
  {
   "cell_type": "markdown",
   "id": "59ac7bc8",
   "metadata": {},
   "source": [
    "### Fit Propensity Score Model"
   ]
  },
  {
   "cell_type": "code",
   "execution_count": 7,
   "id": "43c87ac9",
   "metadata": {
    "ExecuteTime": {
     "end_time": "2023-01-09T11:59:54.447606Z",
     "start_time": "2023-01-09T11:59:54.429773Z"
    }
   },
   "outputs": [
    {
     "name": "stdout",
     "output_type": "stream",
     "text": [
      "Optimization terminated successfully.\n",
      "         Current function value: 0.580103\n",
      "         Iterations 6\n"
     ]
    },
    {
     "data": {
      "text/html": [
       "<div>\n",
       "<style scoped>\n",
       "    .dataframe tbody tr th:only-of-type {\n",
       "        vertical-align: middle;\n",
       "    }\n",
       "\n",
       "    .dataframe tbody tr th {\n",
       "        vertical-align: top;\n",
       "    }\n",
       "\n",
       "    .dataframe thead th {\n",
       "        text-align: right;\n",
       "    }\n",
       "</style>\n",
       "<table border=\"1\" class=\"dataframe\">\n",
       "  <thead>\n",
       "    <tr style=\"text-align: right;\">\n",
       "      <th></th>\n",
       "      <th>date</th>\n",
       "      <th>unit</th>\n",
       "      <th>region</th>\n",
       "      <th>treated_unit</th>\n",
       "      <th>unit_fe</th>\n",
       "      <th>time_fe</th>\n",
       "      <th>reg_ps</th>\n",
       "      <th>reg_fe</th>\n",
       "      <th>reg_trend</th>\n",
       "      <th>treated</th>\n",
       "      <th>post</th>\n",
       "      <th>y0</th>\n",
       "      <th>y1</th>\n",
       "      <th>tau</th>\n",
       "      <th>y</th>\n",
       "      <th>ps</th>\n",
       "    </tr>\n",
       "  </thead>\n",
       "  <tbody>\n",
       "    <tr>\n",
       "      <th>0</th>\n",
       "      <td>2020-01-01</td>\n",
       "      <td>1</td>\n",
       "      <td>N</td>\n",
       "      <td>0</td>\n",
       "      <td>-2.226872</td>\n",
       "      <td>0.288617</td>\n",
       "      <td>0.4</td>\n",
       "      <td>3</td>\n",
       "      <td>3</td>\n",
       "      <td>0</td>\n",
       "      <td>0</td>\n",
       "      <td>11.061745</td>\n",
       "      <td>12.061745</td>\n",
       "      <td>1.0</td>\n",
       "      <td>12.693680</td>\n",
       "      <td>0.409836</td>\n",
       "    </tr>\n",
       "    <tr>\n",
       "      <th>0</th>\n",
       "      <td>2021-01-01</td>\n",
       "      <td>1</td>\n",
       "      <td>N</td>\n",
       "      <td>0</td>\n",
       "      <td>-2.226872</td>\n",
       "      <td>0.058307</td>\n",
       "      <td>0.4</td>\n",
       "      <td>3</td>\n",
       "      <td>3</td>\n",
       "      <td>0</td>\n",
       "      <td>1</td>\n",
       "      <td>13.831435</td>\n",
       "      <td>14.831435</td>\n",
       "      <td>1.0</td>\n",
       "      <td>13.429646</td>\n",
       "      <td>0.409836</td>\n",
       "    </tr>\n",
       "    <tr>\n",
       "      <th>1</th>\n",
       "      <td>2020-01-01</td>\n",
       "      <td>2</td>\n",
       "      <td>W</td>\n",
       "      <td>0</td>\n",
       "      <td>-0.134820</td>\n",
       "      <td>0.288617</td>\n",
       "      <td>0.8</td>\n",
       "      <td>-1</td>\n",
       "      <td>7</td>\n",
       "      <td>0</td>\n",
       "      <td>0</td>\n",
       "      <td>9.153797</td>\n",
       "      <td>10.153797</td>\n",
       "      <td>1.0</td>\n",
       "      <td>8.953857</td>\n",
       "      <td>0.836066</td>\n",
       "    </tr>\n",
       "    <tr>\n",
       "      <th>1</th>\n",
       "      <td>2021-01-01</td>\n",
       "      <td>2</td>\n",
       "      <td>W</td>\n",
       "      <td>0</td>\n",
       "      <td>-0.134820</td>\n",
       "      <td>0.058307</td>\n",
       "      <td>0.8</td>\n",
       "      <td>-1</td>\n",
       "      <td>7</td>\n",
       "      <td>0</td>\n",
       "      <td>1</td>\n",
       "      <td>15.923487</td>\n",
       "      <td>16.923487</td>\n",
       "      <td>1.0</td>\n",
       "      <td>15.930876</td>\n",
       "      <td>0.836066</td>\n",
       "    </tr>\n",
       "    <tr>\n",
       "      <th>2</th>\n",
       "      <td>2020-01-01</td>\n",
       "      <td>3</td>\n",
       "      <td>S</td>\n",
       "      <td>0</td>\n",
       "      <td>2.322880</td>\n",
       "      <td>0.288617</td>\n",
       "      <td>0.2</td>\n",
       "      <td>5</td>\n",
       "      <td>-1</td>\n",
       "      <td>0</td>\n",
       "      <td>0</td>\n",
       "      <td>17.611497</td>\n",
       "      <td>18.611497</td>\n",
       "      <td>1.0</td>\n",
       "      <td>17.887161</td>\n",
       "      <td>0.213235</td>\n",
       "    </tr>\n",
       "  </tbody>\n",
       "</table>\n",
       "</div>"
      ],
      "text/plain": [
       "        date  unit region  treated_unit   unit_fe   time_fe  reg_ps  reg_fe  \\\n",
       "0 2020-01-01     1      N             0 -2.226872  0.288617     0.4       3   \n",
       "0 2021-01-01     1      N             0 -2.226872  0.058307     0.4       3   \n",
       "1 2020-01-01     2      W             0 -0.134820  0.288617     0.8      -1   \n",
       "1 2021-01-01     2      W             0 -0.134820  0.058307     0.8      -1   \n",
       "2 2020-01-01     3      S             0  2.322880  0.288617     0.2       5   \n",
       "\n",
       "   reg_trend  treated  post         y0         y1  tau          y        ps  \n",
       "0          3        0     0  11.061745  12.061745  1.0  12.693680  0.409836  \n",
       "0          3        0     1  13.831435  14.831435  1.0  13.429646  0.409836  \n",
       "1          7        0     0   9.153797  10.153797  1.0   8.953857  0.836066  \n",
       "1          7        0     1  15.923487  16.923487  1.0  15.930876  0.836066  \n",
       "2         -1        0     0  17.611497  18.611497  1.0  17.887161  0.213235  "
      ]
     },
     "execution_count": 7,
     "metadata": {},
     "output_type": "execute_result"
    }
   ],
   "source": [
    "ps_model = smf.logit(\"treated~C(region)\",\n",
    "                     data=df.query(\"post==0\")\n",
    "                    ).fit()\n",
    "\n",
    "ps_df = df.assign(ps=ps_model.predict(df))\n",
    "ps_df.head()"
   ]
  },
  {
   "cell_type": "markdown",
   "id": "8ea4fd71",
   "metadata": {
    "ExecuteTime": {
     "end_time": "2022-12-24T09:33:02.211875Z",
     "start_time": "2022-12-24T09:33:02.196068Z"
    }
   },
   "source": [
    "### Outcome Model"
   ]
  },
  {
   "cell_type": "code",
   "execution_count": 8,
   "id": "1fafa5db",
   "metadata": {
    "ExecuteTime": {
     "end_time": "2023-01-09T11:59:54.465208Z",
     "start_time": "2023-01-09T11:59:54.449291Z"
    }
   },
   "outputs": [
    {
     "data": {
      "text/html": [
       "<div>\n",
       "<style scoped>\n",
       "    .dataframe tbody tr th:only-of-type {\n",
       "        vertical-align: middle;\n",
       "    }\n",
       "\n",
       "    .dataframe tbody tr th {\n",
       "        vertical-align: top;\n",
       "    }\n",
       "\n",
       "    .dataframe thead th {\n",
       "        text-align: right;\n",
       "    }\n",
       "</style>\n",
       "<table border=\"1\" class=\"dataframe\">\n",
       "  <thead>\n",
       "    <tr style=\"text-align: right;\">\n",
       "      <th></th>\n",
       "      <th>date</th>\n",
       "      <th>region</th>\n",
       "      <th>treated_unit</th>\n",
       "      <th>unit_fe</th>\n",
       "      <th>time_fe</th>\n",
       "      <th>reg_ps</th>\n",
       "      <th>reg_fe</th>\n",
       "      <th>reg_trend</th>\n",
       "      <th>treated</th>\n",
       "      <th>post</th>\n",
       "      <th>y0</th>\n",
       "      <th>y1</th>\n",
       "      <th>tau</th>\n",
       "      <th>y</th>\n",
       "      <th>ps</th>\n",
       "      <th>delta_y</th>\n",
       "    </tr>\n",
       "    <tr>\n",
       "      <th>unit</th>\n",
       "      <th></th>\n",
       "      <th></th>\n",
       "      <th></th>\n",
       "      <th></th>\n",
       "      <th></th>\n",
       "      <th></th>\n",
       "      <th></th>\n",
       "      <th></th>\n",
       "      <th></th>\n",
       "      <th></th>\n",
       "      <th></th>\n",
       "      <th></th>\n",
       "      <th></th>\n",
       "      <th></th>\n",
       "      <th></th>\n",
       "      <th></th>\n",
       "    </tr>\n",
       "  </thead>\n",
       "  <tbody>\n",
       "    <tr>\n",
       "      <th>1</th>\n",
       "      <td>2020-01-01</td>\n",
       "      <td>N</td>\n",
       "      <td>0</td>\n",
       "      <td>-2.226872</td>\n",
       "      <td>0.288617</td>\n",
       "      <td>0.4</td>\n",
       "      <td>3</td>\n",
       "      <td>3</td>\n",
       "      <td>0</td>\n",
       "      <td>0</td>\n",
       "      <td>11.061745</td>\n",
       "      <td>12.061745</td>\n",
       "      <td>1.0</td>\n",
       "      <td>12.693680</td>\n",
       "      <td>0.409836</td>\n",
       "      <td>0.735966</td>\n",
       "    </tr>\n",
       "    <tr>\n",
       "      <th>1</th>\n",
       "      <td>2021-01-01</td>\n",
       "      <td>N</td>\n",
       "      <td>0</td>\n",
       "      <td>-2.226872</td>\n",
       "      <td>0.058307</td>\n",
       "      <td>0.4</td>\n",
       "      <td>3</td>\n",
       "      <td>3</td>\n",
       "      <td>0</td>\n",
       "      <td>1</td>\n",
       "      <td>13.831435</td>\n",
       "      <td>14.831435</td>\n",
       "      <td>1.0</td>\n",
       "      <td>13.429646</td>\n",
       "      <td>0.409836</td>\n",
       "      <td>0.735966</td>\n",
       "    </tr>\n",
       "    <tr>\n",
       "      <th>2</th>\n",
       "      <td>2020-01-01</td>\n",
       "      <td>W</td>\n",
       "      <td>0</td>\n",
       "      <td>-0.134820</td>\n",
       "      <td>0.288617</td>\n",
       "      <td>0.8</td>\n",
       "      <td>-1</td>\n",
       "      <td>7</td>\n",
       "      <td>0</td>\n",
       "      <td>0</td>\n",
       "      <td>9.153797</td>\n",
       "      <td>10.153797</td>\n",
       "      <td>1.0</td>\n",
       "      <td>8.953857</td>\n",
       "      <td>0.836066</td>\n",
       "      <td>6.977019</td>\n",
       "    </tr>\n",
       "    <tr>\n",
       "      <th>2</th>\n",
       "      <td>2021-01-01</td>\n",
       "      <td>W</td>\n",
       "      <td>0</td>\n",
       "      <td>-0.134820</td>\n",
       "      <td>0.058307</td>\n",
       "      <td>0.8</td>\n",
       "      <td>-1</td>\n",
       "      <td>7</td>\n",
       "      <td>0</td>\n",
       "      <td>1</td>\n",
       "      <td>15.923487</td>\n",
       "      <td>16.923487</td>\n",
       "      <td>1.0</td>\n",
       "      <td>15.930876</td>\n",
       "      <td>0.836066</td>\n",
       "      <td>6.977019</td>\n",
       "    </tr>\n",
       "    <tr>\n",
       "      <th>3</th>\n",
       "      <td>2020-01-01</td>\n",
       "      <td>S</td>\n",
       "      <td>0</td>\n",
       "      <td>2.322880</td>\n",
       "      <td>0.288617</td>\n",
       "      <td>0.2</td>\n",
       "      <td>5</td>\n",
       "      <td>-1</td>\n",
       "      <td>0</td>\n",
       "      <td>0</td>\n",
       "      <td>17.611497</td>\n",
       "      <td>18.611497</td>\n",
       "      <td>1.0</td>\n",
       "      <td>17.887161</td>\n",
       "      <td>0.213235</td>\n",
       "      <td>-3.269223</td>\n",
       "    </tr>\n",
       "  </tbody>\n",
       "</table>\n",
       "</div>"
      ],
      "text/plain": [
       "           date region  treated_unit   unit_fe   time_fe  reg_ps  reg_fe  \\\n",
       "unit                                                                       \n",
       "1    2020-01-01      N             0 -2.226872  0.288617     0.4       3   \n",
       "1    2021-01-01      N             0 -2.226872  0.058307     0.4       3   \n",
       "2    2020-01-01      W             0 -0.134820  0.288617     0.8      -1   \n",
       "2    2021-01-01      W             0 -0.134820  0.058307     0.8      -1   \n",
       "3    2020-01-01      S             0  2.322880  0.288617     0.2       5   \n",
       "\n",
       "      reg_trend  treated  post         y0         y1  tau          y  \\\n",
       "unit                                                                   \n",
       "1             3        0     0  11.061745  12.061745  1.0  12.693680   \n",
       "1             3        0     1  13.831435  14.831435  1.0  13.429646   \n",
       "2             7        0     0   9.153797  10.153797  1.0   8.953857   \n",
       "2             7        0     1  15.923487  16.923487  1.0  15.930876   \n",
       "3            -1        0     0  17.611497  18.611497  1.0  17.887161   \n",
       "\n",
       "            ps   delta_y  \n",
       "unit                      \n",
       "1     0.409836  0.735966  \n",
       "1     0.409836  0.735966  \n",
       "2     0.836066  6.977019  \n",
       "2     0.836066  6.977019  \n",
       "3     0.213235 -3.269223  "
      ]
     },
     "execution_count": 8,
     "metadata": {},
     "output_type": "execute_result"
    }
   ],
   "source": [
    "delta_y = df.set_index(\"unit\").query(\"post==1\")[\"y\"]  - df.set_index(\"unit\").query(\"post==0\")[\"y\"]\n",
    "\n",
    "df_delta_y = ps_df.set_index(\"unit\").join(delta_y.rename(\"delta_y\"))\n",
    "\n",
    "df_delta_y.head()"
   ]
  },
  {
   "cell_type": "code",
   "execution_count": 9,
   "id": "06fa1b9f",
   "metadata": {
    "ExecuteTime": {
     "end_time": "2023-01-09T11:59:54.486918Z",
     "start_time": "2023-01-09T11:59:54.469419Z"
    }
   },
   "outputs": [
    {
     "data": {
      "text/html": [
       "<div>\n",
       "<style scoped>\n",
       "    .dataframe tbody tr th:only-of-type {\n",
       "        vertical-align: middle;\n",
       "    }\n",
       "\n",
       "    .dataframe tbody tr th {\n",
       "        vertical-align: top;\n",
       "    }\n",
       "\n",
       "    .dataframe thead th {\n",
       "        text-align: right;\n",
       "    }\n",
       "</style>\n",
       "<table border=\"1\" class=\"dataframe\">\n",
       "  <thead>\n",
       "    <tr style=\"text-align: right;\">\n",
       "      <th></th>\n",
       "      <th>date</th>\n",
       "      <th>region</th>\n",
       "      <th>treated_unit</th>\n",
       "      <th>unit_fe</th>\n",
       "      <th>time_fe</th>\n",
       "      <th>reg_ps</th>\n",
       "      <th>reg_fe</th>\n",
       "      <th>reg_trend</th>\n",
       "      <th>treated</th>\n",
       "      <th>post</th>\n",
       "      <th>y0</th>\n",
       "      <th>y1</th>\n",
       "      <th>tau</th>\n",
       "      <th>y</th>\n",
       "      <th>ps</th>\n",
       "      <th>delta_y</th>\n",
       "      <th>y_hat</th>\n",
       "    </tr>\n",
       "    <tr>\n",
       "      <th>unit</th>\n",
       "      <th></th>\n",
       "      <th></th>\n",
       "      <th></th>\n",
       "      <th></th>\n",
       "      <th></th>\n",
       "      <th></th>\n",
       "      <th></th>\n",
       "      <th></th>\n",
       "      <th></th>\n",
       "      <th></th>\n",
       "      <th></th>\n",
       "      <th></th>\n",
       "      <th></th>\n",
       "      <th></th>\n",
       "      <th></th>\n",
       "      <th></th>\n",
       "      <th></th>\n",
       "    </tr>\n",
       "  </thead>\n",
       "  <tbody>\n",
       "    <tr>\n",
       "      <th>1</th>\n",
       "      <td>2020-01-01</td>\n",
       "      <td>N</td>\n",
       "      <td>0</td>\n",
       "      <td>-2.226872</td>\n",
       "      <td>0.288617</td>\n",
       "      <td>0.4</td>\n",
       "      <td>3</td>\n",
       "      <td>3</td>\n",
       "      <td>0</td>\n",
       "      <td>0</td>\n",
       "      <td>11.061745</td>\n",
       "      <td>12.061745</td>\n",
       "      <td>1.0</td>\n",
       "      <td>12.693680</td>\n",
       "      <td>0.409836</td>\n",
       "      <td>0.735966</td>\n",
       "      <td>2.853578</td>\n",
       "    </tr>\n",
       "    <tr>\n",
       "      <th>1</th>\n",
       "      <td>2021-01-01</td>\n",
       "      <td>N</td>\n",
       "      <td>0</td>\n",
       "      <td>-2.226872</td>\n",
       "      <td>0.058307</td>\n",
       "      <td>0.4</td>\n",
       "      <td>3</td>\n",
       "      <td>3</td>\n",
       "      <td>0</td>\n",
       "      <td>1</td>\n",
       "      <td>13.831435</td>\n",
       "      <td>14.831435</td>\n",
       "      <td>1.0</td>\n",
       "      <td>13.429646</td>\n",
       "      <td>0.409836</td>\n",
       "      <td>0.735966</td>\n",
       "      <td>2.853578</td>\n",
       "    </tr>\n",
       "    <tr>\n",
       "      <th>2</th>\n",
       "      <td>2020-01-01</td>\n",
       "      <td>W</td>\n",
       "      <td>0</td>\n",
       "      <td>-0.134820</td>\n",
       "      <td>0.288617</td>\n",
       "      <td>0.8</td>\n",
       "      <td>-1</td>\n",
       "      <td>7</td>\n",
       "      <td>0</td>\n",
       "      <td>0</td>\n",
       "      <td>9.153797</td>\n",
       "      <td>10.153797</td>\n",
       "      <td>1.0</td>\n",
       "      <td>8.953857</td>\n",
       "      <td>0.836066</td>\n",
       "      <td>6.977019</td>\n",
       "      <td>6.529162</td>\n",
       "    </tr>\n",
       "    <tr>\n",
       "      <th>2</th>\n",
       "      <td>2021-01-01</td>\n",
       "      <td>W</td>\n",
       "      <td>0</td>\n",
       "      <td>-0.134820</td>\n",
       "      <td>0.058307</td>\n",
       "      <td>0.8</td>\n",
       "      <td>-1</td>\n",
       "      <td>7</td>\n",
       "      <td>0</td>\n",
       "      <td>1</td>\n",
       "      <td>15.923487</td>\n",
       "      <td>16.923487</td>\n",
       "      <td>1.0</td>\n",
       "      <td>15.930876</td>\n",
       "      <td>0.836066</td>\n",
       "      <td>6.977019</td>\n",
       "      <td>6.529162</td>\n",
       "    </tr>\n",
       "    <tr>\n",
       "      <th>3</th>\n",
       "      <td>2020-01-01</td>\n",
       "      <td>S</td>\n",
       "      <td>0</td>\n",
       "      <td>2.322880</td>\n",
       "      <td>0.288617</td>\n",
       "      <td>0.2</td>\n",
       "      <td>5</td>\n",
       "      <td>-1</td>\n",
       "      <td>0</td>\n",
       "      <td>0</td>\n",
       "      <td>17.611497</td>\n",
       "      <td>18.611497</td>\n",
       "      <td>1.0</td>\n",
       "      <td>17.887161</td>\n",
       "      <td>0.213235</td>\n",
       "      <td>-3.269223</td>\n",
       "      <td>-1.129266</td>\n",
       "    </tr>\n",
       "  </tbody>\n",
       "</table>\n",
       "</div>"
      ],
      "text/plain": [
       "           date region  treated_unit   unit_fe   time_fe  reg_ps  reg_fe  \\\n",
       "unit                                                                       \n",
       "1    2020-01-01      N             0 -2.226872  0.288617     0.4       3   \n",
       "1    2021-01-01      N             0 -2.226872  0.058307     0.4       3   \n",
       "2    2020-01-01      W             0 -0.134820  0.288617     0.8      -1   \n",
       "2    2021-01-01      W             0 -0.134820  0.058307     0.8      -1   \n",
       "3    2020-01-01      S             0  2.322880  0.288617     0.2       5   \n",
       "\n",
       "      reg_trend  treated  post         y0         y1  tau          y  \\\n",
       "unit                                                                   \n",
       "1             3        0     0  11.061745  12.061745  1.0  12.693680   \n",
       "1             3        0     1  13.831435  14.831435  1.0  13.429646   \n",
       "2             7        0     0   9.153797  10.153797  1.0   8.953857   \n",
       "2             7        0     1  15.923487  16.923487  1.0  15.930876   \n",
       "3            -1        0     0  17.611497  18.611497  1.0  17.887161   \n",
       "\n",
       "            ps   delta_y     y_hat  \n",
       "unit                                \n",
       "1     0.409836  0.735966  2.853578  \n",
       "1     0.409836  0.735966  2.853578  \n",
       "2     0.836066  6.977019  6.529162  \n",
       "2     0.836066  6.977019  6.529162  \n",
       "3     0.213235 -3.269223 -1.129266  "
      ]
     },
     "execution_count": 9,
     "metadata": {},
     "output_type": "execute_result"
    }
   ],
   "source": [
    "outcome_model = smf.ols(\"delta_y ~ C(region)\",\n",
    "                        data=df_delta_y.query(\"post==0 & treated==0\")).fit()\n",
    "\n",
    "df_dr = df_delta_y.assign(y_hat = outcome_model.predict(df_delta_y))\n",
    "\n",
    "df_dr.head()"
   ]
  },
  {
   "cell_type": "code",
   "execution_count": 10,
   "id": "6e5ab5cd",
   "metadata": {
    "ExecuteTime": {
     "end_time": "2023-01-09T11:59:54.495551Z",
     "start_time": "2023-01-09T11:59:54.488822Z"
    }
   },
   "outputs": [
    {
     "name": "stdout",
     "output_type": "stream",
     "text": [
      "ATT: 1.0261567060020285\n"
     ]
    }
   ],
   "source": [
    "tr = df_dr.query(\"treated==1\")\n",
    "co = df_dr.query(\"treated==0\")\n",
    "\n",
    "dy1_treat = (tr[\"delta_y\"] - tr[\"y_hat\"]).mean()\n",
    "\n",
    "w_cont = co[\"ps\"]/(1-co[\"ps\"])\n",
    "dy0_treat = np.average(co[\"delta_y\"] - co[\"y_hat\"], weights=w_cont)\n",
    "\n",
    "print(\"ATT:\", dy1_treat - dy0_treat)"
   ]
  },
  {
   "cell_type": "code",
   "execution_count": 11,
   "id": "f4ca7d1c",
   "metadata": {
    "ExecuteTime": {
     "end_time": "2023-01-09T11:59:54.502084Z",
     "start_time": "2023-01-09T11:59:54.496828Z"
    }
   },
   "outputs": [
    {
     "data": {
      "text/plain": [
       "1.0"
      ]
     },
     "execution_count": 11,
     "metadata": {},
     "output_type": "execute_result"
    }
   ],
   "source": [
    "df_dr.query(\"post==0 & treated==1\")[\"tau\"].mean()"
   ]
  },
  {
   "cell_type": "markdown",
   "id": "65134505",
   "metadata": {},
   "source": [
    "## Messing Up the PS model"
   ]
  },
  {
   "cell_type": "code",
   "execution_count": 12,
   "id": "72c09ede",
   "metadata": {
    "ExecuteTime": {
     "end_time": "2023-01-09T11:59:54.510536Z",
     "start_time": "2023-01-09T11:59:54.503406Z"
    }
   },
   "outputs": [
    {
     "name": "stdout",
     "output_type": "stream",
     "text": [
      "ATT: 0.9601085810600898\n"
     ]
    }
   ],
   "source": [
    "np.random.seed(123)\n",
    "\n",
    "df_dr_ps_messed = df_dr.assign(ps=np.random.uniform(.3, .7, len(df_dr)))\n",
    "\n",
    "tr = df_dr_ps_messed.query(\"treated==1\")\n",
    "co = df_dr_ps_messed.query(\"treated==0\")\n",
    "\n",
    "dy1_treat = (tr[\"delta_y\"] - tr[\"y_hat\"]).mean()\n",
    "\n",
    "w_cont = co[\"ps\"]/(1-co[\"ps\"])\n",
    "dy0_treat = np.average(co[\"delta_y\"] - co[\"y_hat\"], weights=w_cont)\n",
    "\n",
    "print(\"ATT:\", dy1_treat - dy0_treat)"
   ]
  },
  {
   "cell_type": "markdown",
   "id": "47b53b64",
   "metadata": {},
   "source": [
    "## Messed up Outcome Model"
   ]
  },
  {
   "cell_type": "code",
   "execution_count": 13,
   "id": "7cb11f14",
   "metadata": {
    "ExecuteTime": {
     "end_time": "2023-01-09T11:59:54.519547Z",
     "start_time": "2023-01-09T11:59:54.512272Z"
    }
   },
   "outputs": [
    {
     "name": "stdout",
     "output_type": "stream",
     "text": [
      "ATT: 1.063554541645658\n"
     ]
    }
   ],
   "source": [
    "np.random.seed(123)\n",
    "\n",
    "df_dr_outcome_messed = df_dr.assign(y_hat=np.random.uniform(0, 1, len(df_dr)))\n",
    "\n",
    "tr = df_dr_outcome_messed.query(\"treated==1\")\n",
    "co = df_dr_outcome_messed.query(\"treated==0\")\n",
    "\n",
    "dy1_treat = (tr[\"delta_y\"] - tr[\"y_hat\"]).mean()\n",
    "\n",
    "w_cont = co[\"ps\"]/(1-co[\"ps\"])\n",
    "dy0_treat = np.average(co[\"delta_y\"] - co[\"y_hat\"], weights=w_cont)\n",
    "\n",
    "print(\"ATT:\", dy1_treat - dy0_treat)"
   ]
  },
  {
   "cell_type": "code",
   "execution_count": null,
   "id": "94cea2ad",
   "metadata": {},
   "outputs": [],
   "source": []
  }
 ],
 "metadata": {
  "kernelspec": {
   "display_name": "Python [conda env:root] *",
   "language": "python",
   "name": "conda-root-py"
  },
  "language_info": {
   "codemirror_mode": {
    "name": "ipython",
    "version": 3
   },
   "file_extension": ".py",
   "mimetype": "text/x-python",
   "name": "python",
   "nbconvert_exporter": "python",
   "pygments_lexer": "ipython3",
   "version": "3.7.12"
  },
  "toc": {
   "base_numbering": 1,
   "nav_menu": {},
   "number_sections": true,
   "sideBar": true,
   "skip_h1_title": false,
   "title_cell": "Table of Contents",
   "title_sidebar": "Contents",
   "toc_cell": false,
   "toc_position": {},
   "toc_section_display": true,
   "toc_window_display": false
  },
  "varInspector": {
   "cols": {
    "lenName": 16,
    "lenType": 16,
    "lenVar": 40
   },
   "kernels_config": {
    "python": {
     "delete_cmd_postfix": "",
     "delete_cmd_prefix": "del ",
     "library": "var_list.py",
     "varRefreshCmd": "print(var_dic_list())"
    },
    "r": {
     "delete_cmd_postfix": ") ",
     "delete_cmd_prefix": "rm(",
     "library": "var_list.r",
     "varRefreshCmd": "cat(var_dic_list()) "
    }
   },
   "types_to_exclude": [
    "module",
    "function",
    "builtin_function_or_method",
    "instance",
    "_Feature"
   ],
   "window_display": false
  }
 },
 "nbformat": 4,
 "nbformat_minor": 5
}
