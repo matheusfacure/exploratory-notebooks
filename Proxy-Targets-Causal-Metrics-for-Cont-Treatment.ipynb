{
 "cells": [
  {
   "cell_type": "markdown",
   "id": "f2af06c4",
   "metadata": {},
   "source": [
    "# Proxy Target Metrics for Continuous Treatment\n",
    "\n",
    "\n",
    "## Summary \n",
    "\n",
    "\n",
    "This notebooks explores the use of proxy targets for the treatment effect when doing model selection. The issue in causal inference is that we can never observe the true treatment effect for any individual unit, $\\tau_i=Y_0-Y_1$. This makes it so that we can't compute MSE, or R2 or correlation between our model's estimate for $\\tau$ and the true $\\tau$. \n",
    "\n",
    "\n",
    "One way around this is to create target variables that approximate $\\tau_i$, let's call them $\\hat{\\tau}_i$, and use that as if it was the true treatment effect. That is, we can calculate predictive metrics between our model's estimate and $\\hat{\\tau}_i$. To see the effectiveness of these techniques, we'll use simulated data where we know the true $\\tau_i$. Then, we'll check if the MSE between the model's estimate for the treatment effect and the true $\\tau_i$ agrees with the MSE between the model's estimate and the proxy target.\n",
    "\n",
    "\n",
    "We do this by computing a learning curve, that is, fitting the model multiple times, each time with more training samples. Then, check the model performance on the holdout both in terms of the oracle (known) causal MSE and the feasible (proxy target) MSE. Ideally, both should decrease as the training sample increases and in line with each other.\n",
    "\n",
    "\n",
    "## Proxy Targets\n",
    "\n",
    "\n",
    "For all targets, we have to estimate models on the holdout set. To avoid overfitting, we always get out-of-fold predictions from these models.\n",
    "\n",
    "\n",
    "* $\\hat{y}_0$ is a model that estimates $E[y|X, T=0]$\n",
    "* $\\hat{y}_1$ is a model that estimates $E[y|X, T=1]$\n",
    "* $\\hat{y}$ is a model that estimates $E[y|X, T]$\n",
    "* $\\hat{p}$ is a model that estimates $P(T|X)$\n",
    "\n",
    "\n",
    "Notice that the treatment intensity is part of $X$.\n",
    "\n",
    "\n",
    "$$\n",
    "\\tau = cov(y, t)/var(t)\n",
    "$$\n",
    "\n",
    "\n",
    "### IPW Target\n",
    "\n",
    "\n",
    "$$\n",
    "\\hat{\\tau} = \\dfrac{y(T-\\hat{p})}{\\hat{p} (1-\\hat{p})}\n",
    "$$\n",
    "\n",
    "\n",
    "### Doubly Robust Target\n",
    "\n",
    "\n",
    "$$\n",
    "\\hat{y} =  \\hat{y}_0 (1-T) + \\hat{y}_1 T\n",
    "$$\n",
    "\n",
    "\n",
    "$$\n",
    "\\hat{\\tau} = \\hat{y}_0 - \\hat{y}_1 + \\dfrac{(y-\\hat{y})(T-\\hat{p})}{\\hat{p} (1-\\hat{p})}\n",
    "$$\n",
    "\n",
    "\n",
    "### Double-ML Target\n",
    "\n",
    "\n",
    "$$\n",
    "\\tilde{y} = y - \\hat{y}\n",
    "$$\n",
    "\n",
    "\n",
    "$$\n",
    "\\tilde{t} = t - \\hat{p}\n",
    "$$\n",
    "\n",
    "\n",
    "$$\n",
    "\\hat{\\tau} = \\tilde{y}/\\tilde{t}\n",
    "$$\n",
    "\n",
    "\n",
    "$$\n",
    "\\hat{w} = \\tilde{t}^2\n",
    "$$\n",
    "\n",
    "\n",
    "## Conclusion\n",
    "\n",
    "\n",
    "All proxy targets seem to have a learning curve similar to the one that uses the true $\\tau$ target. However, the proxy target learning curve has higher variance than the oracle one. On that criteria, the IPW proxy target seems to be the one with higher variance, while the double-ml and doubly-robust target seems to perform quite similarly.\n"
   ]
  },
  {
   "cell_type": "code",
   "execution_count": 1,
   "id": "e3e34230",
   "metadata": {
    "ExecuteTime": {
     "end_time": "2024-05-30T14:45:33.082535Z",
     "start_time": "2024-05-30T14:45:31.406388Z"
    }
   },
   "outputs": [],
   "source": [
    "import pandas as pd\n",
    "import numpy as np\n",
    "from toolz import curry\n",
    "from matplotlib import pyplot as plt\n",
    "import seaborn as sns\n",
    "from scipy.special import expit\n",
    "\n",
    "from lightgbm import LGBMClassifier, LGBMRegressor\n",
    "\n",
    "from sklearn.model_selection import cross_val_predict, train_test_split, cross_val_score\n",
    "from sklearn.metrics import r2_score, roc_auc_score\n",
    "\n",
    "from sklearn.preprocessing import PolynomialFeatures, MinMaxScaler, QuantileTransformer\n"
   ]
  },
  {
   "cell_type": "markdown",
   "id": "ac73871d",
   "metadata": {},
   "source": [
    "# DGP: Continuous Treatment and Biased Assignment\n",
    "\n",
    "\n",
    "The data generating process has a continuous treatment that can take 4 values. Hence, the treatment effect is the derivative $\\partial Y(t)/\\partial t$. However, since most proxy targets can only be created with a binary treatment, we recast the problem as follows:\n",
    "\n",
    "\n",
    "1. We assign the lowest (baseline) treatment to be the control group and all other groups to be the treated group\n",
    "2. We create a variable treatment-baseline to represent the treatment intensity or dosage\n",
    "3. We treat the treatment dosage as if it was a feature that modifies the binary effect. Ideally, the model we build should pick up that the higher the treatment intensity, the higher the treatment effect.\n",
    "\n",
    "\n",
    "In this DGP, both the treatment assignment (test vs control) and the treatment dosage are biased. However, we observe all the confounders, meaning that it satisfies the CIA.\n"
   ]
  },
  {
   "cell_type": "code",
   "execution_count": 2,
   "id": "aa6db18b",
   "metadata": {
    "ExecuteTime": {
     "end_time": "2024-05-30T14:45:33.092869Z",
     "start_time": "2024-05-30T14:45:33.084156Z"
    }
   },
   "outputs": [],
   "source": [
    "\n",
    "def neg_exponential(treatment, convergence, asymptote):\n",
    "    return asymptote * (1 - np.exp(-convergence * treatment))\n",
    "\n",
    "\n",
    "def gen_biased_dataset(n,\n",
    "                n_x=20,\n",
    "                delta_range = (10, 30),\n",
    "                non_causal_range = (10, 200),\n",
    "                asymptote_range = (1, 200),\n",
    "                conv_range = (0.0005, 0.1),\n",
    "                seed=1\n",
    "               ):\n",
    "    \n",
    "    \n",
    "    np.random.seed(seed)\n",
    "    poly_maker = PolynomialFeatures(degree=2)\n",
    "\n",
    "    X_raw = np.random.normal(0, 1, (n, n_x))\n",
    "    X = poly_maker.fit_transform(X_raw)\n",
    "\n",
    "    np.random.seed(seed+1)\n",
    "    asymptote_param = np.random.uniform(-1, 1, size=X.shape[1])*np.random.binomial(1, 0.3, X.shape[1])\n",
    "\n",
    "    np.random.seed(seed+2)\n",
    "    convergence_param = np.random.uniform(-1, 1, size=X.shape[1])*np.random.binomial(1, 0.3, X.shape[1])\n",
    "\n",
    "    np.random.seed(seed+3)\n",
    "    confounder_param = np.random.uniform(-1, 1, size=X.shape[1])*np.random.binomial(1, 0.3, X.shape[1])\n",
    "    \n",
    "    np.random.seed(seed+4)\n",
    "    predictive_param = np.random.uniform(0, 1, size=X.shape[1])*np.random.binomial(1, 0.3, X.shape[1])\n",
    "\n",
    "    asymptote = MinMaxScaler(asymptote_range).fit_transform(X.dot(asymptote_param).reshape(-1,1)).flatten()\n",
    "    convergence = MinMaxScaler(conv_range).fit_transform(X.dot(convergence_param).reshape(-1,1)).flatten()\n",
    "    \n",
    "    non_causal_y = MinMaxScaler(non_causal_range).fit_transform(X.dot(predictive_param).reshape(-1,1)).flatten()\n",
    "    \n",
    "    confounder = X.dot(asymptote_param).reshape(-1,1)\n",
    "   \n",
    "    treatment_baseline = 10\n",
    "    assigned_delta_unif = QuantileTransformer().fit_transform(np.random.normal(confounder, 5))\n",
    "    assigned_delta = MinMaxScaler(delta_range).fit_transform(assigned_delta_unif).round(-1).flatten()\n",
    "    \n",
    "    ps = expit((confounder-confounder.mean()) / confounder.std()).flatten()\n",
    "    is_test = np.random.binomial(1, ps, n)\n",
    "    \n",
    "    treatment = treatment_baseline+assigned_delta*is_test\n",
    "    \n",
    "    causal_y = neg_exponential(treatment, convergence, asymptote)\n",
    "    \n",
    "    y = np.random.normal(non_causal_y+causal_y, scale=50)\n",
    "    \n",
    "    return pd.DataFrame({\n",
    "        \"y\": y,\n",
    "        \"non_causal_y\":non_causal_y,\n",
    "        \"causal_y\": causal_y,\n",
    "        \"t\": treatment, \n",
    "        \"test\": is_test==1,\n",
    "        \"assigned_delta\": assigned_delta, \n",
    "        \"asymptote\": asymptote,\n",
    "        \"convergence\": convergence,\n",
    "        \"confounder\": confounder.flatten(),\n",
    "        \"ps\": ps,\n",
    "    }).assign(**{f\"f_{i}\": X_raw[:, i] for i in range(n_x)})\n",
    "    \n"
   ]
  },
  {
   "cell_type": "code",
   "execution_count": 3,
   "id": "f638248c",
   "metadata": {
    "ExecuteTime": {
     "end_time": "2024-05-30T14:45:33.335095Z",
     "start_time": "2024-05-30T14:45:33.094179Z"
    }
   },
   "outputs": [
    {
     "data": {
      "text/html": [
       "<div>\n",
       "<style scoped>\n",
       "    .dataframe tbody tr th:only-of-type {\n",
       "        vertical-align: middle;\n",
       "    }\n",
       "\n",
       "    .dataframe tbody tr th {\n",
       "        vertical-align: top;\n",
       "    }\n",
       "\n",
       "    .dataframe thead th {\n",
       "        text-align: right;\n",
       "    }\n",
       "</style>\n",
       "<table border=\"1\" class=\"dataframe\">\n",
       "  <thead>\n",
       "    <tr style=\"text-align: right;\">\n",
       "      <th></th>\n",
       "      <th>y</th>\n",
       "      <th>non_causal_y</th>\n",
       "      <th>causal_y</th>\n",
       "      <th>t</th>\n",
       "      <th>test</th>\n",
       "      <th>assigned_delta</th>\n",
       "      <th>asymptote</th>\n",
       "      <th>convergence</th>\n",
       "      <th>confounder</th>\n",
       "      <th>ps</th>\n",
       "      <th>...</th>\n",
       "      <th>f_10</th>\n",
       "      <th>f_11</th>\n",
       "      <th>f_12</th>\n",
       "      <th>f_13</th>\n",
       "      <th>f_14</th>\n",
       "      <th>f_15</th>\n",
       "      <th>f_16</th>\n",
       "      <th>f_17</th>\n",
       "      <th>f_18</th>\n",
       "      <th>f_19</th>\n",
       "    </tr>\n",
       "  </thead>\n",
       "  <tbody>\n",
       "    <tr>\n",
       "      <th>0</th>\n",
       "      <td>174.127864</td>\n",
       "      <td>107.833972</td>\n",
       "      <td>106.541844</td>\n",
       "      <td>30.0</td>\n",
       "      <td>True</td>\n",
       "      <td>20.0</td>\n",
       "      <td>130.412325</td>\n",
       "      <td>0.056602</td>\n",
       "      <td>3.334668</td>\n",
       "      <td>0.726781</td>\n",
       "      <td>...</td>\n",
       "      <td>0.433026</td>\n",
       "      <td>1.203037</td>\n",
       "      <td>-0.965066</td>\n",
       "      <td>1.028274</td>\n",
       "      <td>0.228630</td>\n",
       "      <td>0.445138</td>\n",
       "      <td>-1.136602</td>\n",
       "      <td>0.135137</td>\n",
       "      <td>1.484537</td>\n",
       "      <td>-1.079805</td>\n",
       "    </tr>\n",
       "    <tr>\n",
       "      <th>1</th>\n",
       "      <td>165.596249</td>\n",
       "      <td>103.765007</td>\n",
       "      <td>62.718613</td>\n",
       "      <td>10.0</td>\n",
       "      <td>False</td>\n",
       "      <td>20.0</td>\n",
       "      <td>141.731061</td>\n",
       "      <td>0.058433</td>\n",
       "      <td>6.361407</td>\n",
       "      <td>0.831738</td>\n",
       "      <td>...</td>\n",
       "      <td>-0.267317</td>\n",
       "      <td>-0.549309</td>\n",
       "      <td>0.132708</td>\n",
       "      <td>-0.476142</td>\n",
       "      <td>1.308473</td>\n",
       "      <td>0.195013</td>\n",
       "      <td>0.400210</td>\n",
       "      <td>-0.337632</td>\n",
       "      <td>1.256472</td>\n",
       "      <td>-0.731970</td>\n",
       "    </tr>\n",
       "    <tr>\n",
       "      <th>2</th>\n",
       "      <td>278.647093</td>\n",
       "      <td>78.110452</td>\n",
       "      <td>110.670029</td>\n",
       "      <td>30.0</td>\n",
       "      <td>True</td>\n",
       "      <td>20.0</td>\n",
       "      <td>140.510742</td>\n",
       "      <td>0.051647</td>\n",
       "      <td>6.035082</td>\n",
       "      <td>0.822180</td>\n",
       "      <td>...</td>\n",
       "      <td>-0.025905</td>\n",
       "      <td>0.289094</td>\n",
       "      <td>-0.539879</td>\n",
       "      <td>0.708160</td>\n",
       "      <td>0.842225</td>\n",
       "      <td>0.203581</td>\n",
       "      <td>2.394704</td>\n",
       "      <td>0.917459</td>\n",
       "      <td>-0.112272</td>\n",
       "      <td>-0.362180</td>\n",
       "    </tr>\n",
       "    <tr>\n",
       "      <th>3</th>\n",
       "      <td>225.471281</td>\n",
       "      <td>95.699713</td>\n",
       "      <td>111.173666</td>\n",
       "      <td>30.0</td>\n",
       "      <td>True</td>\n",
       "      <td>20.0</td>\n",
       "      <td>126.221546</td>\n",
       "      <td>0.070893</td>\n",
       "      <td>2.214014</td>\n",
       "      <td>0.678944</td>\n",
       "      <td>...</td>\n",
       "      <td>0.319356</td>\n",
       "      <td>0.460903</td>\n",
       "      <td>-0.215790</td>\n",
       "      <td>0.989072</td>\n",
       "      <td>0.314754</td>\n",
       "      <td>2.467651</td>\n",
       "      <td>-1.508321</td>\n",
       "      <td>0.620601</td>\n",
       "      <td>-1.045133</td>\n",
       "      <td>-0.798009</td>\n",
       "    </tr>\n",
       "    <tr>\n",
       "      <th>4</th>\n",
       "      <td>257.610075</td>\n",
       "      <td>97.045328</td>\n",
       "      <td>132.757337</td>\n",
       "      <td>40.0</td>\n",
       "      <td>True</td>\n",
       "      <td>30.0</td>\n",
       "      <td>147.743807</td>\n",
       "      <td>0.057208</td>\n",
       "      <td>7.969274</td>\n",
       "      <td>0.872936</td>\n",
       "      <td>...</td>\n",
       "      <td>1.107708</td>\n",
       "      <td>0.244544</td>\n",
       "      <td>-0.061912</td>\n",
       "      <td>-0.753893</td>\n",
       "      <td>0.711959</td>\n",
       "      <td>0.918269</td>\n",
       "      <td>-0.482093</td>\n",
       "      <td>0.089588</td>\n",
       "      <td>0.826999</td>\n",
       "      <td>-1.954512</td>\n",
       "    </tr>\n",
       "  </tbody>\n",
       "</table>\n",
       "<p>5 rows × 30 columns</p>\n",
       "</div>"
      ],
      "text/plain": [
       "            y  non_causal_y    causal_y     t   test  assigned_delta  \\\n",
       "0  174.127864    107.833972  106.541844  30.0   True            20.0   \n",
       "1  165.596249    103.765007   62.718613  10.0  False            20.0   \n",
       "2  278.647093     78.110452  110.670029  30.0   True            20.0   \n",
       "3  225.471281     95.699713  111.173666  30.0   True            20.0   \n",
       "4  257.610075     97.045328  132.757337  40.0   True            30.0   \n",
       "\n",
       "    asymptote  convergence  confounder        ps  ...      f_10      f_11  \\\n",
       "0  130.412325     0.056602    3.334668  0.726781  ...  0.433026  1.203037   \n",
       "1  141.731061     0.058433    6.361407  0.831738  ... -0.267317 -0.549309   \n",
       "2  140.510742     0.051647    6.035082  0.822180  ... -0.025905  0.289094   \n",
       "3  126.221546     0.070893    2.214014  0.678944  ...  0.319356  0.460903   \n",
       "4  147.743807     0.057208    7.969274  0.872936  ...  1.107708  0.244544   \n",
       "\n",
       "       f_12      f_13      f_14      f_15      f_16      f_17      f_18  \\\n",
       "0 -0.965066  1.028274  0.228630  0.445138 -1.136602  0.135137  1.484537   \n",
       "1  0.132708 -0.476142  1.308473  0.195013  0.400210 -0.337632  1.256472   \n",
       "2 -0.539879  0.708160  0.842225  0.203581  2.394704  0.917459 -0.112272   \n",
       "3 -0.215790  0.989072  0.314754  2.467651 -1.508321  0.620601 -1.045133   \n",
       "4 -0.061912 -0.753893  0.711959  0.918269 -0.482093  0.089588  0.826999   \n",
       "\n",
       "       f_19  \n",
       "0 -1.079805  \n",
       "1 -0.731970  \n",
       "2 -0.362180  \n",
       "3 -0.798009  \n",
       "4 -1.954512  \n",
       "\n",
       "[5 rows x 30 columns]"
      ]
     },
     "execution_count": 3,
     "metadata": {},
     "output_type": "execute_result"
    }
   ],
   "source": [
    "n = 60000\n",
    "\n",
    "df_bias = gen_biased_dataset(n, seed=10)\n",
    "df_bias.head()"
   ]
  },
  {
   "cell_type": "markdown",
   "id": "badf3cd2",
   "metadata": {},
   "source": [
    "## Visualize Counterfactuals"
   ]
  },
  {
   "cell_type": "code",
   "execution_count": 4,
   "id": "8ad221a5",
   "metadata": {
    "ExecuteTime": {
     "end_time": "2024-05-30T14:45:33.434512Z",
     "start_time": "2024-05-30T14:45:33.337496Z"
    }
   },
   "outputs": [
    {
     "data": {
      "text/plain": [
       "<AxesSubplot:>"
      ]
     },
     "execution_count": 4,
     "metadata": {},
     "output_type": "execute_result"
    },
    {
     "data": {
      "image/png": "[encoded data removed]",
      "text/plain": [
       "<Figure size 432x288 with 1 Axes>"
      ]
     },
     "metadata": {
      "needs_background": "light"
     },
     "output_type": "display_data"
    }
   ],
   "source": [
    "df_bias[\"t\"].hist()"
   ]
  },
  {
   "cell_type": "code",
   "execution_count": 5,
   "id": "f21ff068",
   "metadata": {
    "ExecuteTime": {
     "end_time": "2024-05-30T14:45:33.595157Z",
     "start_time": "2024-05-30T14:45:33.436341Z"
    }
   },
   "outputs": [
    {
     "data": {
      "text/plain": [
       "<AxesSubplot:xlabel='t', ylabel='cf_y'>"
      ]
     },
     "execution_count": 5,
     "metadata": {},
     "output_type": "execute_result"
    },
    {
     "data": {
      "image/png": "[encoded data removed]",
      "text/plain": [
       "<Figure size 432x288 with 1 Axes>"
      ]
     },
     "metadata": {
      "needs_background": "light"
     },
     "output_type": "display_data"
    }
   ],
   "source": [
    "treatment_array = pd.DataFrame(dict(t=[10, 20, 30, 40], key=1))\n",
    "\n",
    "plt_df = (df_bias\n",
    " .sample(10, random_state=123)\n",
    " .reset_index()\n",
    " .assign(key=1)\n",
    " .drop(columns=[\"t\"])\n",
    " .merge(treatment_array)\n",
    " .assign(cf_y = lambda d: d[\"non_causal_y\"] + neg_exponential(d[\"t\"], d[\"convergence\"], d[\"asymptote\"]))\n",
    ")\n",
    "\n",
    "sns.lineplot(data=plt_df, x=\"t\", y=\"cf_y\", hue=\"index\")"
   ]
  },
  {
   "cell_type": "markdown",
   "id": "4727a604",
   "metadata": {},
   "source": [
    "## Visualize Bias "
   ]
  },
  {
   "cell_type": "code",
   "execution_count": 6,
   "id": "9f10dc58",
   "metadata": {
    "ExecuteTime": {
     "end_time": "2024-05-30T14:45:33.821057Z",
     "start_time": "2024-05-30T14:45:33.596885Z"
    }
   },
   "outputs": [
    {
     "data": {
      "text/plain": [
       "<AxesSubplot:xlabel='ps', ylabel='Count'>"
      ]
     },
     "execution_count": 6,
     "metadata": {},
     "output_type": "execute_result"
    },
    {
     "data": {
      "image/png": "[encoded data removed]",
      "text/plain": [
       "<Figure size 432x288 with 1 Axes>"
      ]
     },
     "metadata": {
      "needs_background": "light"
     },
     "output_type": "display_data"
    }
   ],
   "source": [
    "sns.histplot(\n",
    "    data=df_bias,\n",
    "    x=\"ps\",\n",
    "    hue=\"test\"\n",
    ")"
   ]
  },
  {
   "cell_type": "code",
   "execution_count": 7,
   "id": "8da62083",
   "metadata": {
    "ExecuteTime": {
     "end_time": "2024-05-30T14:45:33.829628Z",
     "start_time": "2024-05-30T14:45:33.822436Z"
    }
   },
   "outputs": [
    {
     "data": {
      "text/html": [
       "<div>\n",
       "<style scoped>\n",
       "    .dataframe tbody tr th:only-of-type {\n",
       "        vertical-align: middle;\n",
       "    }\n",
       "\n",
       "    .dataframe tbody tr th {\n",
       "        vertical-align: top;\n",
       "    }\n",
       "\n",
       "    .dataframe thead th {\n",
       "        text-align: right;\n",
       "    }\n",
       "</style>\n",
       "<table border=\"1\" class=\"dataframe\">\n",
       "  <thead>\n",
       "    <tr style=\"text-align: right;\">\n",
       "      <th></th>\n",
       "      <th>ps</th>\n",
       "      <th>confounder</th>\n",
       "      <th>test</th>\n",
       "    </tr>\n",
       "  </thead>\n",
       "  <tbody>\n",
       "    <tr>\n",
       "      <th>ps</th>\n",
       "      <td>1.000000</td>\n",
       "      <td>0.985942</td>\n",
       "      <td>0.405237</td>\n",
       "    </tr>\n",
       "    <tr>\n",
       "      <th>confounder</th>\n",
       "      <td>0.985942</td>\n",
       "      <td>1.000000</td>\n",
       "      <td>0.399335</td>\n",
       "    </tr>\n",
       "    <tr>\n",
       "      <th>test</th>\n",
       "      <td>0.405237</td>\n",
       "      <td>0.399335</td>\n",
       "      <td>1.000000</td>\n",
       "    </tr>\n",
       "  </tbody>\n",
       "</table>\n",
       "</div>"
      ],
      "text/plain": [
       "                  ps  confounder      test\n",
       "ps          1.000000    0.985942  0.405237\n",
       "confounder  0.985942    1.000000  0.399335\n",
       "test        0.405237    0.399335  1.000000"
      ]
     },
     "execution_count": 7,
     "metadata": {},
     "output_type": "execute_result"
    }
   ],
   "source": [
    "df_bias[[\"ps\", \"confounder\", \"test\"]].corr()"
   ]
  },
  {
   "cell_type": "code",
   "execution_count": 8,
   "id": "78a862ad",
   "metadata": {
    "ExecuteTime": {
     "end_time": "2024-05-30T14:45:37.784755Z",
     "start_time": "2024-05-30T14:45:33.830821Z"
    }
   },
   "outputs": [
    {
     "data": {
      "text/plain": [
       "array([0.68494733, 0.67762008, 0.67392235, 0.68193011, 0.68316415])"
      ]
     },
     "execution_count": 8,
     "metadata": {},
     "output_type": "execute_result"
    }
   ],
   "source": [
    "features = [f\"f_{i}\" for i in range(20)]\n",
    "cross_val_score(LGBMClassifier(), df_bias[features+[\"assigned_delta\"]], df_bias[\"test\"]*1, scoring=\"roc_auc\")"
   ]
  },
  {
   "cell_type": "markdown",
   "id": "9813e064",
   "metadata": {},
   "source": [
    "# Fit a Very Simple S-Learner"
   ]
  },
  {
   "cell_type": "code",
   "execution_count": 9,
   "id": "bbc9e75c",
   "metadata": {
    "ExecuteTime": {
     "end_time": "2024-05-30T14:45:37.794364Z",
     "start_time": "2024-05-30T14:45:37.785963Z"
    }
   },
   "outputs": [
    {
     "data": {
      "text/plain": [
       "((45000, 30), (15000, 30))"
      ]
     },
     "execution_count": 9,
     "metadata": {},
     "output_type": "execute_result"
    }
   ],
   "source": [
    "train_df, holdout_df = train_test_split(df_bias)\n",
    "train_df.shape, holdout_df.shape"
   ]
  },
  {
   "cell_type": "code",
   "execution_count": 10,
   "id": "822d40fc",
   "metadata": {
    "ExecuteTime": {
     "end_time": "2024-05-30T14:45:38.471364Z",
     "start_time": "2024-05-30T14:45:37.798205Z"
    }
   },
   "outputs": [
    {
     "data": {
      "text/plain": [
       "LGBMRegressor()"
      ]
     },
     "execution_count": 10,
     "metadata": {},
     "output_type": "execute_result"
    }
   ],
   "source": [
    "model = LGBMRegressor()\n",
    "model.fit(train_df[features+[\"t\"]], train_df[\"y\"])"
   ]
  },
  {
   "cell_type": "code",
   "execution_count": 11,
   "id": "495c04e0",
   "metadata": {
    "ExecuteTime": {
     "end_time": "2024-05-30T14:45:38.476891Z",
     "start_time": "2024-05-30T14:45:38.473103Z"
    }
   },
   "outputs": [],
   "source": [
    "def predict_from_model(df, model):\n",
    "    baseline=df[~df[\"test\"]][\"t\"].mean()\n",
    "    return  df.assign(\n",
    "        estimated_y = lambda d: model.predict(df[features+[\"t\"]]),\n",
    "        estimated_delta_y = lambda d: model.predict(d[features].assign(t=baseline+d[\"assigned_delta\"])) - model.predict(d[features].assign(t=baseline)),\n",
    "        estimated_delta_y_delta_t = lambda d: d[\"estimated_delta_y\"]/d[\"assigned_delta\"],\n",
    "        true_delta_y = lambda d: neg_exponential(baseline+d[\"assigned_delta\"], d[\"convergence\"], d[\"asymptote\"]) - neg_exponential(baseline, d[\"convergence\"], d[\"asymptote\"]),\n",
    "        true_delta_y_delta_t = lambda d: d[\"true_delta_y\"]/d[\"assigned_delta\"]\n",
    ").drop(columns=features)\n",
    "    "
   ]
  },
  {
   "cell_type": "code",
   "execution_count": 12,
   "id": "b4df75e6",
   "metadata": {
    "ExecuteTime": {
     "end_time": "2024-05-30T14:45:38.561656Z",
     "start_time": "2024-05-30T14:45:38.478162Z"
    }
   },
   "outputs": [
    {
     "data": {
      "text/html": [
       "<div>\n",
       "<style scoped>\n",
       "    .dataframe tbody tr th:only-of-type {\n",
       "        vertical-align: middle;\n",
       "    }\n",
       "\n",
       "    .dataframe tbody tr th {\n",
       "        vertical-align: top;\n",
       "    }\n",
       "\n",
       "    .dataframe thead th {\n",
       "        text-align: right;\n",
       "    }\n",
       "</style>\n",
       "<table border=\"1\" class=\"dataframe\">\n",
       "  <thead>\n",
       "    <tr style=\"text-align: right;\">\n",
       "      <th></th>\n",
       "      <th>y</th>\n",
       "      <th>non_causal_y</th>\n",
       "      <th>causal_y</th>\n",
       "      <th>t</th>\n",
       "      <th>test</th>\n",
       "      <th>assigned_delta</th>\n",
       "      <th>asymptote</th>\n",
       "      <th>convergence</th>\n",
       "      <th>confounder</th>\n",
       "      <th>ps</th>\n",
       "      <th>estimated_y</th>\n",
       "      <th>estimated_delta_y</th>\n",
       "      <th>estimated_delta_y_delta_t</th>\n",
       "      <th>true_delta_y</th>\n",
       "      <th>true_delta_y_delta_t</th>\n",
       "    </tr>\n",
       "  </thead>\n",
       "  <tbody>\n",
       "    <tr>\n",
       "      <th>33537</th>\n",
       "      <td>140.642332</td>\n",
       "      <td>80.368493</td>\n",
       "      <td>80.789669</td>\n",
       "      <td>30.0</td>\n",
       "      <td>True</td>\n",
       "      <td>20.0</td>\n",
       "      <td>103.000743</td>\n",
       "      <td>0.051138</td>\n",
       "      <td>-3.995453</td>\n",
       "      <td>0.372313</td>\n",
       "      <td>168.801000</td>\n",
       "      <td>52.075820</td>\n",
       "      <td>2.603791</td>\n",
       "      <td>39.555013</td>\n",
       "      <td>1.977751</td>\n",
       "    </tr>\n",
       "    <tr>\n",
       "      <th>56188</th>\n",
       "      <td>38.992464</td>\n",
       "      <td>73.940265</td>\n",
       "      <td>39.996369</td>\n",
       "      <td>10.0</td>\n",
       "      <td>False</td>\n",
       "      <td>10.0</td>\n",
       "      <td>111.120296</td>\n",
       "      <td>0.044619</td>\n",
       "      <td>-1.824206</td>\n",
       "      <td>0.480560</td>\n",
       "      <td>120.403829</td>\n",
       "      <td>24.848342</td>\n",
       "      <td>2.484834</td>\n",
       "      <td>25.600173</td>\n",
       "      <td>2.560017</td>\n",
       "    </tr>\n",
       "    <tr>\n",
       "      <th>32776</th>\n",
       "      <td>159.774608</td>\n",
       "      <td>114.226035</td>\n",
       "      <td>46.789327</td>\n",
       "      <td>10.0</td>\n",
       "      <td>False</td>\n",
       "      <td>20.0</td>\n",
       "      <td>108.931665</td>\n",
       "      <td>0.056129</td>\n",
       "      <td>-2.409467</td>\n",
       "      <td>0.450756</td>\n",
       "      <td>143.211253</td>\n",
       "      <td>44.566664</td>\n",
       "      <td>2.228333</td>\n",
       "      <td>41.918923</td>\n",
       "      <td>2.095946</td>\n",
       "    </tr>\n",
       "    <tr>\n",
       "      <th>250</th>\n",
       "      <td>149.037435</td>\n",
       "      <td>88.520643</td>\n",
       "      <td>105.769030</td>\n",
       "      <td>40.0</td>\n",
       "      <td>True</td>\n",
       "      <td>30.0</td>\n",
       "      <td>123.343797</td>\n",
       "      <td>0.048713</td>\n",
       "      <td>1.444476</td>\n",
       "      <td>0.643682</td>\n",
       "      <td>205.734339</td>\n",
       "      <td>66.830571</td>\n",
       "      <td>2.227686</td>\n",
       "      <td>58.206241</td>\n",
       "      <td>1.940208</td>\n",
       "    </tr>\n",
       "    <tr>\n",
       "      <th>42840</th>\n",
       "      <td>191.116356</td>\n",
       "      <td>83.516222</td>\n",
       "      <td>35.832857</td>\n",
       "      <td>10.0</td>\n",
       "      <td>False</td>\n",
       "      <td>20.0</td>\n",
       "      <td>95.926473</td>\n",
       "      <td>0.046768</td>\n",
       "      <td>-5.887181</td>\n",
       "      <td>0.287084</td>\n",
       "      <td>142.116621</td>\n",
       "      <td>33.922879</td>\n",
       "      <td>1.696144</td>\n",
       "      <td>36.510127</td>\n",
       "      <td>1.825506</td>\n",
       "    </tr>\n",
       "  </tbody>\n",
       "</table>\n",
       "</div>"
      ],
      "text/plain": [
       "                y  non_causal_y    causal_y     t   test  assigned_delta  \\\n",
       "33537  140.642332     80.368493   80.789669  30.0   True            20.0   \n",
       "56188   38.992464     73.940265   39.996369  10.0  False            10.0   \n",
       "32776  159.774608    114.226035   46.789327  10.0  False            20.0   \n",
       "250    149.037435     88.520643  105.769030  40.0   True            30.0   \n",
       "42840  191.116356     83.516222   35.832857  10.0  False            20.0   \n",
       "\n",
       "        asymptote  convergence  confounder        ps  estimated_y  \\\n",
       "33537  103.000743     0.051138   -3.995453  0.372313   168.801000   \n",
       "56188  111.120296     0.044619   -1.824206  0.480560   120.403829   \n",
       "32776  108.931665     0.056129   -2.409467  0.450756   143.211253   \n",
       "250    123.343797     0.048713    1.444476  0.643682   205.734339   \n",
       "42840   95.926473     0.046768   -5.887181  0.287084   142.116621   \n",
       "\n",
       "       estimated_delta_y  estimated_delta_y_delta_t  true_delta_y  \\\n",
       "33537          52.075820                   2.603791     39.555013   \n",
       "56188          24.848342                   2.484834     25.600173   \n",
       "32776          44.566664                   2.228333     41.918923   \n",
       "250            66.830571                   2.227686     58.206241   \n",
       "42840          33.922879                   1.696144     36.510127   \n",
       "\n",
       "       true_delta_y_delta_t  \n",
       "33537              1.977751  \n",
       "56188              2.560017  \n",
       "32776              2.095946  \n",
       "250                1.940208  \n",
       "42840              1.825506  "
      ]
     },
     "execution_count": 12,
     "metadata": {},
     "output_type": "execute_result"
    }
   ],
   "source": [
    "holdout_pred = predict_from_model(holdout_df, model)\n",
    "\n",
    "holdout_pred.head()"
   ]
  },
  {
   "cell_type": "markdown",
   "id": "8e031699",
   "metadata": {},
   "source": [
    "# Propensity Score Pseudo Target"
   ]
  },
  {
   "cell_type": "code",
   "execution_count": 13,
   "id": "7a666889",
   "metadata": {
    "ExecuteTime": {
     "end_time": "2024-05-30T14:45:40.371658Z",
     "start_time": "2024-05-30T14:45:38.562936Z"
    }
   },
   "outputs": [],
   "source": [
    "from sklearn.model_selection import KFold\n",
    "\n",
    "kf = KFold(n_splits=10)\n",
    "\n",
    "prob = np.zeros(len(holdout_df))\n",
    "\n",
    "for train_index, test_index in kf.split(holdout_df):\n",
    "    \n",
    "    modelt = LGBMClassifier()\n",
    "    \n",
    "    modelt.fit(holdout_df.iloc[train_index][features+[\"assigned_delta\"]], holdout_df.iloc[train_index][\"test\"]*1)\n",
    "    \n",
    "    prob[test_index] += modelt.predict_proba(holdout_df.iloc[test_index][features+[\"assigned_delta\"]])[:, 1]\n",
    "    \n"
   ]
  },
  {
   "cell_type": "markdown",
   "id": "8dc013c6",
   "metadata": {},
   "source": [
    "## Check Calibration"
   ]
  },
  {
   "cell_type": "code",
   "execution_count": 14,
   "id": "713372cb",
   "metadata": {
    "ExecuteTime": {
     "end_time": "2024-05-30T14:45:40.376391Z",
     "start_time": "2024-05-30T14:45:40.373273Z"
    }
   },
   "outputs": [
    {
     "data": {
      "text/plain": [
       "(0.5009563722490668, 0.5009333333333333)"
      ]
     },
     "execution_count": 14,
     "metadata": {},
     "output_type": "execute_result"
    }
   ],
   "source": [
    "prob.mean(), holdout_pred[\"test\"].mean()"
   ]
  },
  {
   "cell_type": "code",
   "execution_count": 15,
   "id": "603d3670",
   "metadata": {
    "ExecuteTime": {
     "end_time": "2024-05-30T14:45:40.490299Z",
     "start_time": "2024-05-30T14:45:40.377509Z"
    }
   },
   "outputs": [
    {
     "data": {
      "text/plain": [
       "[<matplotlib.lines.Line2D at 0x7fac981c0d90>]"
      ]
     },
     "execution_count": 15,
     "metadata": {},
     "output_type": "execute_result"
    },
    {
     "data": {
      "image/png": "[encoded data removed]",
      "text/plain": [
       "<Figure size 432x288 with 1 Axes>"
      ]
     },
     "metadata": {
      "needs_background": "light"
     },
     "output_type": "display_data"
    }
   ],
   "source": [
    "from sklearn.calibration import calibration_curve\n",
    "prob_true, prob_pred = calibration_curve(holdout_pred[\"test\"], prob,  n_bins=20, )\n",
    "\n",
    "plt.plot(prob_pred, prob_true)\n",
    "plt.plot([0, 1], [0, 1], color=\"black\", ls=\"dashed\") "
   ]
  },
  {
   "cell_type": "code",
   "execution_count": 16,
   "id": "6bd107c7",
   "metadata": {
    "ExecuteTime": {
     "end_time": "2024-05-30T14:45:40.495227Z",
     "start_time": "2024-05-30T14:45:40.491766Z"
    }
   },
   "outputs": [],
   "source": [
    "reisz = (holdout_pred[\"test\"]-prob)/np.clip(prob * (1 - prob), .01, np.inf)\n",
    "ips_tau_hat = holdout_pred[\"y\"]*reisz"
   ]
  },
  {
   "cell_type": "markdown",
   "id": "1a48620f",
   "metadata": {},
   "source": [
    "## Learning Curve"
   ]
  },
  {
   "cell_type": "code",
   "execution_count": 17,
   "id": "269429be",
   "metadata": {
    "ExecuteTime": {
     "end_time": "2024-05-30T14:45:43.739503Z",
     "start_time": "2024-05-30T14:45:40.496445Z"
    }
   },
   "outputs": [],
   "source": [
    "np.random.seed(321)\n",
    "\n",
    "def fit_model(df):\n",
    "    return LGBMRegressor().fit(df[features+[\"t\"]], df[\"y\"])\n",
    "\n",
    "sample_sizes = np.linspace(1000, train_df.shape[0], 15).astype(int)\n",
    "\n",
    "models = [fit_model(train_df.iloc[0:train_size])\n",
    "          for train_size in sample_sizes]\n"
   ]
  },
  {
   "cell_type": "markdown",
   "id": "a06ad34b",
   "metadata": {},
   "source": [
    "### Predictive Metric"
   ]
  },
  {
   "cell_type": "code",
   "execution_count": 18,
   "id": "5614a503",
   "metadata": {
    "ExecuteTime": {
     "end_time": "2024-05-30T14:45:44.752096Z",
     "start_time": "2024-05-30T14:45:43.740818Z"
    }
   },
   "outputs": [
    {
     "data": {
      "text/plain": [
       "<matplotlib.collections.PathCollection at 0x7fac980abfd0>"
      ]
     },
     "execution_count": 18,
     "metadata": {},
     "output_type": "execute_result"
    },
    {
     "data": {
      "image/png": "[encoded data removed]",
      "text/plain": [
       "<Figure size 432x288 with 1 Axes>"
      ]
     },
     "metadata": {
      "needs_background": "light"
     },
     "output_type": "display_data"
    }
   ],
   "source": [
    "corr_coef=[]\n",
    "for model, size in zip(models, sample_sizes):\n",
    "    pred_df = predict_from_model(holdout_df, model)\n",
    "    corr_coef.append(pred_df[[\"y\", \"estimated_y\"]].corr(method=\"spearman\")[\"y\"][\"estimated_y\"])\n",
    "    \n",
    "plt.scatter(sample_sizes, corr_coef)"
   ]
  },
  {
   "cell_type": "markdown",
   "id": "0ae52913",
   "metadata": {},
   "source": [
    "### Oracle Causal MSE"
   ]
  },
  {
   "cell_type": "code",
   "execution_count": 19,
   "id": "92cd9ff1",
   "metadata": {
    "ExecuteTime": {
     "end_time": "2024-05-30T14:45:45.641962Z",
     "start_time": "2024-05-30T14:45:44.753811Z"
    }
   },
   "outputs": [],
   "source": [
    "from sklearn.metrics import mean_squared_error\n",
    "\n",
    "mse = []\n",
    "for model, size in zip(models, sample_sizes):\n",
    "    pred_df = predict_from_model(holdout_df, model)\n",
    "    mse.append(mean_squared_error(pred_df[\"true_delta_y\"], pred_df[\"estimated_delta_y\"]))"
   ]
  },
  {
   "cell_type": "code",
   "execution_count": 20,
   "id": "f41425fd",
   "metadata": {
    "ExecuteTime": {
     "end_time": "2024-05-30T14:45:45.709952Z",
     "start_time": "2024-05-30T14:45:45.643380Z"
    }
   },
   "outputs": [
    {
     "data": {
      "text/plain": [
       "Text(0, 0.5, 'oracle causal mse')"
      ]
     },
     "execution_count": 20,
     "metadata": {},
     "output_type": "execute_result"
    },
    {
     "data": {
      "image/png": "[encoded data removed]",
      "text/plain": [
       "<Figure size 432x288 with 1 Axes>"
      ]
     },
     "metadata": {
      "needs_background": "light"
     },
     "output_type": "display_data"
    }
   ],
   "source": [
    "plt.scatter(sample_sizes, mse)\n",
    "plt.ylabel(\"oracle causal mse\")"
   ]
  },
  {
   "cell_type": "markdown",
   "id": "df648024",
   "metadata": {
    "ExecuteTime": {
     "end_time": "2024-05-15T13:25:04.447166Z",
     "start_time": "2024-05-15T13:25:04.364826Z"
    }
   },
   "source": [
    "### Feasible Causal MSE"
   ]
  },
  {
   "cell_type": "code",
   "execution_count": 21,
   "id": "0ae694ca",
   "metadata": {
    "ExecuteTime": {
     "end_time": "2024-05-30T14:45:46.583204Z",
     "start_time": "2024-05-30T14:45:45.711347Z"
    }
   },
   "outputs": [],
   "source": [
    "mse = []\n",
    "for model, size in zip(models, sample_sizes):\n",
    "    pred_df = predict_from_model(holdout_df, model)\n",
    "    mse.append(mean_squared_error(ips_tau_hat, pred_df[\"estimated_delta_y\"]))"
   ]
  },
  {
   "cell_type": "code",
   "execution_count": 22,
   "id": "253ab6c1",
   "metadata": {
    "ExecuteTime": {
     "end_time": "2024-05-30T14:45:46.661187Z",
     "start_time": "2024-05-30T14:45:46.584714Z"
    }
   },
   "outputs": [
    {
     "data": {
      "text/plain": [
       "Text(0, 0.5, 'feasible causal mse')"
      ]
     },
     "execution_count": 22,
     "metadata": {},
     "output_type": "execute_result"
    },
    {
     "data": {
      "image/png": "[encoded data removed]",
      "text/plain": [
       "<Figure size 432x288 with 1 Axes>"
      ]
     },
     "metadata": {
      "needs_background": "light"
     },
     "output_type": "display_data"
    }
   ],
   "source": [
    "plt.scatter(sample_sizes, mse)\n",
    "plt.ylabel(\"feasible causal mse\")"
   ]
  },
  {
   "cell_type": "markdown",
   "id": "3a0903fe",
   "metadata": {},
   "source": [
    "# Doubly Robust Pseudo Target"
   ]
  },
  {
   "cell_type": "code",
   "execution_count": 23,
   "id": "458cd7e8",
   "metadata": {
    "ExecuteTime": {
     "end_time": "2024-05-30T14:45:50.962852Z",
     "start_time": "2024-05-30T14:45:46.663188Z"
    }
   },
   "outputs": [],
   "source": [
    "from sklearn.model_selection import KFold\n",
    "\n",
    "kf = KFold(n_splits=10)\n",
    "\n",
    "\n",
    "y_given_t0 = np.zeros(len(holdout_df))\n",
    "y_given_t1 = np.zeros(len(holdout_df))\n",
    "prob = np.zeros(len(holdout_df))\n",
    "\n",
    "for train_index, test_index in kf.split(holdout_df):\n",
    "    \n",
    "    modely_t0 = LGBMRegressor()\n",
    "    modely_t1 = LGBMRegressor()\n",
    "    modelt = LGBMClassifier()\n",
    "    \n",
    "    modely_t0.fit(holdout_df.iloc[train_index].query(\"~test\")[features+[\"t\"]], holdout_df.iloc[train_index].query(\"~test\")[\"y\"])\n",
    "    modely_t1.fit(holdout_df.iloc[train_index].query(\"test\")[features+[\"t\"]], holdout_df.iloc[train_index].query(\"test\")[\"y\"])\n",
    "    modelt.fit(holdout_df.iloc[train_index][features+[\"assigned_delta\"]], holdout_df.iloc[train_index][\"test\"]*1)\n",
    "    \n",
    "    y_given_t0[test_index] += modely_t0.predict(holdout_df.iloc[test_index][features+[\"t\"]])\n",
    "    y_given_t1[test_index] += modely_t1.predict(holdout_df.iloc[test_index][features+[\"t\"]])\n",
    "    prob[test_index] += modelt.predict_proba(holdout_df.iloc[test_index][features+[\"assigned_delta\"]])[:, 1]\n",
    "    \n"
   ]
  },
  {
   "cell_type": "code",
   "execution_count": 24,
   "id": "aeb7c542",
   "metadata": {
    "ExecuteTime": {
     "end_time": "2024-05-30T14:45:50.969583Z",
     "start_time": "2024-05-30T14:45:50.964313Z"
    }
   },
   "outputs": [
    {
     "data": {
      "text/plain": [
       "(170.19183508877603, 184.00909932654253)"
      ]
     },
     "execution_count": 24,
     "metadata": {},
     "output_type": "execute_result"
    }
   ],
   "source": [
    "y_given_t1.mean(), holdout_df.query(\"test\")[\"y\"].mean()"
   ]
  },
  {
   "cell_type": "code",
   "execution_count": 25,
   "id": "5f4b7e5a",
   "metadata": {
    "ExecuteTime": {
     "end_time": "2024-05-30T14:45:50.975674Z",
     "start_time": "2024-05-30T14:45:50.970774Z"
    }
   },
   "outputs": [
    {
     "data": {
      "text/plain": [
       "(132.9832661242331, 131.68847625031802)"
      ]
     },
     "execution_count": 25,
     "metadata": {},
     "output_type": "execute_result"
    }
   ],
   "source": [
    "y_given_t0.mean(), holdout_df.query(\"~test\")[\"y\"].mean()"
   ]
  },
  {
   "cell_type": "code",
   "execution_count": 26,
   "id": "e9b0f77f",
   "metadata": {
    "ExecuteTime": {
     "end_time": "2024-05-30T14:45:50.980721Z",
     "start_time": "2024-05-30T14:45:50.977230Z"
    }
   },
   "outputs": [
    {
     "data": {
      "text/plain": [
       "(0.5009563722490668, 0.5009333333333333)"
      ]
     },
     "execution_count": 26,
     "metadata": {},
     "output_type": "execute_result"
    }
   ],
   "source": [
    "prob.mean(), holdout_df[\"test\"].mean()"
   ]
  },
  {
   "cell_type": "code",
   "execution_count": 27,
   "id": "25cee024",
   "metadata": {
    "ExecuteTime": {
     "end_time": "2024-05-30T14:45:50.986292Z",
     "start_time": "2024-05-30T14:45:50.982166Z"
    }
   },
   "outputs": [],
   "source": [
    "reg_preds_t = y_given_t0 * (1 - holdout_df[\"test\"]) + y_given_t1 * holdout_df[\"test\"]\n",
    "\n",
    "dr_tau = y_given_t1 - y_given_t0\n",
    "reisz = (holdout_df[\"test\"]-prob)/np.clip(prob * (1 - prob), .01, np.inf)\n",
    "dr_tau += (holdout_df[\"y\"] - reg_preds_t)*reisz"
   ]
  },
  {
   "cell_type": "markdown",
   "id": "1702c761",
   "metadata": {},
   "source": [
    "### Feasible Causal MSE"
   ]
  },
  {
   "cell_type": "code",
   "execution_count": 28,
   "id": "3c9e75f1",
   "metadata": {
    "ExecuteTime": {
     "end_time": "2024-05-30T14:45:51.894710Z",
     "start_time": "2024-05-30T14:45:50.995404Z"
    }
   },
   "outputs": [],
   "source": [
    "mse = []\n",
    "for model, size in zip(models, sample_sizes):\n",
    "    pred_df = predict_from_model(holdout_df, model)\n",
    "    mse.append(mean_squared_error(dr_tau, pred_df[\"estimated_delta_y\"]))"
   ]
  },
  {
   "cell_type": "code",
   "execution_count": 29,
   "id": "6adfa59c",
   "metadata": {
    "ExecuteTime": {
     "end_time": "2024-05-30T14:45:51.969739Z",
     "start_time": "2024-05-30T14:45:51.896396Z"
    }
   },
   "outputs": [
    {
     "data": {
      "text/plain": [
       "Text(0, 0.5, 'feasible causal mse')"
      ]
     },
     "execution_count": 29,
     "metadata": {},
     "output_type": "execute_result"
    },
    {
     "data": {
      "image/png": "[encoded data removed]",
      "text/plain": [
       "<Figure size 432x288 with 1 Axes>"
      ]
     },
     "metadata": {
      "needs_background": "light"
     },
     "output_type": "display_data"
    }
   ],
   "source": [
    "plt.scatter(sample_sizes, mse)\n",
    "plt.ylabel(\"feasible causal mse\")"
   ]
  },
  {
   "cell_type": "markdown",
   "id": "5820181c",
   "metadata": {},
   "source": [
    "# Double-ML Pseudo Target"
   ]
  },
  {
   "cell_type": "code",
   "execution_count": 30,
   "id": "936abaaf",
   "metadata": {
    "ExecuteTime": {
     "end_time": "2024-05-30T14:45:58.152097Z",
     "start_time": "2024-05-30T14:45:51.971315Z"
    }
   },
   "outputs": [],
   "source": [
    "from sklearn.model_selection import cross_val_predict\n",
    "\n",
    "\n",
    "model_t = LGBMClassifier()\n",
    "model_y = LGBMRegressor()\n",
    "\n",
    "t_res = holdout_df[\"test\"] - cross_val_predict(model_t, holdout_df[features+[\"assigned_delta\"]], holdout_df[\"test\"]*1, cv=10, method=\"predict_proba\")[:, 1]\n",
    "y_res = holdout_df[\"y\"] - cross_val_predict(model_y, holdout_df[features+[\"assigned_delta\"]], holdout_df[\"y\"], cv=10)\n",
    "\n",
    "w = t_res ** 2 \n",
    "tau_hat_dml = y_res / t_res"
   ]
  },
  {
   "cell_type": "markdown",
   "id": "eb2712f1",
   "metadata": {},
   "source": [
    "### Feasible Causal MSE"
   ]
  },
  {
   "cell_type": "code",
   "execution_count": 31,
   "id": "4c51a578",
   "metadata": {
    "ExecuteTime": {
     "end_time": "2024-05-30T14:45:59.012213Z",
     "start_time": "2024-05-30T14:45:58.153677Z"
    }
   },
   "outputs": [],
   "source": [
    "mse = []\n",
    "for model, size in zip(models, sample_sizes):\n",
    "    pred_df = predict_from_model(holdout_df, model)\n",
    "    mse.append(mean_squared_error(tau_hat_dml, pred_df[\"estimated_delta_y\"], sample_weight=w))"
   ]
  },
  {
   "cell_type": "code",
   "execution_count": 32,
   "id": "6b40be4b",
   "metadata": {
    "ExecuteTime": {
     "end_time": "2024-05-30T14:45:59.078742Z",
     "start_time": "2024-05-30T14:45:59.013462Z"
    }
   },
   "outputs": [
    {
     "data": {
      "text/plain": [
       "Text(0, 0.5, 'causal mse')"
      ]
     },
     "execution_count": 32,
     "metadata": {},
     "output_type": "execute_result"
    },
    {
     "data": {
      "image/png": "[encoded data removed]",
      "text/plain": [
       "<Figure size 432x288 with 1 Axes>"
      ]
     },
     "metadata": {
      "needs_background": "light"
     },
     "output_type": "display_data"
    }
   ],
   "source": [
    "plt.scatter(sample_sizes, mse)\n",
    "plt.ylabel(\"causal mse\")"
   ]
  },
  {
   "cell_type": "code",
   "execution_count": null,
   "id": "760a56dd",
   "metadata": {},
   "outputs": [],
   "source": []
  }
 ],
 "metadata": {
  "kernelspec": {
   "display_name": "Python [conda env:root] *",
   "language": "python",
   "name": "conda-root-py"
  },
  "language_info": {
   "codemirror_mode": {
    "name": "ipython",
    "version": 3
   },
   "file_extension": ".py",
   "mimetype": "text/x-python",
   "name": "python",
   "nbconvert_exporter": "python",
   "pygments_lexer": "ipython3",
   "version": "3.7.12"
  },
  "toc": {
   "base_numbering": 1,
   "nav_menu": {},
   "number_sections": true,
   "sideBar": true,
   "skip_h1_title": false,
   "title_cell": "Table of Contents",
   "title_sidebar": "Contents",
   "toc_cell": false,
   "toc_position": {},
   "toc_section_display": true,
   "toc_window_display": false
  },
  "varInspector": {
   "cols": {
    "lenName": 16,
    "lenType": 16,
    "lenVar": 40
   },
   "kernels_config": {
    "python": {
     "delete_cmd_postfix": "",
     "delete_cmd_prefix": "del ",
     "library": "var_list.py",
     "varRefreshCmd": "print(var_dic_list())"
    },
    "r": {
     "delete_cmd_postfix": ") ",
     "delete_cmd_prefix": "rm(",
     "library": "var_list.r",
     "varRefreshCmd": "cat(var_dic_list()) "
    }
   },
   "types_to_exclude": [
    "module",
    "function",
    "builtin_function_or_method",
    "instance",
    "_Feature"
   ],
   "window_display": false
  }
 },
 "nbformat": 4,
 "nbformat_minor": 5
}
