{
 "cells": [
  {
   "cell_type": "code",
   "execution_count": 1,
   "id": "f7f4576e",
   "metadata": {
    "ExecuteTime": {
     "end_time": "2022-12-21T18:01:21.440559Z",
     "start_time": "2022-12-21T18:01:20.440453Z"
    }
   },
   "outputs": [],
   "source": [
    "import pandas as pd\n",
    "import numpy as np\n",
    "from matplotlib import pyplot as plt"
   ]
  },
  {
   "cell_type": "code",
   "execution_count": 2,
   "id": "afbbd0bf",
   "metadata": {
    "ExecuteTime": {
     "end_time": "2022-12-21T18:01:22.138463Z",
     "start_time": "2022-12-21T18:01:21.442151Z"
    }
   },
   "outputs": [],
   "source": [
    "from sklearn.base import BaseEstimator, RegressorMixin\n",
    "from sklearn.utils.validation import check_X_y, check_array, check_is_fitted\n",
    "import cvxpy as cp\n",
    "\n",
    "class SyntheticControl(BaseEstimator, RegressorMixin):\n",
    "\n",
    "    def __init__(self,):\n",
    "        pass\n",
    "\n",
    "    def fit(self, X, y):\n",
    "\n",
    "        X, y = check_X_y(X, y)\n",
    "    \n",
    "        w = cp.Variable(X.shape[1])\n",
    "        objective = cp.Minimize(cp.sum_squares(X@w - y))\n",
    "        \n",
    "        constraints = [cp.sum(w) == 1, w >= 0]\n",
    "        \n",
    "        problem = cp.Problem(objective, constraints)\n",
    "        \n",
    "        self.loss_ = problem.solve(verbose=False)\n",
    "        \n",
    "        self.X_ = X\n",
    "        self.y_ = y\n",
    "        self.w_ = w.value\n",
    "        \n",
    "        self.is_fitted_ = True\n",
    "        return self\n",
    "        \n",
    "        \n",
    "    def predict(self, X):\n",
    "\n",
    "        check_is_fitted(self)\n",
    "        X = check_array(X)\n",
    "        \n",
    "        return X @ self.w_"
   ]
  },
  {
   "cell_type": "code",
   "execution_count": 3,
   "id": "982a186c",
   "metadata": {
    "ExecuteTime": {
     "end_time": "2022-12-21T18:01:22.198201Z",
     "start_time": "2022-12-21T18:01:22.139622Z"
    }
   },
   "outputs": [],
   "source": [
    "df = pd.read_csv(\"https://raw.githubusercontent.com/matheusfacure/python-causality-handbook/master/causal-inference-for-the-brave-and-true/data/smoking.csv\")"
   ]
  },
  {
   "cell_type": "code",
   "execution_count": 4,
   "id": "1f0814db",
   "metadata": {
    "ExecuteTime": {
     "end_time": "2022-12-21T18:01:22.212200Z",
     "start_time": "2022-12-21T18:01:22.200304Z"
    }
   },
   "outputs": [
    {
     "data": {
      "text/html": [
       "<div>\n",
       "<style scoped>\n",
       "    .dataframe tbody tr th:only-of-type {\n",
       "        vertical-align: middle;\n",
       "    }\n",
       "\n",
       "    .dataframe tbody tr th {\n",
       "        vertical-align: top;\n",
       "    }\n",
       "\n",
       "    .dataframe thead th {\n",
       "        text-align: right;\n",
       "    }\n",
       "</style>\n",
       "<table border=\"1\" class=\"dataframe\">\n",
       "  <thead>\n",
       "    <tr style=\"text-align: right;\">\n",
       "      <th></th>\n",
       "      <th>state</th>\n",
       "      <th>year</th>\n",
       "      <th>cigsale</th>\n",
       "      <th>lnincome</th>\n",
       "      <th>beer</th>\n",
       "      <th>age15to24</th>\n",
       "      <th>retprice</th>\n",
       "      <th>california</th>\n",
       "      <th>after_treatment</th>\n",
       "    </tr>\n",
       "  </thead>\n",
       "  <tbody>\n",
       "    <tr>\n",
       "      <th>0</th>\n",
       "      <td>1</td>\n",
       "      <td>1970</td>\n",
       "      <td>89.800003</td>\n",
       "      <td>NaN</td>\n",
       "      <td>NaN</td>\n",
       "      <td>0.178862</td>\n",
       "      <td>39.599998</td>\n",
       "      <td>False</td>\n",
       "      <td>False</td>\n",
       "    </tr>\n",
       "    <tr>\n",
       "      <th>1</th>\n",
       "      <td>1</td>\n",
       "      <td>1971</td>\n",
       "      <td>95.400002</td>\n",
       "      <td>NaN</td>\n",
       "      <td>NaN</td>\n",
       "      <td>0.179928</td>\n",
       "      <td>42.700001</td>\n",
       "      <td>False</td>\n",
       "      <td>False</td>\n",
       "    </tr>\n",
       "    <tr>\n",
       "      <th>2</th>\n",
       "      <td>1</td>\n",
       "      <td>1972</td>\n",
       "      <td>101.099998</td>\n",
       "      <td>9.498476</td>\n",
       "      <td>NaN</td>\n",
       "      <td>0.180994</td>\n",
       "      <td>42.299999</td>\n",
       "      <td>False</td>\n",
       "      <td>False</td>\n",
       "    </tr>\n",
       "    <tr>\n",
       "      <th>3</th>\n",
       "      <td>1</td>\n",
       "      <td>1973</td>\n",
       "      <td>102.900002</td>\n",
       "      <td>9.550107</td>\n",
       "      <td>NaN</td>\n",
       "      <td>0.182060</td>\n",
       "      <td>42.099998</td>\n",
       "      <td>False</td>\n",
       "      <td>False</td>\n",
       "    </tr>\n",
       "    <tr>\n",
       "      <th>4</th>\n",
       "      <td>1</td>\n",
       "      <td>1974</td>\n",
       "      <td>108.199997</td>\n",
       "      <td>9.537163</td>\n",
       "      <td>NaN</td>\n",
       "      <td>0.183126</td>\n",
       "      <td>43.099998</td>\n",
       "      <td>False</td>\n",
       "      <td>False</td>\n",
       "    </tr>\n",
       "  </tbody>\n",
       "</table>\n",
       "</div>"
      ],
      "text/plain": [
       "   state  year     cigsale  lnincome  beer  age15to24   retprice  california  \\\n",
       "0      1  1970   89.800003       NaN   NaN   0.178862  39.599998       False   \n",
       "1      1  1971   95.400002       NaN   NaN   0.179928  42.700001       False   \n",
       "2      1  1972  101.099998  9.498476   NaN   0.180994  42.299999       False   \n",
       "3      1  1973  102.900002  9.550107   NaN   0.182060  42.099998       False   \n",
       "4      1  1974  108.199997  9.537163   NaN   0.183126  43.099998       False   \n",
       "\n",
       "   after_treatment  \n",
       "0            False  \n",
       "1            False  \n",
       "2            False  \n",
       "3            False  \n",
       "4            False  "
      ]
     },
     "execution_count": 4,
     "metadata": {},
     "output_type": "execute_result"
    }
   ],
   "source": [
    "df.head()"
   ]
  },
  {
   "cell_type": "code",
   "execution_count": 5,
   "id": "a5e42384",
   "metadata": {
    "ExecuteTime": {
     "end_time": "2022-12-21T18:01:22.227419Z",
     "start_time": "2022-12-21T18:01:22.213638Z"
    }
   },
   "outputs": [
    {
     "data": {
      "text/html": [
       "<div>\n",
       "<style scoped>\n",
       "    .dataframe tbody tr th:only-of-type {\n",
       "        vertical-align: middle;\n",
       "    }\n",
       "\n",
       "    .dataframe tbody tr th {\n",
       "        vertical-align: top;\n",
       "    }\n",
       "\n",
       "    .dataframe thead th {\n",
       "        text-align: right;\n",
       "    }\n",
       "</style>\n",
       "<table border=\"1\" class=\"dataframe\">\n",
       "  <thead>\n",
       "    <tr style=\"text-align: right;\">\n",
       "      <th>year</th>\n",
       "      <th>1970</th>\n",
       "      <th>1971</th>\n",
       "      <th>1972</th>\n",
       "      <th>1973</th>\n",
       "      <th>1974</th>\n",
       "      <th>1975</th>\n",
       "      <th>1976</th>\n",
       "      <th>1977</th>\n",
       "      <th>1978</th>\n",
       "      <th>1979</th>\n",
       "      <th>...</th>\n",
       "      <th>1991</th>\n",
       "      <th>1992</th>\n",
       "      <th>1993</th>\n",
       "      <th>1994</th>\n",
       "      <th>1995</th>\n",
       "      <th>1996</th>\n",
       "      <th>1997</th>\n",
       "      <th>1998</th>\n",
       "      <th>1999</th>\n",
       "      <th>2000</th>\n",
       "    </tr>\n",
       "    <tr>\n",
       "      <th>state</th>\n",
       "      <th></th>\n",
       "      <th></th>\n",
       "      <th></th>\n",
       "      <th></th>\n",
       "      <th></th>\n",
       "      <th></th>\n",
       "      <th></th>\n",
       "      <th></th>\n",
       "      <th></th>\n",
       "      <th></th>\n",
       "      <th></th>\n",
       "      <th></th>\n",
       "      <th></th>\n",
       "      <th></th>\n",
       "      <th></th>\n",
       "      <th></th>\n",
       "      <th></th>\n",
       "      <th></th>\n",
       "      <th></th>\n",
       "      <th></th>\n",
       "      <th></th>\n",
       "    </tr>\n",
       "  </thead>\n",
       "  <tbody>\n",
       "    <tr>\n",
       "      <th>1</th>\n",
       "      <td>89.800003</td>\n",
       "      <td>95.400002</td>\n",
       "      <td>101.099998</td>\n",
       "      <td>102.900002</td>\n",
       "      <td>108.199997</td>\n",
       "      <td>111.699997</td>\n",
       "      <td>116.199997</td>\n",
       "      <td>117.099998</td>\n",
       "      <td>123.000000</td>\n",
       "      <td>121.400002</td>\n",
       "      <td>...</td>\n",
       "      <td>107.900002</td>\n",
       "      <td>109.099998</td>\n",
       "      <td>108.500000</td>\n",
       "      <td>107.099998</td>\n",
       "      <td>102.599998</td>\n",
       "      <td>101.400002</td>\n",
       "      <td>104.900002</td>\n",
       "      <td>106.199997</td>\n",
       "      <td>100.699997</td>\n",
       "      <td>96.199997</td>\n",
       "    </tr>\n",
       "    <tr>\n",
       "      <th>2</th>\n",
       "      <td>100.300003</td>\n",
       "      <td>104.099998</td>\n",
       "      <td>103.900002</td>\n",
       "      <td>108.000000</td>\n",
       "      <td>109.699997</td>\n",
       "      <td>114.800003</td>\n",
       "      <td>119.099998</td>\n",
       "      <td>122.599998</td>\n",
       "      <td>127.300003</td>\n",
       "      <td>126.500000</td>\n",
       "      <td>...</td>\n",
       "      <td>116.800003</td>\n",
       "      <td>126.000000</td>\n",
       "      <td>113.800003</td>\n",
       "      <td>108.800003</td>\n",
       "      <td>113.000000</td>\n",
       "      <td>110.699997</td>\n",
       "      <td>108.699997</td>\n",
       "      <td>109.500000</td>\n",
       "      <td>104.800003</td>\n",
       "      <td>99.400002</td>\n",
       "    </tr>\n",
       "    <tr>\n",
       "      <th>3</th>\n",
       "      <td>123.000000</td>\n",
       "      <td>121.000000</td>\n",
       "      <td>123.500000</td>\n",
       "      <td>124.400002</td>\n",
       "      <td>126.699997</td>\n",
       "      <td>127.099998</td>\n",
       "      <td>128.000000</td>\n",
       "      <td>126.400002</td>\n",
       "      <td>126.099998</td>\n",
       "      <td>121.900002</td>\n",
       "      <td>...</td>\n",
       "      <td>68.699997</td>\n",
       "      <td>67.500000</td>\n",
       "      <td>63.400002</td>\n",
       "      <td>58.599998</td>\n",
       "      <td>56.400002</td>\n",
       "      <td>54.500000</td>\n",
       "      <td>53.799999</td>\n",
       "      <td>52.299999</td>\n",
       "      <td>47.200001</td>\n",
       "      <td>41.599998</td>\n",
       "    </tr>\n",
       "    <tr>\n",
       "      <th>4</th>\n",
       "      <td>124.800003</td>\n",
       "      <td>125.500000</td>\n",
       "      <td>134.300003</td>\n",
       "      <td>137.899994</td>\n",
       "      <td>132.800003</td>\n",
       "      <td>131.000000</td>\n",
       "      <td>134.199997</td>\n",
       "      <td>132.000000</td>\n",
       "      <td>129.199997</td>\n",
       "      <td>131.500000</td>\n",
       "      <td>...</td>\n",
       "      <td>90.199997</td>\n",
       "      <td>88.300003</td>\n",
       "      <td>88.599998</td>\n",
       "      <td>89.099998</td>\n",
       "      <td>85.400002</td>\n",
       "      <td>83.099998</td>\n",
       "      <td>81.300003</td>\n",
       "      <td>81.199997</td>\n",
       "      <td>79.599998</td>\n",
       "      <td>73.000000</td>\n",
       "    </tr>\n",
       "    <tr>\n",
       "      <th>5</th>\n",
       "      <td>120.000000</td>\n",
       "      <td>117.599998</td>\n",
       "      <td>110.800003</td>\n",
       "      <td>109.300003</td>\n",
       "      <td>112.400002</td>\n",
       "      <td>110.199997</td>\n",
       "      <td>113.400002</td>\n",
       "      <td>117.300003</td>\n",
       "      <td>117.500000</td>\n",
       "      <td>117.400002</td>\n",
       "      <td>...</td>\n",
       "      <td>86.699997</td>\n",
       "      <td>83.500000</td>\n",
       "      <td>79.099998</td>\n",
       "      <td>76.599998</td>\n",
       "      <td>79.300003</td>\n",
       "      <td>76.000000</td>\n",
       "      <td>75.900002</td>\n",
       "      <td>75.500000</td>\n",
       "      <td>73.400002</td>\n",
       "      <td>71.400002</td>\n",
       "    </tr>\n",
       "  </tbody>\n",
       "</table>\n",
       "<p>5 rows × 31 columns</p>\n",
       "</div>"
      ],
      "text/plain": [
       "year         1970        1971        1972        1973        1974        1975  \\\n",
       "state                                                                           \n",
       "1       89.800003   95.400002  101.099998  102.900002  108.199997  111.699997   \n",
       "2      100.300003  104.099998  103.900002  108.000000  109.699997  114.800003   \n",
       "3      123.000000  121.000000  123.500000  124.400002  126.699997  127.099998   \n",
       "4      124.800003  125.500000  134.300003  137.899994  132.800003  131.000000   \n",
       "5      120.000000  117.599998  110.800003  109.300003  112.400002  110.199997   \n",
       "\n",
       "year         1976        1977        1978        1979  ...        1991  \\\n",
       "state                                                  ...               \n",
       "1      116.199997  117.099998  123.000000  121.400002  ...  107.900002   \n",
       "2      119.099998  122.599998  127.300003  126.500000  ...  116.800003   \n",
       "3      128.000000  126.400002  126.099998  121.900002  ...   68.699997   \n",
       "4      134.199997  132.000000  129.199997  131.500000  ...   90.199997   \n",
       "5      113.400002  117.300003  117.500000  117.400002  ...   86.699997   \n",
       "\n",
       "year         1992        1993        1994        1995        1996        1997  \\\n",
       "state                                                                           \n",
       "1      109.099998  108.500000  107.099998  102.599998  101.400002  104.900002   \n",
       "2      126.000000  113.800003  108.800003  113.000000  110.699997  108.699997   \n",
       "3       67.500000   63.400002   58.599998   56.400002   54.500000   53.799999   \n",
       "4       88.300003   88.599998   89.099998   85.400002   83.099998   81.300003   \n",
       "5       83.500000   79.099998   76.599998   79.300003   76.000000   75.900002   \n",
       "\n",
       "year         1998        1999       2000  \n",
       "state                                     \n",
       "1      106.199997  100.699997  96.199997  \n",
       "2      109.500000  104.800003  99.400002  \n",
       "3       52.299999   47.200001  41.599998  \n",
       "4       81.199997   79.599998  73.000000  \n",
       "5       75.500000   73.400002  71.400002  \n",
       "\n",
       "[5 rows x 31 columns]"
      ]
     },
     "execution_count": 5,
     "metadata": {},
     "output_type": "execute_result"
    }
   ],
   "source": [
    "df_sc = df.pivot(\"state\", \"year\", \"cigsale\")\n",
    "\n",
    "df_sc.head()"
   ]
  },
  {
   "cell_type": "code",
   "execution_count": 6,
   "id": "d4534f3c",
   "metadata": {
    "ExecuteTime": {
     "end_time": "2022-12-21T18:01:22.260442Z",
     "start_time": "2022-12-21T18:01:22.228885Z"
    }
   },
   "outputs": [
    {
     "name": "stdout",
     "output_type": "stream",
     "text": [
      "SC ATT:  -19.5136\n"
     ]
    }
   ],
   "source": [
    "sc_model = SyntheticControl()\n",
    "\n",
    "y_co_pre = df.query(\"~after_treatment\").query(\"~california\").pivot(\"year\", \"state\", \"cigsale\")\n",
    "y_tr_pre = df.query(\"~after_treatment\").query(\"california\")[\"cigsale\"]\n",
    "\n",
    "sc_model.fit(y_co_pre, y_tr_pre)\n",
    "sc_weights = pd.Series(sc_model.w_, index=y_co_pre.columns, name=\"sc_w\")\n",
    "\n",
    "sc = df.query(\"~california\").pivot(\"year\", \"state\", \"cigsale\").dot(sc_weights)\n",
    "\n",
    "att = df.query(\"california\")[\"cigsale\"][sc.index > 1988].mean() - sc[sc.index > 1988].mean()\n",
    "\n",
    "print(\"SC ATT: \", att.round(4))"
   ]
  },
  {
   "cell_type": "code",
   "execution_count": 7,
   "id": "facb2e5c",
   "metadata": {
    "ExecuteTime": {
     "end_time": "2022-12-21T18:01:22.338288Z",
     "start_time": "2022-12-21T18:01:22.261906Z"
    }
   },
   "outputs": [
    {
     "data": {
      "image/png": "[encoded data removed]",
      "text/plain": [
       "<Figure size 432x288 with 1 Axes>"
      ]
     },
     "metadata": {
      "needs_background": "light"
     },
     "output_type": "display_data"
    }
   ],
   "source": [
    "plt.plot(sc)\n",
    "plt.plot(df_sc.loc[3]);"
   ]
  },
  {
   "cell_type": "code",
   "execution_count": 8,
   "id": "d4587d09",
   "metadata": {
    "ExecuteTime": {
     "end_time": "2022-12-21T18:01:22.346806Z",
     "start_time": "2022-12-21T18:01:22.339872Z"
    }
   },
   "outputs": [],
   "source": [
    "df_sc = df.query(\"~after_treatment\").query(\"~california\").pivot(\"year\", \"state\", \"cigsale\")\n",
    "all_geos = list(df_sc.columns)\n",
    "\n",
    "y_mean_pre = df_sc.mean(axis=1)"
   ]
  },
  {
   "cell_type": "code",
   "execution_count": 9,
   "id": "bd7267f6",
   "metadata": {
    "ExecuteTime": {
     "end_time": "2022-12-21T18:01:22.447247Z",
     "start_time": "2022-12-21T18:01:22.348528Z"
    }
   },
   "outputs": [
    {
     "data": {
      "text/plain": [
       "[<matplotlib.lines.Line2D at 0x7f9a0cb7cd90>]"
      ]
     },
     "execution_count": 9,
     "metadata": {},
     "output_type": "execute_result"
    },
    {
     "data": {
      "image/png": "[encoded data removed]",
      "text/plain": [
       "<Figure size 432x288 with 1 Axes>"
      ]
     },
     "metadata": {
      "needs_background": "light"
     },
     "output_type": "display_data"
    }
   ],
   "source": [
    "df_sc.plot(color=\"C0\", legend=None)\n",
    "plt.plot(y_mean_pre, color=\"C1\")"
   ]
  },
  {
   "cell_type": "code",
   "execution_count": 10,
   "id": "604e048e",
   "metadata": {
    "ExecuteTime": {
     "end_time": "2022-12-21T18:01:22.455696Z",
     "start_time": "2022-12-21T18:01:22.451284Z"
    }
   },
   "outputs": [],
   "source": [
    "from cvxpy.error import SolverError\n",
    "\n",
    "np.random.seed(1)\n",
    "\n",
    "def try_sc(geos, df_sc, y_mean_pre):\n",
    "    model = SyntheticControl()\n",
    "    y_co_pre = df_sc[geos]\n",
    "    model.fit(y_co_pre, y_mean_pre)\n",
    "    sc_weights = pd.Series(model.w_, index=y_co_pre.columns, name=\"sc_w\")\n",
    "    selected_geos = list(sc_weights[sc_weights.abs() > 1e-5].index)\n",
    "    \n",
    "    return {\n",
    "        \"geos\": sorted(selected_geos),\n",
    "        \"loss\": model.loss_\n",
    "    }\n",
    "\n",
    "\n",
    "def try_sc_st_combination(treatment_geos, df_sc, y_mean_pre):\n",
    "    \n",
    "    treatment_result = try_sc(treatment_geos, df_sc, y_mean_pre)\n",
    "    remaining_geos = list(df_sc.drop(columns=treatment_result[\"geos\"]).columns)\n",
    "    \n",
    "    control_result = try_sc(remaining_geos, df_sc, y_mean_pre)\n",
    "\n",
    "    return {\n",
    "        \"st_geos\": treatment_result[\"geos\"],\n",
    "        \"sc_geos\": control_result[\"geos\"],\n",
    "        \"loss\": treatment_result[\"loss\"] + control_result[\"loss\"],\n",
    "    }\n",
    "        "
   ]
  },
  {
   "cell_type": "markdown",
   "id": "d1da4e9b",
   "metadata": {},
   "source": [
    "## Random Search"
   ]
  },
  {
   "cell_type": "code",
   "execution_count": 11,
   "id": "cd7ea30f",
   "metadata": {
    "ExecuteTime": {
     "end_time": "2022-12-21T18:01:33.218581Z",
     "start_time": "2022-12-21T18:01:22.457134Z"
    }
   },
   "outputs": [
    {
     "data": {
      "text/plain": [
       "1.0881790679599046"
      ]
     },
     "execution_count": 11,
     "metadata": {},
     "output_type": "execute_result"
    }
   ],
   "source": [
    "np.random.seed(123)\n",
    "\n",
    "results = [\n",
    "    try_sc_st_combination(np.random.choice(all_geos, 10, replace=False),\n",
    "                          df_sc, \n",
    "                          y_mean_pre)\n",
    "    for _ in range(1000)\n",
    "]\n",
    "\n",
    "min(map(lambda x: x.get(\"loss\"), results))"
   ]
  },
  {
   "cell_type": "markdown",
   "id": "f7e4c5fb",
   "metadata": {},
   "source": [
    "## Genetic Optimization"
   ]
  },
  {
   "cell_type": "code",
   "execution_count": 12,
   "id": "f5d6cae1",
   "metadata": {
    "ExecuteTime": {
     "end_time": "2022-12-21T18:01:45.668989Z",
     "start_time": "2022-12-21T18:01:33.219787Z"
    }
   },
   "outputs": [],
   "source": [
    "from scipy.optimize import differential_evolution\n",
    "\n",
    "np.random.seed(123)\n",
    "\n",
    "bounds  = [(0, 1) for _ in range(len(df_sc.columns))]\n",
    "def gen_opt(x):\n",
    "    n = 10\n",
    "    geos = df_sc.iloc[:, list(np.argpartition(x, -n)[-n:])].columns\n",
    "    return try_sc_st_combination(geos, df_sc, y_mean_pre)[\"loss\"]\n",
    "\n",
    "opt_result = differential_evolution(gen_opt, bounds, maxiter=5, popsize=5)"
   ]
  },
  {
   "cell_type": "code",
   "execution_count": 13,
   "id": "aaae892a",
   "metadata": {
    "ExecuteTime": {
     "end_time": "2022-12-21T18:01:45.673477Z",
     "start_time": "2022-12-21T18:01:45.670115Z"
    }
   },
   "outputs": [
    {
     "data": {
      "text/plain": [
       "     fun: 0.6779917637559285\n",
       " message: 'Maximum number of iterations has been exceeded.'\n",
       "    nfev: 1179\n",
       "     nit: 5\n",
       " success: False\n",
       "       x: array([0.75850693, 0.58042525, 0.35312658, 0.17752842, 0.28766515,\n",
       "       0.99947412, 0.33924905, 0.0636441 , 0.89929952, 0.22700994,\n",
       "       0.72567478, 0.85614685, 0.63911068, 0.12299494, 0.40145186,\n",
       "       0.84714601, 0.28928038, 0.38094207, 0.85600397, 0.069389  ,\n",
       "       0.87670974, 0.64900987, 0.55056372, 0.60003314, 0.62120561,\n",
       "       0.57769525, 0.94932882, 0.92084231, 0.60046146, 0.87857607,\n",
       "       0.09592043, 0.17985356, 0.81333173, 0.62565503, 0.17839289,\n",
       "       0.1313019 , 0.09595326, 0.6973101 ])"
      ]
     },
     "execution_count": 13,
     "metadata": {},
     "output_type": "execute_result"
    }
   ],
   "source": [
    "opt_result"
   ]
  },
  {
   "cell_type": "code",
   "execution_count": 14,
   "id": "a79e708b",
   "metadata": {
    "ExecuteTime": {
     "end_time": "2022-12-21T18:01:45.678805Z",
     "start_time": "2022-12-21T18:01:45.674792Z"
    }
   },
   "outputs": [
    {
     "data": {
      "text/plain": [
       "[7, 10, 13, 17, 20, 22, 28, 29, 31, 34]"
      ]
     },
     "execution_count": 14,
     "metadata": {},
     "output_type": "execute_result"
    }
   ],
   "source": [
    "st = sorted(list(df_sc.iloc[:, list(np.argpartition(opt_result.x, -10)[-10:])].columns))\n",
    "st"
   ]
  },
  {
   "cell_type": "code",
   "execution_count": 15,
   "id": "e1245fdf",
   "metadata": {
    "ExecuteTime": {
     "end_time": "2022-12-21T18:01:45.691064Z",
     "start_time": "2022-12-21T18:01:45.680102Z"
    }
   },
   "outputs": [
    {
     "data": {
      "text/plain": [
       "0.677935524550849"
      ]
     },
     "execution_count": 15,
     "metadata": {},
     "output_type": "execute_result"
    }
   ],
   "source": [
    "try_sc(st, df_sc, y_mean_pre)[\"loss\"]"
   ]
  },
  {
   "cell_type": "code",
   "execution_count": 16,
   "id": "a347cd60",
   "metadata": {
    "ExecuteTime": {
     "end_time": "2022-12-21T18:01:45.704054Z",
     "start_time": "2022-12-21T18:01:45.692799Z"
    }
   },
   "outputs": [
    {
     "data": {
      "text/plain": [
       "5.6239205021309596e-05"
      ]
     },
     "execution_count": 16,
     "metadata": {},
     "output_type": "execute_result"
    }
   ],
   "source": [
    "try_sc(list(df_sc.drop(columns=st).columns), df_sc, y_mean_pre)[\"loss\"]"
   ]
  },
  {
   "cell_type": "markdown",
   "id": "5df83fed",
   "metadata": {},
   "source": [
    "## GA by Hand"
   ]
  },
  {
   "cell_type": "code",
   "execution_count": 17,
   "id": "383fc017",
   "metadata": {
    "ExecuteTime": {
     "end_time": "2022-12-21T18:01:56.126400Z",
     "start_time": "2022-12-21T18:01:45.705732Z"
    }
   },
   "outputs": [],
   "source": [
    "from toolz import reduce\n",
    "from operator import add\n",
    "\n",
    "# np.random.seed(1)\n",
    "\n",
    "def gen_population(geos, n_tr, pop_size=20):\n",
    "    return [np.random.choice(geos, n_tr, replace=False) \n",
    "            for _ in range(pop_size)]\n",
    "\n",
    "\n",
    "def top_k_fittest(population, df_sc, y_mean_pre, k=2):\n",
    "    results = [try_sc_st_combination(geos, df_sc, y_mean_pre)\n",
    "              for geos in population]\n",
    "    \n",
    "    return sorted(results, key=lambda x:x.get(\"loss\"))[:k]\n",
    "\n",
    "\n",
    "def get_top_geos(top_results):\n",
    "    return set(reduce(add, map(lambda x: x[\"st_geos\"], top_results)))\n",
    "    \n",
    "    \n",
    "def mutate(top_geos, geos, n_mutations=5):\n",
    "    mutations = np.random.choice([i for i in all_geos if i not in top_geos],\n",
    "                                 n_mutations,\n",
    "                                 replace=False)\n",
    "    return top_geos.union(set(mutations))\n",
    "\n",
    "\n",
    "\n",
    "def genetict_opt(all_geos,\n",
    "                 df_sc,\n",
    "                 y_mean_pre,\n",
    "                 iterations=10,\n",
    "                 n_tr=10,\n",
    "                 parents=3,\n",
    "                 pop_size=20,\n",
    "                 n_mutations=3):\n",
    "    \n",
    "    population = gen_population(all_geos, n_tr=n_tr, pop_size=pop_size)\n",
    "    \n",
    "    best_results = []\n",
    "    \n",
    "    for _ in range(iterations):\n",
    "        top_results = top_k_fittest(population, df_sc, y_mean_pre, k=parents)\n",
    "        top_geos = get_top_geos(top_results)\n",
    "        top_with_mutations = mutate(top_geos, all_geos, n_mutations=n_mutations)\n",
    "        population = gen_population(list(top_with_mutations), n_tr=n_tr, pop_size=pop_size)\n",
    "        \n",
    "        best_results += [top_results[0]]\n",
    "        \n",
    "    return best_results\n",
    "\n",
    "final_result = genetict_opt(all_geos, df_sc, y_mean_pre, n_tr=10, pop_size=20, iterations=50, parents=3)"
   ]
  },
  {
   "cell_type": "code",
   "execution_count": 18,
   "id": "f9b660ab",
   "metadata": {
    "ExecuteTime": {
     "end_time": "2022-12-21T18:01:56.130415Z",
     "start_time": "2022-12-21T18:01:56.127593Z"
    }
   },
   "outputs": [
    {
     "data": {
      "text/plain": [
       "0.4665395692313691"
      ]
     },
     "execution_count": 18,
     "metadata": {},
     "output_type": "execute_result"
    }
   ],
   "source": [
    "min(map(lambda x: x.get(\"loss\"), final_result))\n",
    "# final_result"
   ]
  },
  {
   "cell_type": "code",
   "execution_count": 19,
   "id": "c37d1ac0",
   "metadata": {
    "ExecuteTime": {
     "end_time": "2022-12-21T18:01:56.195508Z",
     "start_time": "2022-12-21T18:01:56.132188Z"
    }
   },
   "outputs": [
    {
     "data": {
      "text/plain": [
       "[<matplotlib.lines.Line2D at 0x7f9a0cd73150>]"
      ]
     },
     "execution_count": 19,
     "metadata": {},
     "output_type": "execute_result"
    },
    {
     "data": {
      "image/png": "[encoded data removed]",
      "text/plain": [
       "<Figure size 432x288 with 1 Axes>"
      ]
     },
     "metadata": {
      "needs_background": "light"
     },
     "output_type": "display_data"
    }
   ],
   "source": [
    "plt.plot(list(map(lambda x: x.get(\"loss\"), final_result)))"
   ]
  }
 ],
 "metadata": {
  "kernelspec": {
   "display_name": "Python [conda env:root] *",
   "language": "python",
   "name": "conda-root-py"
  },
  "language_info": {
   "codemirror_mode": {
    "name": "ipython",
    "version": 3
   },
   "file_extension": ".py",
   "mimetype": "text/x-python",
   "name": "python",
   "nbconvert_exporter": "python",
   "pygments_lexer": "ipython3",
   "version": "3.7.12"
  },
  "toc": {
   "base_numbering": 1,
   "nav_menu": {},
   "number_sections": true,
   "sideBar": true,
   "skip_h1_title": false,
   "title_cell": "Table of Contents",
   "title_sidebar": "Contents",
   "toc_cell": false,
   "toc_position": {},
   "toc_section_display": true,
   "toc_window_display": false
  },
  "varInspector": {
   "cols": {
    "lenName": 16,
    "lenType": 16,
    "lenVar": 40
   },
   "kernels_config": {
    "python": {
     "delete_cmd_postfix": "",
     "delete_cmd_prefix": "del ",
     "library": "var_list.py",
     "varRefreshCmd": "print(var_dic_list())"
    },
    "r": {
     "delete_cmd_postfix": ") ",
     "delete_cmd_prefix": "rm(",
     "library": "var_list.r",
     "varRefreshCmd": "cat(var_dic_list()) "
    }
   },
   "types_to_exclude": [
    "module",
    "function",
    "builtin_function_or_method",
    "instance",
    "_Feature"
   ],
   "window_display": false
  }
 },
 "nbformat": 4,
 "nbformat_minor": 5
}
